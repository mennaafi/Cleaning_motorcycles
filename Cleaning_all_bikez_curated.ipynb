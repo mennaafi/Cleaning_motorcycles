{
 "cells": [
  {
   "cell_type": "code",
   "execution_count": 1493,
   "id": "35bb0bcc",
   "metadata": {},
   "outputs": [],
   "source": [
    "import warnings\n",
    "warnings.filterwarnings('ignore')"
   ]
  },
  {
   "cell_type": "code",
   "execution_count": 1494,
   "id": "4f643d02",
   "metadata": {},
   "outputs": [],
   "source": [
    "import pandas as pd\n",
    "import numpy as np\n",
    "import matplotlib.pyplot as plt\n",
    "import seaborn as sns\n",
    "import datetime as dt\n",
    "from fuzzywuzzy import fuzz, process"
   ]
  },
  {
   "cell_type": "code",
   "execution_count": 1495,
   "id": "1902a38e",
   "metadata": {},
   "outputs": [],
   "source": [
    "data = pd.read_csv('all_bikez_curated (1) (1).csv')"
   ]
  },
  {
   "cell_type": "code",
   "execution_count": 1496,
   "id": "ff662b56",
   "metadata": {},
   "outputs": [
    {
     "data": {
      "text/html": [
       "<div>\n",
       "<style scoped>\n",
       "    .dataframe tbody tr th:only-of-type {\n",
       "        vertical-align: middle;\n",
       "    }\n",
       "\n",
       "    .dataframe tbody tr th {\n",
       "        vertical-align: top;\n",
       "    }\n",
       "\n",
       "    .dataframe thead th {\n",
       "        text-align: right;\n",
       "    }\n",
       "</style>\n",
       "<table border=\"1\" class=\"dataframe\">\n",
       "  <thead>\n",
       "    <tr style=\"text-align: right;\">\n",
       "      <th></th>\n",
       "      <th>Brand</th>\n",
       "      <th>Model</th>\n",
       "      <th>Year</th>\n",
       "      <th>Category</th>\n",
       "      <th>Displacement (ccm)</th>\n",
       "      <th>Power (hp)</th>\n",
       "      <th>Engine cylinder</th>\n",
       "      <th>Engine stroke</th>\n",
       "      <th>Gearbox</th>\n",
       "      <th>Fuel capacity (lts)</th>\n",
       "      <th>Fuel system</th>\n",
       "      <th>Fuel control</th>\n",
       "      <th>Cooling system</th>\n",
       "      <th>Transmission type</th>\n",
       "      <th>Dry weight (kg)</th>\n",
       "      <th>Wheelbase (mm)</th>\n",
       "      <th>Seat height (mm)</th>\n",
       "    </tr>\n",
       "  </thead>\n",
       "  <tbody>\n",
       "    <tr>\n",
       "      <th>0</th>\n",
       "      <td>acabion</td>\n",
       "      <td>da vinci 650-vi</td>\n",
       "      <td>2011</td>\n",
       "      <td>Prototype / concept model</td>\n",
       "      <td>NaN</td>\n",
       "      <td>804.0</td>\n",
       "      <td>Electric</td>\n",
       "      <td>Electric</td>\n",
       "      <td>NaN</td>\n",
       "      <td>NaN</td>\n",
       "      <td>NaN</td>\n",
       "      <td>NaN</td>\n",
       "      <td>Liquid</td>\n",
       "      <td>Chain</td>\n",
       "      <td>420.0</td>\n",
       "      <td>NaN</td>\n",
       "      <td>NaN</td>\n",
       "    </tr>\n",
       "    <tr>\n",
       "      <th>1</th>\n",
       "      <td>acabion</td>\n",
       "      <td>gtbo 55</td>\n",
       "      <td>2007</td>\n",
       "      <td>Sport</td>\n",
       "      <td>1300.0</td>\n",
       "      <td>541.0</td>\n",
       "      <td>In-line four</td>\n",
       "      <td>four-stroke</td>\n",
       "      <td>6-speed</td>\n",
       "      <td>NaN</td>\n",
       "      <td>Turbo. KKK Acabion Extended</td>\n",
       "      <td>NaN</td>\n",
       "      <td>Liquid</td>\n",
       "      <td>NaN</td>\n",
       "      <td>360.0</td>\n",
       "      <td>NaN</td>\n",
       "      <td>NaN</td>\n",
       "    </tr>\n",
       "    <tr>\n",
       "      <th>2</th>\n",
       "      <td>acabion</td>\n",
       "      <td>gtbo 600 daytona-vi</td>\n",
       "      <td>2011</td>\n",
       "      <td>Prototype / concept model</td>\n",
       "      <td>NaN</td>\n",
       "      <td>536.0</td>\n",
       "      <td>Electric</td>\n",
       "      <td>Electric</td>\n",
       "      <td>NaN</td>\n",
       "      <td>NaN</td>\n",
       "      <td>NaN</td>\n",
       "      <td>NaN</td>\n",
       "      <td>Liquid</td>\n",
       "      <td>NaN</td>\n",
       "      <td>420.0</td>\n",
       "      <td>NaN</td>\n",
       "      <td>NaN</td>\n",
       "    </tr>\n",
       "    <tr>\n",
       "      <th>3</th>\n",
       "      <td>acabion</td>\n",
       "      <td>gtbo 600 daytona-vi</td>\n",
       "      <td>2021</td>\n",
       "      <td>Prototype / concept model</td>\n",
       "      <td>NaN</td>\n",
       "      <td>536.0</td>\n",
       "      <td>Electric</td>\n",
       "      <td>Electric</td>\n",
       "      <td>NaN</td>\n",
       "      <td>NaN</td>\n",
       "      <td>NaN</td>\n",
       "      <td>NaN</td>\n",
       "      <td>Liquid</td>\n",
       "      <td>NaN</td>\n",
       "      <td>420.0</td>\n",
       "      <td>NaN</td>\n",
       "      <td>NaN</td>\n",
       "    </tr>\n",
       "    <tr>\n",
       "      <th>4</th>\n",
       "      <td>acabion</td>\n",
       "      <td>gtbo 70</td>\n",
       "      <td>2007</td>\n",
       "      <td>Prototype / concept model</td>\n",
       "      <td>1300.0</td>\n",
       "      <td>689.0</td>\n",
       "      <td>In-line four</td>\n",
       "      <td>four-stroke</td>\n",
       "      <td>6-speed</td>\n",
       "      <td>NaN</td>\n",
       "      <td>Turbo. KKK Acabion Extended</td>\n",
       "      <td>NaN</td>\n",
       "      <td>Liquid</td>\n",
       "      <td>NaN</td>\n",
       "      <td>300.0</td>\n",
       "      <td>NaN</td>\n",
       "      <td>NaN</td>\n",
       "    </tr>\n",
       "  </tbody>\n",
       "</table>\n",
       "</div>"
      ],
      "text/plain": [
       "     Brand                Model  Year                   Category  \\\n",
       "0  acabion      da vinci 650-vi  2011  Prototype / concept model   \n",
       "1  acabion              gtbo 55  2007                      Sport   \n",
       "2  acabion  gtbo 600 daytona-vi  2011  Prototype / concept model   \n",
       "3  acabion  gtbo 600 daytona-vi  2021  Prototype / concept model   \n",
       "4  acabion              gtbo 70  2007  Prototype / concept model   \n",
       "\n",
       "   Displacement (ccm)  Power (hp) Engine cylinder Engine stroke  Gearbox  \\\n",
       "0                 NaN       804.0        Electric      Electric      NaN   \n",
       "1              1300.0       541.0    In-line four   four-stroke  6-speed   \n",
       "2                 NaN       536.0        Electric      Electric      NaN   \n",
       "3                 NaN       536.0        Electric      Electric      NaN   \n",
       "4              1300.0       689.0    In-line four   four-stroke  6-speed   \n",
       "\n",
       "   Fuel capacity (lts)                  Fuel system Fuel control  \\\n",
       "0                  NaN                          NaN          NaN   \n",
       "1                  NaN  Turbo. KKK Acabion Extended          NaN   \n",
       "2                  NaN                          NaN          NaN   \n",
       "3                  NaN                          NaN          NaN   \n",
       "4                  NaN  Turbo. KKK Acabion Extended          NaN   \n",
       "\n",
       "  Cooling system Transmission type  Dry weight (kg)  Wheelbase (mm)  \\\n",
       "0         Liquid             Chain            420.0             NaN   \n",
       "1         Liquid               NaN            360.0             NaN   \n",
       "2         Liquid               NaN            420.0             NaN   \n",
       "3         Liquid               NaN            420.0             NaN   \n",
       "4         Liquid               NaN            300.0             NaN   \n",
       "\n",
       "   Seat height (mm)  \n",
       "0               NaN  \n",
       "1               NaN  \n",
       "2               NaN  \n",
       "3               NaN  \n",
       "4               NaN  "
      ]
     },
     "execution_count": 1496,
     "metadata": {},
     "output_type": "execute_result"
    }
   ],
   "source": [
    "data.head()"
   ]
  },
  {
   "cell_type": "code",
   "execution_count": 1497,
   "id": "358375fe",
   "metadata": {},
   "outputs": [
    {
     "data": {
      "text/plain": [
       "(38543, 17)"
      ]
     },
     "execution_count": 1497,
     "metadata": {},
     "output_type": "execute_result"
    }
   ],
   "source": [
    "data.shape"
   ]
  },
  {
   "cell_type": "code",
   "execution_count": 1498,
   "id": "83e61481",
   "metadata": {},
   "outputs": [
    {
     "data": {
      "text/plain": [
       "Brand                      0\n",
       "Model                     28\n",
       "Year                       0\n",
       "Category                   0\n",
       "Displacement (ccm)      1029\n",
       "Power (hp)             12381\n",
       "Engine cylinder           16\n",
       "Engine stroke             11\n",
       "Gearbox                 5810\n",
       "Fuel capacity (lts)     6796\n",
       "Fuel system            10650\n",
       "Fuel control           16511\n",
       "Cooling system          4221\n",
       "Transmission type       5631\n",
       "Dry weight (kg)        16009\n",
       "Wheelbase (mm)         13013\n",
       "Seat height (mm)       14318\n",
       "dtype: int64"
      ]
     },
     "execution_count": 1498,
     "metadata": {},
     "output_type": "execute_result"
    }
   ],
   "source": [
    "data.isna().sum()"
   ]
  },
  {
   "cell_type": "code",
   "execution_count": 1499,
   "id": "2833729a",
   "metadata": {},
   "outputs": [
    {
     "name": "stdout",
     "output_type": "stream",
     "text": [
      "<class 'pandas.core.frame.DataFrame'>\n",
      "RangeIndex: 38543 entries, 0 to 38542\n",
      "Data columns (total 17 columns):\n",
      " #   Column               Non-Null Count  Dtype  \n",
      "---  ------               --------------  -----  \n",
      " 0   Brand                38543 non-null  object \n",
      " 1   Model                38515 non-null  object \n",
      " 2   Year                 38543 non-null  object \n",
      " 3   Category             38543 non-null  object \n",
      " 4   Displacement (ccm)   37514 non-null  float64\n",
      " 5   Power (hp)           26162 non-null  float64\n",
      " 6   Engine cylinder      38527 non-null  object \n",
      " 7   Engine stroke        38532 non-null  object \n",
      " 8   Gearbox              32733 non-null  object \n",
      " 9   Fuel capacity (lts)  31747 non-null  float64\n",
      " 10  Fuel system          27893 non-null  object \n",
      " 11  Fuel control         22032 non-null  object \n",
      " 12  Cooling system       34322 non-null  object \n",
      " 13  Transmission type    32912 non-null  object \n",
      " 14  Dry weight (kg)      22534 non-null  float64\n",
      " 15  Wheelbase (mm)       25530 non-null  float64\n",
      " 16  Seat height (mm)     24225 non-null  float64\n",
      "dtypes: float64(6), object(11)\n",
      "memory usage: 5.0+ MB\n"
     ]
    }
   ],
   "source": [
    "data.info()"
   ]
  },
  {
   "cell_type": "markdown",
   "id": "5d3ab53f",
   "metadata": {},
   "source": [
    "# Year"
   ]
  },
  {
   "cell_type": "code",
   "execution_count": 1500,
   "id": "95ee2d84",
   "metadata": {},
   "outputs": [
    {
     "data": {
      "text/plain": [
       "array(['2011', '2007', '2021', '2016', '2018', '2020', '2022', '1923',\n",
       "       '1924', '1925', '1926', '1927', '2009', '2010', '2014', '2008',\n",
       "       '2019', '2012', '2013', '2040', '1957', '1958', '1955', '1956',\n",
       "       '1952', '1953', '1954', '1959', '1960', '2077', '2003', '3019',\n",
       "       '1961', '1962', '1963', '1964', '1965', '1966', '1967', '1968',\n",
       "       '1969', '1971', '1972', '1970', '1974', '1962 CE', '1963 CE',\n",
       "       '2005', '2015', '2018 CE', '2006', '1922', '1928', '1949', '1950',\n",
       "       '1951', '2001', '2017', '1986', '1999', '1985', '1987', '1996',\n",
       "       '1991', '1988', '1989', '1990', '1992', '2004', '2002', '1997',\n",
       "       '1998', '2000', '1993', '1984', '1995', '1948', '1937', '1938',\n",
       "       '1931', '1901', '1902', '1903', '1913', '1914', '1915', '1916',\n",
       "       '1918', '1932', '1933', '1934', '1935', '1936', '1939', '1940',\n",
       "       '1941', '1942', '1943', '1944', '1945', '1946', '1947', '1898',\n",
       "       '1910', '1929', '1975', '1976', '1973', '1977', '1978', '1979',\n",
       "       '1980', '1982', '1983', '1981', '1917', '1919', '1994', '1930',\n",
       "       '1897', '1920', '1921', '1899', '1900', '1904', '1911', '1912',\n",
       "       '1896', '1909', '1905', '1906', '1907', '1908', '1894', '1895',\n",
       "       1982, 1983, 1972, 1979, 1980, 1981, 1973, 2021, 2022, 1968, 1969,\n",
       "       1991, 1992, 1995, 1996, 1997, 1998, 2013, 2014, 1999, 2000, 2001,\n",
       "       2002, 2003, 1970, 2016, 2017, 2015, 2020, 1977, 2009, 2010, 2011,\n",
       "       2019, 2008, 2012, 2007, 2006, 2018, 1994, 1974, 1975, 1993, 1987,\n",
       "       1988, 1989, 1990, 1971, 1976, 1978, 2005, 1938, 1939, 1940, 1941,\n",
       "       1942, 1943, 1944, 1945, 1946, 1947, 1948, 1949, 1950, 1959, 1934,\n",
       "       1935, 1936, 1937, 1951, 1952, 1953, 1954, 1955, 1956, 1957, 1958,\n",
       "       1964, 1965, 1966, 1967, 1960, 1961, 1962, 1963, 2004, 1897, 1913,\n",
       "       1914, 1984, 1985, 1986, 1925, 1926, 1927, 1928, 1933, 1924, 1922,\n",
       "       1923, 1921, 1929], dtype=object)"
      ]
     },
     "execution_count": 1500,
     "metadata": {},
     "output_type": "execute_result"
    }
   ],
   "source": [
    "data['Year'].unique()\n",
    "# mixed type column"
   ]
  },
  {
   "cell_type": "code",
   "execution_count": 1501,
   "id": "b948bf96",
   "metadata": {},
   "outputs": [],
   "source": [
    "list_int = [1982, 1983, 1972, 1979, 1980, 1981, 1973, 2021, 2022, 1968, 1969,\n",
    "       1991, 1992, 1995, 1996, 1997, 1998, 2013, 2014, 1999, 2000, 2001,\n",
    "       2002, 2003, 1970, 2016, 2017, 2015, 2020, 1977, 2009, 2010, 2011,\n",
    "       2019, 2008, 2012, 2007, 2006, 2018, 1994, 1974, 1975, 1993, 1987,\n",
    "       1988, 1989, 1990, 1971, 1976, 1978, 2005, 1938, 1939, 1940, 1941,\n",
    "       1942, 1943, 1944, 1945, 1946, 1947, 1948, 1949, 1950, 1959, 1934,\n",
    "       1935, 1936, 1937, 1951, 1952, 1953, 1954, 1955, 1956, 1957, 1958,\n",
    "       1964, 1965, 1966, 1967, 1960, 1961, 1962, 1963, 2004, 1897, 1913,\n",
    "       1914, 1984, 1985, 1986, 1925, 1926, 1927, 1928, 1933, 1924, 1922,\n",
    "       1923, 1921, 1929]\n",
    "f2 = data['Year'].isin(list_int)\n",
    "data['year_int'] = data.loc[f2,'Year']\n",
    "data['year_int'].unique()\n",
    "data['year_int'].fillna(0,inplace=True)"
   ]
  },
  {
   "cell_type": "code",
   "execution_count": 1502,
   "id": "a681bb4d",
   "metadata": {},
   "outputs": [
    {
     "data": {
      "text/plain": [
       "array(['2011', '2007', '2021', '2016', '2018', '2020', '2022', '1923',\n",
       "       '1924', '1925', '1926', '1927', '2009', '2010', '2014', '2008',\n",
       "       '2019', '2012', '2013', '2040', '1957', '1958', '1955', '1956',\n",
       "       '1952', '1953', '1954', '1959', '1960', '2077', '2003', '3019',\n",
       "       '1961', '1962', '1963', '1964', '1965', '1966', '1967', '1968',\n",
       "       '1969', '1971', '1972', '1970', '1974', '1962 CE', '1963 CE',\n",
       "       '2005', '2015', '2018 CE', '2006', '1922', '1928', '1949', '1950',\n",
       "       '1951', '2001', '2017', '1986', '1999', '1985', '1987', '1996',\n",
       "       '1991', '1988', '1989', '1990', '1992', '2004', '2002', '1997',\n",
       "       '1998', '2000', '1993', '1984', '1995', '1948', '1937', '1938',\n",
       "       '1931', '1901', '1902', '1903', '1913', '1914', '1915', '1916',\n",
       "       '1918', '1932', '1933', '1934', '1935', '1936', '1939', '1940',\n",
       "       '1941', '1942', '1943', '1944', '1945', '1946', '1947', '1898',\n",
       "       '1910', '1929', '1975', '1976', '1973', '1977', '1978', '1979',\n",
       "       '1980', '1982', '1983', '1981', '1917', '1919', '1994', '1930',\n",
       "       '1897', '1920', '1921', '1899', '1900', '1904', '1911', '1912',\n",
       "       '1896', '1909', '1905', '1906', '1907', '1908', '1894', '1895',\n",
       "       nan], dtype=object)"
      ]
     },
     "execution_count": 1502,
     "metadata": {},
     "output_type": "execute_result"
    }
   ],
   "source": [
    "strings = ['2011', '2007', '2021', '2016', '2018', '2020', '2022',\n",
    "      '1923','1924', '1925', '1926', '1927', '2009', '2010', \n",
    "      '2014', '2008',  '2019', '2012', '2013', '2040', '1957',\n",
    "      '1958', '1955', '1956', '1952', '1953', '1954', '1959', '1960', '2077', '2003', '3019',\n",
    "       '1961', '1962', '1963', '1964', '1965', '1966', '1967', '1968',\n",
    "       '1969', '1971', '1972', '1970', '1974', '1962 CE', '1963 CE',\n",
    "       '2005', '2015', '2018 CE', '2006', '1922', '1928', '1949', '1950',\n",
    "       '1951', '2001', '2017', '1986', '1999', '1985', '1987', '1996',\n",
    "       '1991', '1988', '1989', '1990', '1992', '2004', '2002', '1997',\n",
    "       '1998', '2000', '1993', '1984', '1995', '1948', '1937', '1938',\n",
    "       '1931', '1901', '1902', '1903', '1913', '1914', '1915', '1916',\n",
    "       '1918', '1932', '1933', '1934', '1935', '1936', '1939', '1940',\n",
    "       '1941', '1942', '1943', '1944', '1945', '1946', '1947', '1898',\n",
    "       '1910', '1929', '1975', '1976', '1973', '1977', '1978', '1979',\n",
    "       '1980', '1982', '1983', '1981', '1917', '1919', '1994', '1930',\n",
    "       '1897', '1920', '1921', '1899', '1900', '1904', '1911', '1912',\n",
    "       '1896', '1909', '1905', '1906', '1907', '1908', '1894', '1895']\n",
    "f = data['Year'].isin(strings)\n",
    "data['year_str'] = data.loc[f,'Year']\n",
    "data['year_str'].unique()"
   ]
  },
  {
   "cell_type": "code",
   "execution_count": 1503,
   "id": "c82120ed",
   "metadata": {},
   "outputs": [
    {
     "data": {
      "text/html": [
       "<div>\n",
       "<style scoped>\n",
       "    .dataframe tbody tr th:only-of-type {\n",
       "        vertical-align: middle;\n",
       "    }\n",
       "\n",
       "    .dataframe tbody tr th {\n",
       "        vertical-align: top;\n",
       "    }\n",
       "\n",
       "    .dataframe thead th {\n",
       "        text-align: right;\n",
       "    }\n",
       "</style>\n",
       "<table border=\"1\" class=\"dataframe\">\n",
       "  <thead>\n",
       "    <tr style=\"text-align: right;\">\n",
       "      <th></th>\n",
       "      <th>Brand</th>\n",
       "      <th>Model</th>\n",
       "      <th>Year</th>\n",
       "      <th>Category</th>\n",
       "      <th>Displacement (ccm)</th>\n",
       "      <th>Power (hp)</th>\n",
       "      <th>Engine cylinder</th>\n",
       "      <th>Engine stroke</th>\n",
       "      <th>Gearbox</th>\n",
       "      <th>Fuel capacity (lts)</th>\n",
       "      <th>Fuel system</th>\n",
       "      <th>Fuel control</th>\n",
       "      <th>Cooling system</th>\n",
       "      <th>Transmission type</th>\n",
       "      <th>Dry weight (kg)</th>\n",
       "      <th>Wheelbase (mm)</th>\n",
       "      <th>Seat height (mm)</th>\n",
       "      <th>year_int</th>\n",
       "      <th>year_str</th>\n",
       "    </tr>\n",
       "  </thead>\n",
       "  <tbody>\n",
       "    <tr>\n",
       "      <th>0</th>\n",
       "      <td>acabion</td>\n",
       "      <td>da vinci 650-vi</td>\n",
       "      <td>2011</td>\n",
       "      <td>Prototype / concept model</td>\n",
       "      <td>NaN</td>\n",
       "      <td>804.0</td>\n",
       "      <td>Electric</td>\n",
       "      <td>Electric</td>\n",
       "      <td>NaN</td>\n",
       "      <td>NaN</td>\n",
       "      <td>NaN</td>\n",
       "      <td>NaN</td>\n",
       "      <td>Liquid</td>\n",
       "      <td>Chain</td>\n",
       "      <td>420.0</td>\n",
       "      <td>NaN</td>\n",
       "      <td>NaN</td>\n",
       "      <td>0</td>\n",
       "      <td>2011</td>\n",
       "    </tr>\n",
       "    <tr>\n",
       "      <th>1</th>\n",
       "      <td>acabion</td>\n",
       "      <td>gtbo 55</td>\n",
       "      <td>2007</td>\n",
       "      <td>Sport</td>\n",
       "      <td>1300.0</td>\n",
       "      <td>541.0</td>\n",
       "      <td>In-line four</td>\n",
       "      <td>four-stroke</td>\n",
       "      <td>6-speed</td>\n",
       "      <td>NaN</td>\n",
       "      <td>Turbo. KKK Acabion Extended</td>\n",
       "      <td>NaN</td>\n",
       "      <td>Liquid</td>\n",
       "      <td>NaN</td>\n",
       "      <td>360.0</td>\n",
       "      <td>NaN</td>\n",
       "      <td>NaN</td>\n",
       "      <td>0</td>\n",
       "      <td>2007</td>\n",
       "    </tr>\n",
       "    <tr>\n",
       "      <th>2</th>\n",
       "      <td>acabion</td>\n",
       "      <td>gtbo 600 daytona-vi</td>\n",
       "      <td>2011</td>\n",
       "      <td>Prototype / concept model</td>\n",
       "      <td>NaN</td>\n",
       "      <td>536.0</td>\n",
       "      <td>Electric</td>\n",
       "      <td>Electric</td>\n",
       "      <td>NaN</td>\n",
       "      <td>NaN</td>\n",
       "      <td>NaN</td>\n",
       "      <td>NaN</td>\n",
       "      <td>Liquid</td>\n",
       "      <td>NaN</td>\n",
       "      <td>420.0</td>\n",
       "      <td>NaN</td>\n",
       "      <td>NaN</td>\n",
       "      <td>0</td>\n",
       "      <td>2011</td>\n",
       "    </tr>\n",
       "    <tr>\n",
       "      <th>3</th>\n",
       "      <td>acabion</td>\n",
       "      <td>gtbo 600 daytona-vi</td>\n",
       "      <td>2021</td>\n",
       "      <td>Prototype / concept model</td>\n",
       "      <td>NaN</td>\n",
       "      <td>536.0</td>\n",
       "      <td>Electric</td>\n",
       "      <td>Electric</td>\n",
       "      <td>NaN</td>\n",
       "      <td>NaN</td>\n",
       "      <td>NaN</td>\n",
       "      <td>NaN</td>\n",
       "      <td>Liquid</td>\n",
       "      <td>NaN</td>\n",
       "      <td>420.0</td>\n",
       "      <td>NaN</td>\n",
       "      <td>NaN</td>\n",
       "      <td>0</td>\n",
       "      <td>2021</td>\n",
       "    </tr>\n",
       "    <tr>\n",
       "      <th>4</th>\n",
       "      <td>acabion</td>\n",
       "      <td>gtbo 70</td>\n",
       "      <td>2007</td>\n",
       "      <td>Prototype / concept model</td>\n",
       "      <td>1300.0</td>\n",
       "      <td>689.0</td>\n",
       "      <td>In-line four</td>\n",
       "      <td>four-stroke</td>\n",
       "      <td>6-speed</td>\n",
       "      <td>NaN</td>\n",
       "      <td>Turbo. KKK Acabion Extended</td>\n",
       "      <td>NaN</td>\n",
       "      <td>Liquid</td>\n",
       "      <td>NaN</td>\n",
       "      <td>300.0</td>\n",
       "      <td>NaN</td>\n",
       "      <td>NaN</td>\n",
       "      <td>0</td>\n",
       "      <td>2007</td>\n",
       "    </tr>\n",
       "    <tr>\n",
       "      <th>...</th>\n",
       "      <td>...</td>\n",
       "      <td>...</td>\n",
       "      <td>...</td>\n",
       "      <td>...</td>\n",
       "      <td>...</td>\n",
       "      <td>...</td>\n",
       "      <td>...</td>\n",
       "      <td>...</td>\n",
       "      <td>...</td>\n",
       "      <td>...</td>\n",
       "      <td>...</td>\n",
       "      <td>...</td>\n",
       "      <td>...</td>\n",
       "      <td>...</td>\n",
       "      <td>...</td>\n",
       "      <td>...</td>\n",
       "      <td>...</td>\n",
       "      <td>...</td>\n",
       "      <td>...</td>\n",
       "    </tr>\n",
       "    <tr>\n",
       "      <th>38538</th>\n",
       "      <td>azel</td>\n",
       "      <td>aries 50</td>\n",
       "      <td>2009</td>\n",
       "      <td>Scooter</td>\n",
       "      <td>50.0</td>\n",
       "      <td>3.0</td>\n",
       "      <td>Single cylinder</td>\n",
       "      <td>four-stroke</td>\n",
       "      <td>Automatic</td>\n",
       "      <td>NaN</td>\n",
       "      <td>Carburettor</td>\n",
       "      <td>NaN</td>\n",
       "      <td>Air</td>\n",
       "      <td>Belt</td>\n",
       "      <td>84.0</td>\n",
       "      <td>1310.0</td>\n",
       "      <td>NaN</td>\n",
       "      <td>2009</td>\n",
       "      <td>0</td>\n",
       "    </tr>\n",
       "    <tr>\n",
       "      <th>38539</th>\n",
       "      <td>azel</td>\n",
       "      <td>aries 50</td>\n",
       "      <td>2010</td>\n",
       "      <td>Scooter</td>\n",
       "      <td>49.0</td>\n",
       "      <td>3.0</td>\n",
       "      <td>Single cylinder</td>\n",
       "      <td>four-stroke</td>\n",
       "      <td>Automatic</td>\n",
       "      <td>NaN</td>\n",
       "      <td>Carburettor</td>\n",
       "      <td>NaN</td>\n",
       "      <td>Air</td>\n",
       "      <td>Chain</td>\n",
       "      <td>92.0</td>\n",
       "      <td>1310.0</td>\n",
       "      <td>NaN</td>\n",
       "      <td>2010</td>\n",
       "      <td>0</td>\n",
       "    </tr>\n",
       "    <tr>\n",
       "      <th>38540</th>\n",
       "      <td>azel</td>\n",
       "      <td>atila 125</td>\n",
       "      <td>2009</td>\n",
       "      <td>Enduro / offroad</td>\n",
       "      <td>125.0</td>\n",
       "      <td>9.0</td>\n",
       "      <td>Single cylinder</td>\n",
       "      <td>four-stroke</td>\n",
       "      <td>Automatic</td>\n",
       "      <td>NaN</td>\n",
       "      <td>Carburettor</td>\n",
       "      <td>NaN</td>\n",
       "      <td>Air</td>\n",
       "      <td>Belt</td>\n",
       "      <td>120.0</td>\n",
       "      <td>1360.0</td>\n",
       "      <td>NaN</td>\n",
       "      <td>2009</td>\n",
       "      <td>0</td>\n",
       "    </tr>\n",
       "    <tr>\n",
       "      <th>38541</th>\n",
       "      <td>azel</td>\n",
       "      <td>atila 125</td>\n",
       "      <td>2010</td>\n",
       "      <td>Enduro / offroad</td>\n",
       "      <td>125.0</td>\n",
       "      <td>9.0</td>\n",
       "      <td>Single cylinder</td>\n",
       "      <td>four-stroke</td>\n",
       "      <td>NaN</td>\n",
       "      <td>NaN</td>\n",
       "      <td>Carburettor</td>\n",
       "      <td>NaN</td>\n",
       "      <td>Air</td>\n",
       "      <td>Chain</td>\n",
       "      <td>120.0</td>\n",
       "      <td>1360.0</td>\n",
       "      <td>NaN</td>\n",
       "      <td>2010</td>\n",
       "      <td>0</td>\n",
       "    </tr>\n",
       "    <tr>\n",
       "      <th>38542</th>\n",
       "      <td>azel</td>\n",
       "      <td>blackrose 250</td>\n",
       "      <td>2009</td>\n",
       "      <td>Custom / cruiser</td>\n",
       "      <td>248.0</td>\n",
       "      <td>18.0</td>\n",
       "      <td>V2</td>\n",
       "      <td>four-stroke</td>\n",
       "      <td>NaN</td>\n",
       "      <td>NaN</td>\n",
       "      <td>Carburettor</td>\n",
       "      <td>NaN</td>\n",
       "      <td>Air</td>\n",
       "      <td>Chain</td>\n",
       "      <td>175.0</td>\n",
       "      <td>1600.0</td>\n",
       "      <td>NaN</td>\n",
       "      <td>2009</td>\n",
       "      <td>0</td>\n",
       "    </tr>\n",
       "  </tbody>\n",
       "</table>\n",
       "<p>38543 rows × 19 columns</p>\n",
       "</div>"
      ],
      "text/plain": [
       "         Brand                Model  Year                   Category  \\\n",
       "0      acabion      da vinci 650-vi  2011  Prototype / concept model   \n",
       "1      acabion              gtbo 55  2007                      Sport   \n",
       "2      acabion  gtbo 600 daytona-vi  2011  Prototype / concept model   \n",
       "3      acabion  gtbo 600 daytona-vi  2021  Prototype / concept model   \n",
       "4      acabion              gtbo 70  2007  Prototype / concept model   \n",
       "...        ...                  ...   ...                        ...   \n",
       "38538     azel             aries 50  2009                    Scooter   \n",
       "38539     azel             aries 50  2010                    Scooter   \n",
       "38540     azel            atila 125  2009           Enduro / offroad   \n",
       "38541     azel            atila 125  2010           Enduro / offroad   \n",
       "38542     azel        blackrose 250  2009           Custom / cruiser   \n",
       "\n",
       "       Displacement (ccm)  Power (hp)  Engine cylinder Engine stroke  \\\n",
       "0                     NaN       804.0         Electric      Electric   \n",
       "1                  1300.0       541.0     In-line four   four-stroke   \n",
       "2                     NaN       536.0         Electric      Electric   \n",
       "3                     NaN       536.0         Electric      Electric   \n",
       "4                  1300.0       689.0     In-line four   four-stroke   \n",
       "...                   ...         ...              ...           ...   \n",
       "38538                50.0         3.0  Single cylinder   four-stroke   \n",
       "38539                49.0         3.0  Single cylinder   four-stroke   \n",
       "38540               125.0         9.0  Single cylinder   four-stroke   \n",
       "38541               125.0         9.0  Single cylinder   four-stroke   \n",
       "38542               248.0        18.0               V2   four-stroke   \n",
       "\n",
       "         Gearbox  Fuel capacity (lts)                  Fuel system  \\\n",
       "0            NaN                  NaN                          NaN   \n",
       "1        6-speed                  NaN  Turbo. KKK Acabion Extended   \n",
       "2            NaN                  NaN                          NaN   \n",
       "3            NaN                  NaN                          NaN   \n",
       "4        6-speed                  NaN  Turbo. KKK Acabion Extended   \n",
       "...          ...                  ...                          ...   \n",
       "38538  Automatic                  NaN                  Carburettor   \n",
       "38539  Automatic                  NaN                  Carburettor   \n",
       "38540  Automatic                  NaN                  Carburettor   \n",
       "38541        NaN                  NaN                  Carburettor   \n",
       "38542        NaN                  NaN                  Carburettor   \n",
       "\n",
       "      Fuel control Cooling system Transmission type  Dry weight (kg)  \\\n",
       "0              NaN         Liquid             Chain            420.0   \n",
       "1              NaN         Liquid               NaN            360.0   \n",
       "2              NaN         Liquid               NaN            420.0   \n",
       "3              NaN         Liquid               NaN            420.0   \n",
       "4              NaN         Liquid               NaN            300.0   \n",
       "...            ...            ...               ...              ...   \n",
       "38538          NaN            Air              Belt             84.0   \n",
       "38539          NaN            Air             Chain             92.0   \n",
       "38540          NaN            Air              Belt            120.0   \n",
       "38541          NaN            Air             Chain            120.0   \n",
       "38542          NaN            Air             Chain            175.0   \n",
       "\n",
       "       Wheelbase (mm)  Seat height (mm)  year_int  year_str  \n",
       "0                 NaN               NaN         0      2011  \n",
       "1                 NaN               NaN         0      2007  \n",
       "2                 NaN               NaN         0      2011  \n",
       "3                 NaN               NaN         0      2021  \n",
       "4                 NaN               NaN         0      2007  \n",
       "...               ...               ...       ...       ...  \n",
       "38538          1310.0               NaN      2009         0  \n",
       "38539          1310.0               NaN      2010         0  \n",
       "38540          1360.0               NaN      2009         0  \n",
       "38541          1360.0               NaN      2010         0  \n",
       "38542          1600.0               NaN      2009         0  \n",
       "\n",
       "[38543 rows x 19 columns]"
      ]
     },
     "execution_count": 1503,
     "metadata": {},
     "output_type": "execute_result"
    }
   ],
   "source": [
    "data['year_str'] = data['year_str'].str.strip('CE')\n",
    "data['year_str'].fillna('0',inplace=True)\n",
    "data['year_str'] =data['year_str'].astype(int)\n",
    "data['year_str'].unique()\n",
    "data"
   ]
  },
  {
   "cell_type": "code",
   "execution_count": 1504,
   "id": "83a83fad",
   "metadata": {},
   "outputs": [],
   "source": [
    "data['Prod_year'] = data['year_str'] + data['year_int']"
   ]
  },
  {
   "cell_type": "code",
   "execution_count": 1505,
   "id": "a5692940",
   "metadata": {},
   "outputs": [
    {
     "data": {
      "text/html": [
       "<div>\n",
       "<style scoped>\n",
       "    .dataframe tbody tr th:only-of-type {\n",
       "        vertical-align: middle;\n",
       "    }\n",
       "\n",
       "    .dataframe tbody tr th {\n",
       "        vertical-align: top;\n",
       "    }\n",
       "\n",
       "    .dataframe thead th {\n",
       "        text-align: right;\n",
       "    }\n",
       "</style>\n",
       "<table border=\"1\" class=\"dataframe\">\n",
       "  <thead>\n",
       "    <tr style=\"text-align: right;\">\n",
       "      <th></th>\n",
       "      <th>Brand</th>\n",
       "      <th>Model</th>\n",
       "      <th>Year</th>\n",
       "      <th>Category</th>\n",
       "      <th>Displacement (ccm)</th>\n",
       "      <th>Power (hp)</th>\n",
       "      <th>Engine cylinder</th>\n",
       "      <th>Engine stroke</th>\n",
       "      <th>Gearbox</th>\n",
       "      <th>Fuel capacity (lts)</th>\n",
       "      <th>Fuel system</th>\n",
       "      <th>Fuel control</th>\n",
       "      <th>Cooling system</th>\n",
       "      <th>Transmission type</th>\n",
       "      <th>Dry weight (kg)</th>\n",
       "      <th>Wheelbase (mm)</th>\n",
       "      <th>Seat height (mm)</th>\n",
       "      <th>year_int</th>\n",
       "      <th>year_str</th>\n",
       "      <th>Prod_year</th>\n",
       "    </tr>\n",
       "  </thead>\n",
       "  <tbody>\n",
       "    <tr>\n",
       "      <th>0</th>\n",
       "      <td>acabion</td>\n",
       "      <td>da vinci 650-vi</td>\n",
       "      <td>2011</td>\n",
       "      <td>Prototype / concept model</td>\n",
       "      <td>NaN</td>\n",
       "      <td>804.0</td>\n",
       "      <td>Electric</td>\n",
       "      <td>Electric</td>\n",
       "      <td>NaN</td>\n",
       "      <td>NaN</td>\n",
       "      <td>NaN</td>\n",
       "      <td>NaN</td>\n",
       "      <td>Liquid</td>\n",
       "      <td>Chain</td>\n",
       "      <td>420.0</td>\n",
       "      <td>NaN</td>\n",
       "      <td>NaN</td>\n",
       "      <td>0</td>\n",
       "      <td>2011</td>\n",
       "      <td>2011</td>\n",
       "    </tr>\n",
       "    <tr>\n",
       "      <th>1</th>\n",
       "      <td>acabion</td>\n",
       "      <td>gtbo 55</td>\n",
       "      <td>2007</td>\n",
       "      <td>Sport</td>\n",
       "      <td>1300.0</td>\n",
       "      <td>541.0</td>\n",
       "      <td>In-line four</td>\n",
       "      <td>four-stroke</td>\n",
       "      <td>6-speed</td>\n",
       "      <td>NaN</td>\n",
       "      <td>Turbo. KKK Acabion Extended</td>\n",
       "      <td>NaN</td>\n",
       "      <td>Liquid</td>\n",
       "      <td>NaN</td>\n",
       "      <td>360.0</td>\n",
       "      <td>NaN</td>\n",
       "      <td>NaN</td>\n",
       "      <td>0</td>\n",
       "      <td>2007</td>\n",
       "      <td>2007</td>\n",
       "    </tr>\n",
       "    <tr>\n",
       "      <th>2</th>\n",
       "      <td>acabion</td>\n",
       "      <td>gtbo 600 daytona-vi</td>\n",
       "      <td>2011</td>\n",
       "      <td>Prototype / concept model</td>\n",
       "      <td>NaN</td>\n",
       "      <td>536.0</td>\n",
       "      <td>Electric</td>\n",
       "      <td>Electric</td>\n",
       "      <td>NaN</td>\n",
       "      <td>NaN</td>\n",
       "      <td>NaN</td>\n",
       "      <td>NaN</td>\n",
       "      <td>Liquid</td>\n",
       "      <td>NaN</td>\n",
       "      <td>420.0</td>\n",
       "      <td>NaN</td>\n",
       "      <td>NaN</td>\n",
       "      <td>0</td>\n",
       "      <td>2011</td>\n",
       "      <td>2011</td>\n",
       "    </tr>\n",
       "    <tr>\n",
       "      <th>3</th>\n",
       "      <td>acabion</td>\n",
       "      <td>gtbo 600 daytona-vi</td>\n",
       "      <td>2021</td>\n",
       "      <td>Prototype / concept model</td>\n",
       "      <td>NaN</td>\n",
       "      <td>536.0</td>\n",
       "      <td>Electric</td>\n",
       "      <td>Electric</td>\n",
       "      <td>NaN</td>\n",
       "      <td>NaN</td>\n",
       "      <td>NaN</td>\n",
       "      <td>NaN</td>\n",
       "      <td>Liquid</td>\n",
       "      <td>NaN</td>\n",
       "      <td>420.0</td>\n",
       "      <td>NaN</td>\n",
       "      <td>NaN</td>\n",
       "      <td>0</td>\n",
       "      <td>2021</td>\n",
       "      <td>2021</td>\n",
       "    </tr>\n",
       "    <tr>\n",
       "      <th>4</th>\n",
       "      <td>acabion</td>\n",
       "      <td>gtbo 70</td>\n",
       "      <td>2007</td>\n",
       "      <td>Prototype / concept model</td>\n",
       "      <td>1300.0</td>\n",
       "      <td>689.0</td>\n",
       "      <td>In-line four</td>\n",
       "      <td>four-stroke</td>\n",
       "      <td>6-speed</td>\n",
       "      <td>NaN</td>\n",
       "      <td>Turbo. KKK Acabion Extended</td>\n",
       "      <td>NaN</td>\n",
       "      <td>Liquid</td>\n",
       "      <td>NaN</td>\n",
       "      <td>300.0</td>\n",
       "      <td>NaN</td>\n",
       "      <td>NaN</td>\n",
       "      <td>0</td>\n",
       "      <td>2007</td>\n",
       "      <td>2007</td>\n",
       "    </tr>\n",
       "  </tbody>\n",
       "</table>\n",
       "</div>"
      ],
      "text/plain": [
       "     Brand                Model  Year                   Category  \\\n",
       "0  acabion      da vinci 650-vi  2011  Prototype / concept model   \n",
       "1  acabion              gtbo 55  2007                      Sport   \n",
       "2  acabion  gtbo 600 daytona-vi  2011  Prototype / concept model   \n",
       "3  acabion  gtbo 600 daytona-vi  2021  Prototype / concept model   \n",
       "4  acabion              gtbo 70  2007  Prototype / concept model   \n",
       "\n",
       "   Displacement (ccm)  Power (hp) Engine cylinder Engine stroke  Gearbox  \\\n",
       "0                 NaN       804.0        Electric      Electric      NaN   \n",
       "1              1300.0       541.0    In-line four   four-stroke  6-speed   \n",
       "2                 NaN       536.0        Electric      Electric      NaN   \n",
       "3                 NaN       536.0        Electric      Electric      NaN   \n",
       "4              1300.0       689.0    In-line four   four-stroke  6-speed   \n",
       "\n",
       "   Fuel capacity (lts)                  Fuel system Fuel control  \\\n",
       "0                  NaN                          NaN          NaN   \n",
       "1                  NaN  Turbo. KKK Acabion Extended          NaN   \n",
       "2                  NaN                          NaN          NaN   \n",
       "3                  NaN                          NaN          NaN   \n",
       "4                  NaN  Turbo. KKK Acabion Extended          NaN   \n",
       "\n",
       "  Cooling system Transmission type  Dry weight (kg)  Wheelbase (mm)  \\\n",
       "0         Liquid             Chain            420.0             NaN   \n",
       "1         Liquid               NaN            360.0             NaN   \n",
       "2         Liquid               NaN            420.0             NaN   \n",
       "3         Liquid               NaN            420.0             NaN   \n",
       "4         Liquid               NaN            300.0             NaN   \n",
       "\n",
       "   Seat height (mm)  year_int  year_str  Prod_year  \n",
       "0               NaN         0      2011       2011  \n",
       "1               NaN         0      2007       2007  \n",
       "2               NaN         0      2011       2011  \n",
       "3               NaN         0      2021       2021  \n",
       "4               NaN         0      2007       2007  "
      ]
     },
     "execution_count": 1505,
     "metadata": {},
     "output_type": "execute_result"
    }
   ],
   "source": [
    "data.head()"
   ]
  },
  {
   "cell_type": "code",
   "execution_count": 1506,
   "id": "d9ad3452",
   "metadata": {},
   "outputs": [],
   "source": [
    "data.drop(['Year','year_str','year_int'],axis=1,inplace=True)"
   ]
  },
  {
   "cell_type": "code",
   "execution_count": 1507,
   "id": "6b9088f4",
   "metadata": {},
   "outputs": [
    {
     "data": {
      "text/html": [
       "<div>\n",
       "<style scoped>\n",
       "    .dataframe tbody tr th:only-of-type {\n",
       "        vertical-align: middle;\n",
       "    }\n",
       "\n",
       "    .dataframe tbody tr th {\n",
       "        vertical-align: top;\n",
       "    }\n",
       "\n",
       "    .dataframe thead th {\n",
       "        text-align: right;\n",
       "    }\n",
       "</style>\n",
       "<table border=\"1\" class=\"dataframe\">\n",
       "  <thead>\n",
       "    <tr style=\"text-align: right;\">\n",
       "      <th></th>\n",
       "      <th>Brand</th>\n",
       "      <th>Model</th>\n",
       "      <th>Category</th>\n",
       "      <th>Displacement (ccm)</th>\n",
       "      <th>Power (hp)</th>\n",
       "      <th>Engine cylinder</th>\n",
       "      <th>Engine stroke</th>\n",
       "      <th>Gearbox</th>\n",
       "      <th>Fuel capacity (lts)</th>\n",
       "      <th>Fuel system</th>\n",
       "      <th>Fuel control</th>\n",
       "      <th>Cooling system</th>\n",
       "      <th>Transmission type</th>\n",
       "      <th>Dry weight (kg)</th>\n",
       "      <th>Wheelbase (mm)</th>\n",
       "      <th>Seat height (mm)</th>\n",
       "      <th>Prod_year</th>\n",
       "    </tr>\n",
       "  </thead>\n",
       "  <tbody>\n",
       "    <tr>\n",
       "      <th>0</th>\n",
       "      <td>acabion</td>\n",
       "      <td>da vinci 650-vi</td>\n",
       "      <td>Prototype / concept model</td>\n",
       "      <td>NaN</td>\n",
       "      <td>804.0</td>\n",
       "      <td>Electric</td>\n",
       "      <td>Electric</td>\n",
       "      <td>NaN</td>\n",
       "      <td>NaN</td>\n",
       "      <td>NaN</td>\n",
       "      <td>NaN</td>\n",
       "      <td>Liquid</td>\n",
       "      <td>Chain</td>\n",
       "      <td>420.0</td>\n",
       "      <td>NaN</td>\n",
       "      <td>NaN</td>\n",
       "      <td>2011</td>\n",
       "    </tr>\n",
       "    <tr>\n",
       "      <th>1</th>\n",
       "      <td>acabion</td>\n",
       "      <td>gtbo 55</td>\n",
       "      <td>Sport</td>\n",
       "      <td>1300.0</td>\n",
       "      <td>541.0</td>\n",
       "      <td>In-line four</td>\n",
       "      <td>four-stroke</td>\n",
       "      <td>6-speed</td>\n",
       "      <td>NaN</td>\n",
       "      <td>Turbo. KKK Acabion Extended</td>\n",
       "      <td>NaN</td>\n",
       "      <td>Liquid</td>\n",
       "      <td>NaN</td>\n",
       "      <td>360.0</td>\n",
       "      <td>NaN</td>\n",
       "      <td>NaN</td>\n",
       "      <td>2007</td>\n",
       "    </tr>\n",
       "    <tr>\n",
       "      <th>2</th>\n",
       "      <td>acabion</td>\n",
       "      <td>gtbo 600 daytona-vi</td>\n",
       "      <td>Prototype / concept model</td>\n",
       "      <td>NaN</td>\n",
       "      <td>536.0</td>\n",
       "      <td>Electric</td>\n",
       "      <td>Electric</td>\n",
       "      <td>NaN</td>\n",
       "      <td>NaN</td>\n",
       "      <td>NaN</td>\n",
       "      <td>NaN</td>\n",
       "      <td>Liquid</td>\n",
       "      <td>NaN</td>\n",
       "      <td>420.0</td>\n",
       "      <td>NaN</td>\n",
       "      <td>NaN</td>\n",
       "      <td>2011</td>\n",
       "    </tr>\n",
       "    <tr>\n",
       "      <th>3</th>\n",
       "      <td>acabion</td>\n",
       "      <td>gtbo 600 daytona-vi</td>\n",
       "      <td>Prototype / concept model</td>\n",
       "      <td>NaN</td>\n",
       "      <td>536.0</td>\n",
       "      <td>Electric</td>\n",
       "      <td>Electric</td>\n",
       "      <td>NaN</td>\n",
       "      <td>NaN</td>\n",
       "      <td>NaN</td>\n",
       "      <td>NaN</td>\n",
       "      <td>Liquid</td>\n",
       "      <td>NaN</td>\n",
       "      <td>420.0</td>\n",
       "      <td>NaN</td>\n",
       "      <td>NaN</td>\n",
       "      <td>2021</td>\n",
       "    </tr>\n",
       "    <tr>\n",
       "      <th>4</th>\n",
       "      <td>acabion</td>\n",
       "      <td>gtbo 70</td>\n",
       "      <td>Prototype / concept model</td>\n",
       "      <td>1300.0</td>\n",
       "      <td>689.0</td>\n",
       "      <td>In-line four</td>\n",
       "      <td>four-stroke</td>\n",
       "      <td>6-speed</td>\n",
       "      <td>NaN</td>\n",
       "      <td>Turbo. KKK Acabion Extended</td>\n",
       "      <td>NaN</td>\n",
       "      <td>Liquid</td>\n",
       "      <td>NaN</td>\n",
       "      <td>300.0</td>\n",
       "      <td>NaN</td>\n",
       "      <td>NaN</td>\n",
       "      <td>2007</td>\n",
       "    </tr>\n",
       "  </tbody>\n",
       "</table>\n",
       "</div>"
      ],
      "text/plain": [
       "     Brand                Model                   Category  \\\n",
       "0  acabion      da vinci 650-vi  Prototype / concept model   \n",
       "1  acabion              gtbo 55                      Sport   \n",
       "2  acabion  gtbo 600 daytona-vi  Prototype / concept model   \n",
       "3  acabion  gtbo 600 daytona-vi  Prototype / concept model   \n",
       "4  acabion              gtbo 70  Prototype / concept model   \n",
       "\n",
       "   Displacement (ccm)  Power (hp) Engine cylinder Engine stroke  Gearbox  \\\n",
       "0                 NaN       804.0        Electric      Electric      NaN   \n",
       "1              1300.0       541.0    In-line four   four-stroke  6-speed   \n",
       "2                 NaN       536.0        Electric      Electric      NaN   \n",
       "3                 NaN       536.0        Electric      Electric      NaN   \n",
       "4              1300.0       689.0    In-line four   four-stroke  6-speed   \n",
       "\n",
       "   Fuel capacity (lts)                  Fuel system Fuel control  \\\n",
       "0                  NaN                          NaN          NaN   \n",
       "1                  NaN  Turbo. KKK Acabion Extended          NaN   \n",
       "2                  NaN                          NaN          NaN   \n",
       "3                  NaN                          NaN          NaN   \n",
       "4                  NaN  Turbo. KKK Acabion Extended          NaN   \n",
       "\n",
       "  Cooling system Transmission type  Dry weight (kg)  Wheelbase (mm)  \\\n",
       "0         Liquid             Chain            420.0             NaN   \n",
       "1         Liquid               NaN            360.0             NaN   \n",
       "2         Liquid               NaN            420.0             NaN   \n",
       "3         Liquid               NaN            420.0             NaN   \n",
       "4         Liquid               NaN            300.0             NaN   \n",
       "\n",
       "   Seat height (mm)  Prod_year  \n",
       "0               NaN       2011  \n",
       "1               NaN       2007  \n",
       "2               NaN       2011  \n",
       "3               NaN       2021  \n",
       "4               NaN       2007  "
      ]
     },
     "execution_count": 1507,
     "metadata": {},
     "output_type": "execute_result"
    }
   ],
   "source": [
    "data.head()"
   ]
  },
  {
   "cell_type": "code",
   "execution_count": 1508,
   "id": "7a789112",
   "metadata": {},
   "outputs": [
    {
     "data": {
      "text/plain": [
       "array([2011, 2007, 2021, 2016, 2018, 2020, 2022, 1923, 1924, 1925, 1926,\n",
       "       1927, 2009, 2010, 2014, 2008, 2019, 2012, 2013, 2040, 1957, 1958,\n",
       "       1955, 1956, 1952, 1953, 1954, 1959, 1960, 2077, 2003, 3019, 1961,\n",
       "       1962, 1963, 1964, 1965, 1966, 1967, 1968, 1969, 1971, 1972, 1970,\n",
       "       1974, 2005, 2015, 2006, 1922, 1928, 1949, 1950, 1951, 2001, 2017,\n",
       "       1986, 1999, 1985, 1987, 1996, 1991, 1988, 1989, 1990, 1992, 2004,\n",
       "       2002, 1997, 1998, 2000, 1993, 1984, 1995, 1948, 1937, 1938, 1931,\n",
       "       1901, 1902, 1903, 1913, 1914, 1915, 1916, 1918, 1932, 1933, 1934,\n",
       "       1935, 1936, 1939, 1940, 1941, 1942, 1943, 1944, 1945, 1946, 1947,\n",
       "       1898, 1910, 1929, 1975, 1976, 1973, 1977, 1978, 1979, 1980, 1982,\n",
       "       1983, 1981, 1917, 1919, 1994, 1930, 1897, 1920, 1921, 1899, 1900,\n",
       "       1904, 1911, 1912, 1896, 1909, 1905, 1906, 1907, 1908, 1894, 1895],\n",
       "      dtype=int64)"
      ]
     },
     "execution_count": 1508,
     "metadata": {},
     "output_type": "execute_result"
    }
   ],
   "source": [
    "data['Prod_year'].unique()"
   ]
  },
  {
   "cell_type": "code",
   "execution_count": 1509,
   "id": "303537f1",
   "metadata": {},
   "outputs": [
    {
     "data": {
      "text/plain": [
       "0"
      ]
     },
     "execution_count": 1509,
     "metadata": {},
     "output_type": "execute_result"
    }
   ],
   "source": [
    "data['Prod_year'].isna().sum()"
   ]
  },
  {
   "cell_type": "code",
   "execution_count": 1510,
   "id": "9319be14",
   "metadata": {},
   "outputs": [
    {
     "data": {
      "text/plain": [
       "58     2040\n",
       "133    2077\n",
       "170    3019\n",
       "Name: Prod_year, dtype: int64"
      ]
     },
     "execution_count": 1510,
     "metadata": {},
     "output_type": "execute_result"
    }
   ],
   "source": [
    "# motorcycles were invented in 1885 , so time range [1885 , 2023]\n",
    "f  = (data['Prod_year'] > 1885 ) & (data['Prod_year'] < 2023)\n",
    "data['Prod_year'][~f]"
   ]
  },
  {
   "cell_type": "code",
   "execution_count": 1511,
   "id": "bdae6c0d",
   "metadata": {},
   "outputs": [
    {
     "data": {
      "text/html": [
       "<div>\n",
       "<style scoped>\n",
       "    .dataframe tbody tr th:only-of-type {\n",
       "        vertical-align: middle;\n",
       "    }\n",
       "\n",
       "    .dataframe tbody tr th {\n",
       "        vertical-align: top;\n",
       "    }\n",
       "\n",
       "    .dataframe thead th {\n",
       "        text-align: right;\n",
       "    }\n",
       "</style>\n",
       "<table border=\"1\" class=\"dataframe\">\n",
       "  <thead>\n",
       "    <tr style=\"text-align: right;\">\n",
       "      <th></th>\n",
       "      <th>Brand</th>\n",
       "      <th>Model</th>\n",
       "      <th>Category</th>\n",
       "      <th>Displacement (ccm)</th>\n",
       "      <th>Power (hp)</th>\n",
       "      <th>Engine cylinder</th>\n",
       "      <th>Engine stroke</th>\n",
       "      <th>Gearbox</th>\n",
       "      <th>Fuel capacity (lts)</th>\n",
       "      <th>Fuel system</th>\n",
       "      <th>Fuel control</th>\n",
       "      <th>Cooling system</th>\n",
       "      <th>Transmission type</th>\n",
       "      <th>Dry weight (kg)</th>\n",
       "      <th>Wheelbase (mm)</th>\n",
       "      <th>Seat height (mm)</th>\n",
       "      <th>Prod_year</th>\n",
       "    </tr>\n",
       "  </thead>\n",
       "  <tbody>\n",
       "    <tr>\n",
       "      <th>58</th>\n",
       "      <td>adiva</td>\n",
       "      <td>n125</td>\n",
       "      <td>Scooter</td>\n",
       "      <td>124.0</td>\n",
       "      <td>10.3</td>\n",
       "      <td>Single cylinder</td>\n",
       "      <td>four-stroke</td>\n",
       "      <td>NaN</td>\n",
       "      <td>6.0</td>\n",
       "      <td>Carburettor</td>\n",
       "      <td>Single Overhead Cams (SOHC)</td>\n",
       "      <td>NaN</td>\n",
       "      <td>NaN</td>\n",
       "      <td>108.0</td>\n",
       "      <td>1320.0</td>\n",
       "      <td>800.0</td>\n",
       "      <td>2040</td>\n",
       "    </tr>\n",
       "    <tr>\n",
       "      <th>133</th>\n",
       "      <td>adly</td>\n",
       "      <td>panther-50 (4t)</td>\n",
       "      <td>Scooter</td>\n",
       "      <td>49.3</td>\n",
       "      <td>3.7</td>\n",
       "      <td>Single cylinder</td>\n",
       "      <td>four-stroke</td>\n",
       "      <td>NaN</td>\n",
       "      <td>6.2</td>\n",
       "      <td>NaN</td>\n",
       "      <td>NaN</td>\n",
       "      <td>Air</td>\n",
       "      <td>NaN</td>\n",
       "      <td>75.0</td>\n",
       "      <td>1240.0</td>\n",
       "      <td>815.0</td>\n",
       "      <td>2077</td>\n",
       "    </tr>\n",
       "    <tr>\n",
       "      <th>170</th>\n",
       "      <td>aeon</td>\n",
       "      <td>3d-350</td>\n",
       "      <td>Scooter</td>\n",
       "      <td>346.0</td>\n",
       "      <td>27.0</td>\n",
       "      <td>Single cylinder</td>\n",
       "      <td>four-stroke</td>\n",
       "      <td>Automatic</td>\n",
       "      <td>13.5</td>\n",
       "      <td>Injection. EFI</td>\n",
       "      <td>Single Overhead Cams (SOHC)</td>\n",
       "      <td>Liquid</td>\n",
       "      <td>Chain</td>\n",
       "      <td>212.5</td>\n",
       "      <td>1565.0</td>\n",
       "      <td>790.0</td>\n",
       "      <td>3019</td>\n",
       "    </tr>\n",
       "  </tbody>\n",
       "</table>\n",
       "</div>"
      ],
      "text/plain": [
       "     Brand            Model Category  Displacement (ccm)  Power (hp)  \\\n",
       "58   adiva             n125  Scooter               124.0        10.3   \n",
       "133   adly  panther-50 (4t)  Scooter                49.3         3.7   \n",
       "170   aeon           3d-350  Scooter               346.0        27.0   \n",
       "\n",
       "     Engine cylinder Engine stroke    Gearbox  Fuel capacity (lts)  \\\n",
       "58   Single cylinder   four-stroke        NaN                  6.0   \n",
       "133  Single cylinder   four-stroke        NaN                  6.2   \n",
       "170  Single cylinder   four-stroke  Automatic                 13.5   \n",
       "\n",
       "        Fuel system                 Fuel control Cooling system  \\\n",
       "58      Carburettor  Single Overhead Cams (SOHC)            NaN   \n",
       "133             NaN                          NaN            Air   \n",
       "170  Injection. EFI  Single Overhead Cams (SOHC)         Liquid   \n",
       "\n",
       "    Transmission type  Dry weight (kg)  Wheelbase (mm)  Seat height (mm)  \\\n",
       "58                NaN            108.0          1320.0             800.0   \n",
       "133               NaN             75.0          1240.0             815.0   \n",
       "170             Chain            212.5          1565.0             790.0   \n",
       "\n",
       "     Prod_year  \n",
       "58        2040  \n",
       "133       2077  \n",
       "170       3019  "
      ]
     },
     "execution_count": 1511,
     "metadata": {},
     "output_type": "execute_result"
    }
   ],
   "source": [
    "data.loc[~f]"
   ]
  },
  {
   "cell_type": "code",
   "execution_count": 1512,
   "id": "4b9e0ef2",
   "metadata": {},
   "outputs": [],
   "source": [
    "# i checked from the internet that motorcycle brand : adiva , version: n125 was produced in 2010\n",
    "data['Prod_year'] = data['Prod_year'].replace(2040,2010)\n",
    "# i checked from the internet that motorcycle brand : adly , version: panther-50(4th) was produced in 2007 , which make sense 2077\n",
    "data['Prod_year'] = data['Prod_year'].replace(2077,2007)\n",
    "# i checked from the internet that motorcycle brand : aeon , version: 3d-350 was produced in 2018\n",
    "data['Prod_year'] = data['Prod_year'].replace(3019,2018)"
   ]
  },
  {
   "cell_type": "code",
   "execution_count": 1513,
   "id": "b5a4f171",
   "metadata": {},
   "outputs": [
    {
     "data": {
      "text/plain": [
       "array([2011, 2007, 2021, 2016, 2018, 2020, 2022, 1923, 1924, 1925, 1926,\n",
       "       1927, 2009, 2010, 2014, 2008, 2019, 2012, 2013, 1957, 1958, 1955,\n",
       "       1956, 1952, 1953, 1954, 1959, 1960, 2003, 1961, 1962, 1963, 1964,\n",
       "       1965, 1966, 1967, 1968, 1969, 1971, 1972, 1970, 1974, 2005, 2015,\n",
       "       2006, 1922, 1928, 1949, 1950, 1951, 2001, 2017, 1986, 1999, 1985,\n",
       "       1987, 1996, 1991, 1988, 1989, 1990, 1992, 2004, 2002, 1997, 1998,\n",
       "       2000, 1993, 1984, 1995, 1948, 1937, 1938, 1931, 1901, 1902, 1903,\n",
       "       1913, 1914, 1915, 1916, 1918, 1932, 1933, 1934, 1935, 1936, 1939,\n",
       "       1940, 1941, 1942, 1943, 1944, 1945, 1946, 1947, 1898, 1910, 1929,\n",
       "       1975, 1976, 1973, 1977, 1978, 1979, 1980, 1982, 1983, 1981, 1917,\n",
       "       1919, 1994, 1930, 1897, 1920, 1921, 1899, 1900, 1904, 1911, 1912,\n",
       "       1896, 1909, 1905, 1906, 1907, 1908, 1894, 1895], dtype=int64)"
      ]
     },
     "execution_count": 1513,
     "metadata": {},
     "output_type": "execute_result"
    }
   ],
   "source": [
    "data['Prod_year'].unique()"
   ]
  },
  {
   "cell_type": "code",
   "execution_count": 1514,
   "id": "c353f510",
   "metadata": {},
   "outputs": [
    {
     "data": {
      "text/plain": [
       "<AxesSubplot:xlabel='Prod_year', ylabel='Count'>"
      ]
     },
     "execution_count": 1514,
     "metadata": {},
     "output_type": "execute_result"
    },
    {
     "data": {
      "image/png": "[encoded data removed]",
      "text/plain": [
       "<Figure size 640x480 with 1 Axes>"
      ]
     },
     "metadata": {},
     "output_type": "display_data"
    }
   ],
   "source": [
    "sns.histplot(data = data, x = \"Prod_year\" )"
   ]
  },
  {
   "cell_type": "markdown",
   "id": "d3867884",
   "metadata": {},
   "source": [
    "# Brand"
   ]
  },
  {
   "cell_type": "code",
   "execution_count": 1515,
   "id": "258c8508",
   "metadata": {},
   "outputs": [
    {
     "data": {
      "text/plain": [
       "Brand                      0\n",
       "Model                     28\n",
       "Category                   0\n",
       "Displacement (ccm)      1029\n",
       "Power (hp)             12381\n",
       "Engine cylinder           16\n",
       "Engine stroke             11\n",
       "Gearbox                 5810\n",
       "Fuel capacity (lts)     6796\n",
       "Fuel system            10650\n",
       "Fuel control           16511\n",
       "Cooling system          4221\n",
       "Transmission type       5631\n",
       "Dry weight (kg)        16009\n",
       "Wheelbase (mm)         13013\n",
       "Seat height (mm)       14318\n",
       "Prod_year                  0\n",
       "dtype: int64"
      ]
     },
     "execution_count": 1515,
     "metadata": {},
     "output_type": "execute_result"
    }
   ],
   "source": [
    "data.isna().sum()"
   ]
  },
  {
   "cell_type": "code",
   "execution_count": 1516,
   "id": "32a3eab9",
   "metadata": {},
   "outputs": [
    {
     "data": {
      "text/plain": [
       "array(['acabion', 'access', 'ace', 'adiva', 'adler', 'adly', 'aeon',\n",
       "       'aermacchi', 'agrati', 'ajp', 'ajs', 'alfer', 'alligator',\n",
       "       'allstate', 'alphasports', 'alta', 'amazonas', 'american eagle',\n",
       "       'american ironhorse', 'apc', 'aprilia', 'apsonic', 'arch',\n",
       "       'arctic cat', 'ardie', 'ariel', 'arlen ness', 'arqin', 'askoll',\n",
       "       'aspes', 'ather', 'atk', 'atlas honda', 'aurora',\n",
       "       'avanturaa choppers', 'avinton', 'avon', 'azel', 'bajaj', 'balkan',\n",
       "       'baltmotors', 'bamx', 'baotian', 'barossa', 'batavus', 'beeline',\n",
       "       'benelli', 'bennche', 'beta', 'better', 'big bear choppers',\n",
       "       'big dog', 'bimota', 'bintelli', 'black douglas', 'blackburne',\n",
       "       'blata', 'bluroc', 'bmc choppers', 'bmw', 'boom trikes', 'borile',\n",
       "       'boss hoss', 'bourget', 'bpg', 'brammo', 'bridgestone', 'britten',\n",
       "       'brixton', 'brockhouse', 'brough superior', 'brudeli', 'bsa',\n",
       "       'buccimoto', 'buell', 'bullit', 'bultaco', 'cagiva',\n",
       "       'california scooter', 'can-am', 'capirelli', 'cargobike', 'casal',\n",
       "       'caterham', 'ccm', 'cectek', 'cf moto', 'ch racing', 'chang-jiang',\n",
       "       'cheetah', 'cheney', 'christini', 'clarke', 'cleveland', 'clipic',\n",
       "       'clyno', 'cmc', 'cobra', 'combat motors', 'confederate',\n",
       "       'cosmos muscle bikes', 'cotton', 'coventry eagle', 'covingtons',\n",
       "       'cpi', 'cr&s', 'crocker', 'crp', 'csc motorcycles', 'csr',\n",
       "       'current motor', 'curtiss', 'cushman', 'cz', 'daelim', 'dafier',\n",
       "       'dafra', 'dam', 'damon', 'dandy', 'dayang', 'dayton', 'dayun',\n",
       "       'db motors', 'de dion-bouton', 'delfast', 'demak', 'derbi',\n",
       "       'derringer', 'df motor', 'dfang', 'di blasi', 'diamo', 'dihao',\n",
       "       'dinamo', 'dinli', 'dirico', 'dkw', 'dnepr', 'docker', 'dodge',\n",
       "       'dollar', 'donghai', 'douglas', 'drysdale', 'ducati', 'dürkopp',\n",
       "       'e-max', 'e-racer', 'e-ton', 'e-tropolis', 'eagle-wing', 'ebretti',\n",
       "       'eccity', 'ecosse', 'ecrp', 'eko', 'electric city',\n",
       "       'electric motion', 'emblem', 'emco', 'energica', 'enfield',\n",
       "       'erik buell racing', 'evader', 'evolet', 'evolve', 'excelsior',\n",
       "       'exile cycles', 'factory bike', 'falcon', 'fantic', 'fb mondial',\n",
       "       'fgr', 'fischer', 'flying merkel', 'flyrite choppers', 'fokamo',\n",
       "       'fosti', 'fuego', 'fx bikes', 'g&g', 'garelli', 'gas gas', 'geely',\n",
       "       'genata', 'generic', 'genuine scooter', 'geon', 'gg',\n",
       "       'ghezzi-brian', 'giantco', 'gibbs', 'gilera', 'goes', 'gogo moto',\n",
       "       'gogoro', 'govecs', 'grc moto', 'greentrans', 'greeves', 'gymotor',\n",
       "       'hadin', 'hamachi', 'hanway', 'haojin', 'haojue',\n",
       "       'harley-davidson', 'hartford', 'hdm', 'headbanger', 'heinkel',\n",
       "       'henderson', 'herald', 'hercules', 'hero', 'hesketh', 'highland',\n",
       "       'hildebrand-wolfmüller', 'hm', 'hodaka', 'honda', 'horex',\n",
       "       'horwin', 'hp power', 'hunter', 'husaberg', 'husqvarna', 'hyosung',\n",
       "       'ice bear', 'indian', 'innoscooter', 'intrepid', 'irbis',\n",
       "       'italika', 'italjet', 'italmoto', 'izh', 'izuka', 'james', 'janus',\n",
       "       'jawa', 'jawa-cz', 'jialing', 'jianshe', 'jincheng', 'jinlun',\n",
       "       'joerns motor', 'johammer', 'johnny pag', 'jonway', 'jordan',\n",
       "       'jotagas', 'jrl', 'junak', 'k2o', 'kabirdass', 'kangda', 'kanuni',\n",
       "       'kasinski', 'kawasaki', 'kayo', 'keeway', 'kenbo', 'kentoya',\n",
       "       'kikker 5150', 'kinetic', 'kinroad', 'kollter', 'kramit', 'krc',\n",
       "       'kreidler', 'ksr', 'ktm', 'kuba', 'kuberg', 'kumpan', 'kurazai',\n",
       "       'kymco', 'lambretta', 'lauge jensen', 'laverda', 'lea francis',\n",
       "       'lectrix', 'lehman trikes', 'lem', 'leonart', 'leonhardt',\n",
       "       'lexmoto', 'lifan', 'lightning', 'ligier', 'linhai', 'lintex',\n",
       "       'lit motors', 'lito', 'livewire', 'lml', 'lohia', 'loncin',\n",
       "       'longjia', 'lsl', 'luxxon', 'macbor', 'magnat debon', 'magni',\n",
       "       'mahindra', 'maico', 'malaguti', 'malanca',\n",
       "       'marine turbine technologies', 'marks', 'marsh', 'marusho', 'mash',\n",
       "       'matchless', 'mavizen', 'mbk', 'mbs', 'megelli', 'metisse', 'mgb',\n",
       "       'mh', 'midual', 'mikilon', 'millet', 'mini', 'minsk', 'mission',\n",
       "       'mitt', 'mm', 'modenas', 'monark', 'mondial', 'montesa',\n",
       "       'monto motors', 'moto gima', 'moto guzzi', 'moto morini',\n",
       "       'moto union/omv', 'motobi', 'motoczysz', 'motolevo', 'motom',\n",
       "       'motomel', 'motoposh', 'motorhispania', 'motorino',\n",
       "       'motors europe', 'mototrans', 'motowell', 'motus', 'mustang',\n",
       "       'muz', 'mv agusta', 'mz', 'münch', 'ncr', 'neander', 'neco',\n",
       "       'nembo', 'new hudson', 'nimbus', 'nipponia', 'niu', 'norton',\n",
       "       'nox', 'nsu', 'nuuk', 'ohvale', 'okinawa', 'opel', 'orcal',\n",
       "       'orient', 'orion', 'oset', 'ossa', 'otto bike', 'over', 'oxygen',\n",
       "       'pagsta', 'palmo', 'pannonia', 'panther', 'paton', 'peda',\n",
       "       'penton', 'peraves', 'perks and birch', 'peugeot', 'pgo',\n",
       "       'piaggio', 'pierce', 'pitster pro', 'polaris', 'polini', 'pope',\n",
       "       'power chief', 'praga', 'prc (pro racing cycles)',\n",
       "       'precision cycle works', 'pro-one', 'proeco', 'puch', 'puma',\n",
       "       'qingqi', 'qjmotor', 'qlink', 'qooder', 'quadro', 'quantya',\n",
       "       'raleigh', 'ravi piaggio', 'raybar', 'reading standard',\n",
       "       'red wing', 'redneck', 'revolt', 'rewaco', 'rhino', 'rickman',\n",
       "       'ridley', 'riedel', 'rieju', 'rikuo', 'road hopper', 'rockford',\n",
       "       'roehr', 'rokon', 'romet', 'roxon', 'royal alloy', 'royal pioneer',\n",
       "       'rucker performance', 'rudge', 'sachs', 'samurai chopper',\n",
       "       'sanglas', 'sanya', 'sarolea', 'saxon', 'saxxx', 'schickel',\n",
       "       'schwinn', 'scomadi', 'scorpa', 'scott', 'sears', 'seat', 'senke',\n",
       "       'serpento', 'shanyang', 'sherco', 'shineray', 'shinetime',\n",
       "       'siamoto', 'silence', 'silk', 'simplex', 'simson', 'sinnis',\n",
       "       'skygo', 'skyteam', 'sommer', 'sonik', 'sora', 'soriano', 'sparta',\n",
       "       'standbike', 'starway/chu lan', 'stealth', 'stels',\n",
       "       'sucker punch sallys', 'sukida', 'sunbeam', 'sundiro',\n",
       "       'super gato', 'super motor', 'super soco', 'suzuki', 'suzuko',\n",
       "       'svm', 'swaygo', 'swift', 'swm', 'sym', 'tacita', 'tank sports',\n",
       "       'tao motor', 'tauris', 'tayo', 'techo electra', 'terra modena',\n",
       "       'terrot', 'tgb', 'thumpstar', 'tiger', 'titan', 'tm racing',\n",
       "       'tohqi', 'tomberlin', 'tomos', 'tork', 'torrot', 'track',\n",
       "       'travertson', 'triton', 'triumph', 'troll', 'trs', 'tunturi',\n",
       "       'tvs', 'ultra', 'um', 'unu', 'ural', 'vahrenkamp', 'valenti',\n",
       "       'van veen', 'vastro', 'vectrix', 'veli', 'velocette', 'veloci',\n",
       "       'vent', 'vento', 'vertemati', 'vertigo', 'vervemoto', 'vespa',\n",
       "       'vetter', 'viarelli', 'vibgyor', 'victoria', 'victory', 'vincent',\n",
       "       'vins', 'viper', 'vmoto', 'voge', 'volta', 'von dutch', 'vor',\n",
       "       'voskhod', 'voxan', 'vuka', 'vyrus', 'wakan', 'werner',\n",
       "       'west coast choppers', 'whizzer', 'wk', 'wrm', 'wsk', 'wt motors',\n",
       "       'xingfu', 'xingyue', 'xispa', 'xmotos', 'xor', 'yadea', 'yale',\n",
       "       'yamaha', 'yangtze', 'yiben', 'yobykes', 'yuki', 'zanella', 'zero',\n",
       "       'zest', 'zev', 'znen', 'zongshen', 'zontes', 'zweirad-union',\n",
       "       'zündapp'], dtype=object)"
      ]
     },
     "execution_count": 1516,
     "metadata": {},
     "output_type": "execute_result"
    }
   ],
   "source": [
    "data['Brand'].unique()\n",
    "# i checked names from the internet they are clean"
   ]
  },
  {
   "cell_type": "code",
   "execution_count": 1517,
   "id": "31f73806",
   "metadata": {},
   "outputs": [],
   "source": [
    "# check\n",
    "data['Brand'] = data['Brand'].str.lower().str.strip()"
   ]
  },
  {
   "cell_type": "code",
   "execution_count": 1518,
   "id": "7472086b",
   "metadata": {},
   "outputs": [
    {
     "data": {
      "text/plain": [
       "array(['acabion', 'access', 'ace', 'adiva', 'adler', 'adly', 'aeon',\n",
       "       'aermacchi', 'agrati', 'ajp', 'ajs', 'alfer', 'alligator',\n",
       "       'allstate', 'alphasports', 'alta', 'amazonas', 'american eagle',\n",
       "       'american ironhorse', 'apc', 'aprilia', 'apsonic', 'arch',\n",
       "       'arctic cat', 'ardie', 'ariel', 'arlen ness', 'arqin', 'askoll',\n",
       "       'aspes', 'ather', 'atk', 'atlas honda', 'aurora',\n",
       "       'avanturaa choppers', 'avinton', 'avon', 'azel', 'bajaj', 'balkan',\n",
       "       'baltmotors', 'bamx', 'baotian', 'barossa', 'batavus', 'beeline',\n",
       "       'benelli', 'bennche', 'beta', 'better', 'big bear choppers',\n",
       "       'big dog', 'bimota', 'bintelli', 'black douglas', 'blackburne',\n",
       "       'blata', 'bluroc', 'bmc choppers', 'bmw', 'boom trikes', 'borile',\n",
       "       'boss hoss', 'bourget', 'bpg', 'brammo', 'bridgestone', 'britten',\n",
       "       'brixton', 'brockhouse', 'brough superior', 'brudeli', 'bsa',\n",
       "       'buccimoto', 'buell', 'bullit', 'bultaco', 'cagiva',\n",
       "       'california scooter', 'can-am', 'capirelli', 'cargobike', 'casal',\n",
       "       'caterham', 'ccm', 'cectek', 'cf moto', 'ch racing', 'chang-jiang',\n",
       "       'cheetah', 'cheney', 'christini', 'clarke', 'cleveland', 'clipic',\n",
       "       'clyno', 'cmc', 'cobra', 'combat motors', 'confederate',\n",
       "       'cosmos muscle bikes', 'cotton', 'coventry eagle', 'covingtons',\n",
       "       'cpi', 'cr&s', 'crocker', 'crp', 'csc motorcycles', 'csr',\n",
       "       'current motor', 'curtiss', 'cushman', 'cz', 'daelim', 'dafier',\n",
       "       'dafra', 'dam', 'damon', 'dandy', 'dayang', 'dayton', 'dayun',\n",
       "       'db motors', 'de dion-bouton', 'delfast', 'demak', 'derbi',\n",
       "       'derringer', 'df motor', 'dfang', 'di blasi', 'diamo', 'dihao',\n",
       "       'dinamo', 'dinli', 'dirico', 'dkw', 'dnepr', 'docker', 'dodge',\n",
       "       'dollar', 'donghai', 'douglas', 'drysdale', 'ducati', 'dürkopp',\n",
       "       'e-max', 'e-racer', 'e-ton', 'e-tropolis', 'eagle-wing', 'ebretti',\n",
       "       'eccity', 'ecosse', 'ecrp', 'eko', 'electric city',\n",
       "       'electric motion', 'emblem', 'emco', 'energica', 'enfield',\n",
       "       'erik buell racing', 'evader', 'evolet', 'evolve', 'excelsior',\n",
       "       'exile cycles', 'factory bike', 'falcon', 'fantic', 'fb mondial',\n",
       "       'fgr', 'fischer', 'flying merkel', 'flyrite choppers', 'fokamo',\n",
       "       'fosti', 'fuego', 'fx bikes', 'g&g', 'garelli', 'gas gas', 'geely',\n",
       "       'genata', 'generic', 'genuine scooter', 'geon', 'gg',\n",
       "       'ghezzi-brian', 'giantco', 'gibbs', 'gilera', 'goes', 'gogo moto',\n",
       "       'gogoro', 'govecs', 'grc moto', 'greentrans', 'greeves', 'gymotor',\n",
       "       'hadin', 'hamachi', 'hanway', 'haojin', 'haojue',\n",
       "       'harley-davidson', 'hartford', 'hdm', 'headbanger', 'heinkel',\n",
       "       'henderson', 'herald', 'hercules', 'hero', 'hesketh', 'highland',\n",
       "       'hildebrand-wolfmüller', 'hm', 'hodaka', 'honda', 'horex',\n",
       "       'horwin', 'hp power', 'hunter', 'husaberg', 'husqvarna', 'hyosung',\n",
       "       'ice bear', 'indian', 'innoscooter', 'intrepid', 'irbis',\n",
       "       'italika', 'italjet', 'italmoto', 'izh', 'izuka', 'james', 'janus',\n",
       "       'jawa', 'jawa-cz', 'jialing', 'jianshe', 'jincheng', 'jinlun',\n",
       "       'joerns motor', 'johammer', 'johnny pag', 'jonway', 'jordan',\n",
       "       'jotagas', 'jrl', 'junak', 'k2o', 'kabirdass', 'kangda', 'kanuni',\n",
       "       'kasinski', 'kawasaki', 'kayo', 'keeway', 'kenbo', 'kentoya',\n",
       "       'kikker 5150', 'kinetic', 'kinroad', 'kollter', 'kramit', 'krc',\n",
       "       'kreidler', 'ksr', 'ktm', 'kuba', 'kuberg', 'kumpan', 'kurazai',\n",
       "       'kymco', 'lambretta', 'lauge jensen', 'laverda', 'lea francis',\n",
       "       'lectrix', 'lehman trikes', 'lem', 'leonart', 'leonhardt',\n",
       "       'lexmoto', 'lifan', 'lightning', 'ligier', 'linhai', 'lintex',\n",
       "       'lit motors', 'lito', 'livewire', 'lml', 'lohia', 'loncin',\n",
       "       'longjia', 'lsl', 'luxxon', 'macbor', 'magnat debon', 'magni',\n",
       "       'mahindra', 'maico', 'malaguti', 'malanca',\n",
       "       'marine turbine technologies', 'marks', 'marsh', 'marusho', 'mash',\n",
       "       'matchless', 'mavizen', 'mbk', 'mbs', 'megelli', 'metisse', 'mgb',\n",
       "       'mh', 'midual', 'mikilon', 'millet', 'mini', 'minsk', 'mission',\n",
       "       'mitt', 'mm', 'modenas', 'monark', 'mondial', 'montesa',\n",
       "       'monto motors', 'moto gima', 'moto guzzi', 'moto morini',\n",
       "       'moto union/omv', 'motobi', 'motoczysz', 'motolevo', 'motom',\n",
       "       'motomel', 'motoposh', 'motorhispania', 'motorino',\n",
       "       'motors europe', 'mototrans', 'motowell', 'motus', 'mustang',\n",
       "       'muz', 'mv agusta', 'mz', 'münch', 'ncr', 'neander', 'neco',\n",
       "       'nembo', 'new hudson', 'nimbus', 'nipponia', 'niu', 'norton',\n",
       "       'nox', 'nsu', 'nuuk', 'ohvale', 'okinawa', 'opel', 'orcal',\n",
       "       'orient', 'orion', 'oset', 'ossa', 'otto bike', 'over', 'oxygen',\n",
       "       'pagsta', 'palmo', 'pannonia', 'panther', 'paton', 'peda',\n",
       "       'penton', 'peraves', 'perks and birch', 'peugeot', 'pgo',\n",
       "       'piaggio', 'pierce', 'pitster pro', 'polaris', 'polini', 'pope',\n",
       "       'power chief', 'praga', 'prc (pro racing cycles)',\n",
       "       'precision cycle works', 'pro-one', 'proeco', 'puch', 'puma',\n",
       "       'qingqi', 'qjmotor', 'qlink', 'qooder', 'quadro', 'quantya',\n",
       "       'raleigh', 'ravi piaggio', 'raybar', 'reading standard',\n",
       "       'red wing', 'redneck', 'revolt', 'rewaco', 'rhino', 'rickman',\n",
       "       'ridley', 'riedel', 'rieju', 'rikuo', 'road hopper', 'rockford',\n",
       "       'roehr', 'rokon', 'romet', 'roxon', 'royal alloy', 'royal pioneer',\n",
       "       'rucker performance', 'rudge', 'sachs', 'samurai chopper',\n",
       "       'sanglas', 'sanya', 'sarolea', 'saxon', 'saxxx', 'schickel',\n",
       "       'schwinn', 'scomadi', 'scorpa', 'scott', 'sears', 'seat', 'senke',\n",
       "       'serpento', 'shanyang', 'sherco', 'shineray', 'shinetime',\n",
       "       'siamoto', 'silence', 'silk', 'simplex', 'simson', 'sinnis',\n",
       "       'skygo', 'skyteam', 'sommer', 'sonik', 'sora', 'soriano', 'sparta',\n",
       "       'standbike', 'starway/chu lan', 'stealth', 'stels',\n",
       "       'sucker punch sallys', 'sukida', 'sunbeam', 'sundiro',\n",
       "       'super gato', 'super motor', 'super soco', 'suzuki', 'suzuko',\n",
       "       'svm', 'swaygo', 'swift', 'swm', 'sym', 'tacita', 'tank sports',\n",
       "       'tao motor', 'tauris', 'tayo', 'techo electra', 'terra modena',\n",
       "       'terrot', 'tgb', 'thumpstar', 'tiger', 'titan', 'tm racing',\n",
       "       'tohqi', 'tomberlin', 'tomos', 'tork', 'torrot', 'track',\n",
       "       'travertson', 'triton', 'triumph', 'troll', 'trs', 'tunturi',\n",
       "       'tvs', 'ultra', 'um', 'unu', 'ural', 'vahrenkamp', 'valenti',\n",
       "       'van veen', 'vastro', 'vectrix', 'veli', 'velocette', 'veloci',\n",
       "       'vent', 'vento', 'vertemati', 'vertigo', 'vervemoto', 'vespa',\n",
       "       'vetter', 'viarelli', 'vibgyor', 'victoria', 'victory', 'vincent',\n",
       "       'vins', 'viper', 'vmoto', 'voge', 'volta', 'von dutch', 'vor',\n",
       "       'voskhod', 'voxan', 'vuka', 'vyrus', 'wakan', 'werner',\n",
       "       'west coast choppers', 'whizzer', 'wk', 'wrm', 'wsk', 'wt motors',\n",
       "       'xingfu', 'xingyue', 'xispa', 'xmotos', 'xor', 'yadea', 'yale',\n",
       "       'yamaha', 'yangtze', 'yiben', 'yobykes', 'yuki', 'zanella', 'zero',\n",
       "       'zest', 'zev', 'znen', 'zongshen', 'zontes', 'zweirad-union',\n",
       "       'zündapp'], dtype=object)"
      ]
     },
     "execution_count": 1518,
     "metadata": {},
     "output_type": "execute_result"
    }
   ],
   "source": [
    "data['Brand'].unique()"
   ]
  },
  {
   "cell_type": "markdown",
   "id": "ae1b1266",
   "metadata": {},
   "source": [
    "# Model"
   ]
  },
  {
   "cell_type": "code",
   "execution_count": 1519,
   "id": "456e1716",
   "metadata": {},
   "outputs": [
    {
     "data": {
      "text/plain": [
       "Brand                      0\n",
       "Model                     28\n",
       "Category                   0\n",
       "Displacement (ccm)      1029\n",
       "Power (hp)             12381\n",
       "Engine cylinder           16\n",
       "Engine stroke             11\n",
       "Gearbox                 5810\n",
       "Fuel capacity (lts)     6796\n",
       "Fuel system            10650\n",
       "Fuel control           16511\n",
       "Cooling system          4221\n",
       "Transmission type       5631\n",
       "Dry weight (kg)        16009\n",
       "Wheelbase (mm)         13013\n",
       "Seat height (mm)       14318\n",
       "Prod_year                  0\n",
       "dtype: int64"
      ]
     },
     "execution_count": 1519,
     "metadata": {},
     "output_type": "execute_result"
    }
   ],
   "source": [
    "data.isna().sum()"
   ]
  },
  {
   "cell_type": "code",
   "execution_count": 1520,
   "id": "6f0e8352",
   "metadata": {},
   "outputs": [
    {
     "data": {
      "text/plain": [
       "array(['da vinci 650-vi', 'gtbo 55', 'gtbo 600 daytona-vi', ..., 'z 22',\n",
       "       'z 249', 'z 300'], dtype=object)"
      ]
     },
     "execution_count": 1520,
     "metadata": {},
     "output_type": "execute_result"
    }
   ],
   "source": [
    "data['Model'].unique()"
   ]
  },
  {
   "cell_type": "code",
   "execution_count": 1521,
   "id": "8c66c37b",
   "metadata": {},
   "outputs": [
    {
     "data": {
      "text/plain": [
       "25912                        speedfight 2\n",
       "20477                    450 exc six days\n",
       "35504                        mt-09 tracer\n",
       "30554                               t 500\n",
       "4483                            bhc-3 ls2\n",
       "27272                                tora\n",
       "12620                        cbr 300r abs\n",
       "22273                        fun 125 plus\n",
       "1697                  4g square four 1000\n",
       "25835                 ludix one dual seat\n",
       "16995                             cyclone\n",
       "18988                z 440 ltd belt drive\n",
       "23449                        mgx-21  1400\n",
       "19571                           matrix 50\n",
       "36173                                tmax\n",
       "30157                       ls 650 savage\n",
       "33820                   granturismo 200 l\n",
       "34268                 hrd series b rapide\n",
       "28072         epa luxurious dirt bike 250\n",
       "8772                           ec 515 fsr\n",
       "1832                    vh 500 red hunter\n",
       "10954               sportster forty-eight\n",
       "4991                             mito 125\n",
       "25944                         tkr furious\n",
       "17620                              kh 400\n",
       "28752                         burgman 200\n",
       "31526                              f4 150\n",
       "36139                             tdm 900\n",
       "5470                           cforce 600\n",
       "23532                sport 1100 injection\n",
       "16520                            ttr 223r\n",
       "13180                           crf250xrl\n",
       "4168                    r ninet scrambler\n",
       "35493                           mt-09 abs\n",
       "35455                               mt-03\n",
       "29326                   gsf 1200 s bandit\n",
       "9756     1340 electra glide ultra classic\n",
       "31408                           303rs 125\n",
       "24405                              350 gt\n",
       "14712                 vfr 800 interceptor\n",
       "2350                            bn 600 gt\n",
       "1583                              tbx 700\n",
       "34816                                ds 7\n",
       "15243                             1400 ti\n",
       "7750                         sport 1000 s\n",
       "27096                              mrx 50\n",
       "16772                           350 tramp\n",
       "37904                              yzf-r1\n",
       "28093                           automatic\n",
       "36143                             tdm 900\n",
       "Name: Model, dtype: object"
      ]
     },
     "execution_count": 1521,
     "metadata": {},
     "output_type": "execute_result"
    }
   ],
   "source": [
    "data['Model'].sample(n=50)"
   ]
  },
  {
   "cell_type": "code",
   "execution_count": 1522,
   "id": "a8f10eb5",
   "metadata": {},
   "outputs": [
    {
     "data": {
      "text/plain": [
       "False    38472\n",
       "True        71\n",
       "dtype: int64"
      ]
     },
     "execution_count": 1522,
     "metadata": {},
     "output_type": "execute_result"
    }
   ],
   "source": [
    "data.duplicated().value_counts()"
   ]
  },
  {
   "cell_type": "code",
   "execution_count": 1523,
   "id": "e76eecc2",
   "metadata": {},
   "outputs": [],
   "source": [
    "data.drop_duplicates(inplace=True)"
   ]
  },
  {
   "cell_type": "code",
   "execution_count": 1524,
   "id": "6750cb95",
   "metadata": {},
   "outputs": [
    {
     "data": {
      "text/plain": [
       "False    38472\n",
       "dtype: int64"
      ]
     },
     "execution_count": 1524,
     "metadata": {},
     "output_type": "execute_result"
    }
   ],
   "source": [
    "data.duplicated().value_counts()"
   ]
  },
  {
   "cell_type": "code",
   "execution_count": 1525,
   "id": "8e5be533",
   "metadata": {},
   "outputs": [
    {
     "data": {
      "text/plain": [
       "Brand                      0\n",
       "Model                     28\n",
       "Category                   0\n",
       "Displacement (ccm)      1011\n",
       "Power (hp)             12362\n",
       "Engine cylinder           16\n",
       "Engine stroke             11\n",
       "Gearbox                 5797\n",
       "Fuel capacity (lts)     6768\n",
       "Fuel system            10628\n",
       "Fuel control           16463\n",
       "Cooling system          4214\n",
       "Transmission type       5611\n",
       "Dry weight (kg)        15989\n",
       "Wheelbase (mm)         12980\n",
       "Seat height (mm)       14290\n",
       "Prod_year                  0\n",
       "dtype: int64"
      ]
     },
     "execution_count": 1525,
     "metadata": {},
     "output_type": "execute_result"
    }
   ],
   "source": [
    "data.isna().sum()"
   ]
  },
  {
   "cell_type": "code",
   "execution_count": 1526,
   "id": "8572911f",
   "metadata": {},
   "outputs": [
    {
     "data": {
      "text/html": [
       "<div>\n",
       "<style scoped>\n",
       "    .dataframe tbody tr th:only-of-type {\n",
       "        vertical-align: middle;\n",
       "    }\n",
       "\n",
       "    .dataframe tbody tr th {\n",
       "        vertical-align: top;\n",
       "    }\n",
       "\n",
       "    .dataframe thead th {\n",
       "        text-align: right;\n",
       "    }\n",
       "</style>\n",
       "<table border=\"1\" class=\"dataframe\">\n",
       "  <thead>\n",
       "    <tr style=\"text-align: right;\">\n",
       "      <th></th>\n",
       "      <th>Brand</th>\n",
       "      <th>Model</th>\n",
       "      <th>Category</th>\n",
       "      <th>Displacement (ccm)</th>\n",
       "      <th>Power (hp)</th>\n",
       "      <th>Engine cylinder</th>\n",
       "      <th>Engine stroke</th>\n",
       "      <th>Gearbox</th>\n",
       "      <th>Fuel capacity (lts)</th>\n",
       "      <th>Fuel system</th>\n",
       "      <th>Fuel control</th>\n",
       "      <th>Cooling system</th>\n",
       "      <th>Transmission type</th>\n",
       "      <th>Dry weight (kg)</th>\n",
       "      <th>Wheelbase (mm)</th>\n",
       "      <th>Seat height (mm)</th>\n",
       "      <th>Prod_year</th>\n",
       "    </tr>\n",
       "  </thead>\n",
       "  <tbody>\n",
       "    <tr>\n",
       "      <th>5831</th>\n",
       "      <td>coventry eagle</td>\n",
       "      <td>NaN</td>\n",
       "      <td>Allround</td>\n",
       "      <td>998.0</td>\n",
       "      <td>85.5</td>\n",
       "      <td>Twin</td>\n",
       "      <td>four-stroke</td>\n",
       "      <td>NaN</td>\n",
       "      <td>NaN</td>\n",
       "      <td>Carburettor</td>\n",
       "      <td>NaN</td>\n",
       "      <td>Air</td>\n",
       "      <td>Chain</td>\n",
       "      <td>175.0</td>\n",
       "      <td>NaN</td>\n",
       "      <td>NaN</td>\n",
       "      <td>1922</td>\n",
       "    </tr>\n",
       "    <tr>\n",
       "      <th>5832</th>\n",
       "      <td>coventry eagle</td>\n",
       "      <td>NaN</td>\n",
       "      <td>Allround</td>\n",
       "      <td>998.0</td>\n",
       "      <td>85.5</td>\n",
       "      <td>Twin</td>\n",
       "      <td>four-stroke</td>\n",
       "      <td>NaN</td>\n",
       "      <td>NaN</td>\n",
       "      <td>Carburettor</td>\n",
       "      <td>NaN</td>\n",
       "      <td>Air</td>\n",
       "      <td>Chain</td>\n",
       "      <td>175.0</td>\n",
       "      <td>NaN</td>\n",
       "      <td>NaN</td>\n",
       "      <td>1923</td>\n",
       "    </tr>\n",
       "    <tr>\n",
       "      <th>5833</th>\n",
       "      <td>coventry eagle</td>\n",
       "      <td>NaN</td>\n",
       "      <td>Allround</td>\n",
       "      <td>998.0</td>\n",
       "      <td>85.5</td>\n",
       "      <td>Twin</td>\n",
       "      <td>four-stroke</td>\n",
       "      <td>NaN</td>\n",
       "      <td>NaN</td>\n",
       "      <td>Carburettor</td>\n",
       "      <td>NaN</td>\n",
       "      <td>Air</td>\n",
       "      <td>Chain</td>\n",
       "      <td>175.0</td>\n",
       "      <td>NaN</td>\n",
       "      <td>NaN</td>\n",
       "      <td>1924</td>\n",
       "    </tr>\n",
       "    <tr>\n",
       "      <th>5834</th>\n",
       "      <td>coventry eagle</td>\n",
       "      <td>NaN</td>\n",
       "      <td>Allround</td>\n",
       "      <td>998.0</td>\n",
       "      <td>85.5</td>\n",
       "      <td>Twin</td>\n",
       "      <td>four-stroke</td>\n",
       "      <td>NaN</td>\n",
       "      <td>NaN</td>\n",
       "      <td>Carburettor</td>\n",
       "      <td>NaN</td>\n",
       "      <td>Air</td>\n",
       "      <td>Chain</td>\n",
       "      <td>175.0</td>\n",
       "      <td>NaN</td>\n",
       "      <td>NaN</td>\n",
       "      <td>1925</td>\n",
       "    </tr>\n",
       "    <tr>\n",
       "      <th>5835</th>\n",
       "      <td>coventry eagle</td>\n",
       "      <td>NaN</td>\n",
       "      <td>Allround</td>\n",
       "      <td>998.0</td>\n",
       "      <td>85.5</td>\n",
       "      <td>Twin</td>\n",
       "      <td>four-stroke</td>\n",
       "      <td>NaN</td>\n",
       "      <td>NaN</td>\n",
       "      <td>Carburettor</td>\n",
       "      <td>NaN</td>\n",
       "      <td>Air</td>\n",
       "      <td>Chain</td>\n",
       "      <td>175.0</td>\n",
       "      <td>NaN</td>\n",
       "      <td>NaN</td>\n",
       "      <td>1926</td>\n",
       "    </tr>\n",
       "    <tr>\n",
       "      <th>5836</th>\n",
       "      <td>coventry eagle</td>\n",
       "      <td>NaN</td>\n",
       "      <td>Allround</td>\n",
       "      <td>998.0</td>\n",
       "      <td>85.5</td>\n",
       "      <td>Twin</td>\n",
       "      <td>four-stroke</td>\n",
       "      <td>NaN</td>\n",
       "      <td>NaN</td>\n",
       "      <td>Carburettor</td>\n",
       "      <td>NaN</td>\n",
       "      <td>Air</td>\n",
       "      <td>Chain</td>\n",
       "      <td>175.0</td>\n",
       "      <td>NaN</td>\n",
       "      <td>NaN</td>\n",
       "      <td>1927</td>\n",
       "    </tr>\n",
       "    <tr>\n",
       "      <th>5837</th>\n",
       "      <td>coventry eagle</td>\n",
       "      <td>NaN</td>\n",
       "      <td>Allround</td>\n",
       "      <td>998.0</td>\n",
       "      <td>85.5</td>\n",
       "      <td>Twin</td>\n",
       "      <td>four-stroke</td>\n",
       "      <td>NaN</td>\n",
       "      <td>NaN</td>\n",
       "      <td>Carburettor</td>\n",
       "      <td>NaN</td>\n",
       "      <td>Air</td>\n",
       "      <td>Chain</td>\n",
       "      <td>175.0</td>\n",
       "      <td>NaN</td>\n",
       "      <td>NaN</td>\n",
       "      <td>1928</td>\n",
       "    </tr>\n",
       "    <tr>\n",
       "      <th>5838</th>\n",
       "      <td>coventry eagle</td>\n",
       "      <td>NaN</td>\n",
       "      <td>Allround</td>\n",
       "      <td>998.0</td>\n",
       "      <td>85.5</td>\n",
       "      <td>Twin</td>\n",
       "      <td>four-stroke</td>\n",
       "      <td>NaN</td>\n",
       "      <td>NaN</td>\n",
       "      <td>Carburettor</td>\n",
       "      <td>NaN</td>\n",
       "      <td>Air</td>\n",
       "      <td>Chain</td>\n",
       "      <td>175.0</td>\n",
       "      <td>NaN</td>\n",
       "      <td>NaN</td>\n",
       "      <td>1929</td>\n",
       "    </tr>\n",
       "    <tr>\n",
       "      <th>6063</th>\n",
       "      <td>cz</td>\n",
       "      <td>NaN</td>\n",
       "      <td>Unspecified category</td>\n",
       "      <td>180.0</td>\n",
       "      <td>13.0</td>\n",
       "      <td>Single cylinder</td>\n",
       "      <td>two-stroke</td>\n",
       "      <td>4-speed</td>\n",
       "      <td>12.50</td>\n",
       "      <td>NaN</td>\n",
       "      <td>NaN</td>\n",
       "      <td>NaN</td>\n",
       "      <td>NaN</td>\n",
       "      <td>128.0</td>\n",
       "      <td>NaN</td>\n",
       "      <td>780.0</td>\n",
       "      <td>1994</td>\n",
       "    </tr>\n",
       "    <tr>\n",
       "      <th>6697</th>\n",
       "      <td>derringer</td>\n",
       "      <td>NaN</td>\n",
       "      <td>Classic</td>\n",
       "      <td>49.0</td>\n",
       "      <td>NaN</td>\n",
       "      <td>Single cylinder</td>\n",
       "      <td>four-stroke</td>\n",
       "      <td>Automatic</td>\n",
       "      <td>6.81</td>\n",
       "      <td>Carburettor</td>\n",
       "      <td>NaN</td>\n",
       "      <td>NaN</td>\n",
       "      <td>Chain</td>\n",
       "      <td>NaN</td>\n",
       "      <td>NaN</td>\n",
       "      <td>NaN</td>\n",
       "      <td>2010</td>\n",
       "    </tr>\n",
       "    <tr>\n",
       "      <th>6739</th>\n",
       "      <td>di blasi</td>\n",
       "      <td>NaN</td>\n",
       "      <td>Scooter</td>\n",
       "      <td>49.0</td>\n",
       "      <td>NaN</td>\n",
       "      <td>Single cylinder</td>\n",
       "      <td>four-stroke</td>\n",
       "      <td>NaN</td>\n",
       "      <td>3.00</td>\n",
       "      <td>NaN</td>\n",
       "      <td>NaN</td>\n",
       "      <td>Air</td>\n",
       "      <td>NaN</td>\n",
       "      <td>32.0</td>\n",
       "      <td>NaN</td>\n",
       "      <td>760.0</td>\n",
       "      <td>2003</td>\n",
       "    </tr>\n",
       "    <tr>\n",
       "      <th>7024</th>\n",
       "      <td>dnepr</td>\n",
       "      <td>NaN</td>\n",
       "      <td>Unspecified category</td>\n",
       "      <td>649.0</td>\n",
       "      <td>27.0</td>\n",
       "      <td>Two cylinder boxer</td>\n",
       "      <td>four-stroke</td>\n",
       "      <td>4-speed</td>\n",
       "      <td>19.00</td>\n",
       "      <td>NaN</td>\n",
       "      <td>NaN</td>\n",
       "      <td>NaN</td>\n",
       "      <td>NaN</td>\n",
       "      <td>NaN</td>\n",
       "      <td>NaN</td>\n",
       "      <td>830.0</td>\n",
       "      <td>1993</td>\n",
       "    </tr>\n",
       "    <tr>\n",
       "      <th>7025</th>\n",
       "      <td>dnepr</td>\n",
       "      <td>NaN</td>\n",
       "      <td>Classic</td>\n",
       "      <td>650.0</td>\n",
       "      <td>32.0</td>\n",
       "      <td>Two cylinder boxer</td>\n",
       "      <td>four-stroke</td>\n",
       "      <td>4-speed</td>\n",
       "      <td>19.00</td>\n",
       "      <td>Carburettor</td>\n",
       "      <td>NaN</td>\n",
       "      <td>NaN</td>\n",
       "      <td>Shaft drive</td>\n",
       "      <td>NaN</td>\n",
       "      <td>1490.0</td>\n",
       "      <td>700.0</td>\n",
       "      <td>2001</td>\n",
       "    </tr>\n",
       "    <tr>\n",
       "      <th>8035</th>\n",
       "      <td>emblem</td>\n",
       "      <td>NaN</td>\n",
       "      <td>Allround</td>\n",
       "      <td>38.0</td>\n",
       "      <td>NaN</td>\n",
       "      <td>Single cylinder</td>\n",
       "      <td>four-stroke</td>\n",
       "      <td>NaN</td>\n",
       "      <td>NaN</td>\n",
       "      <td>Carburettor. Emblem</td>\n",
       "      <td>NaN</td>\n",
       "      <td>NaN</td>\n",
       "      <td>Belt</td>\n",
       "      <td>NaN</td>\n",
       "      <td>NaN</td>\n",
       "      <td>NaN</td>\n",
       "      <td>1911</td>\n",
       "    </tr>\n",
       "    <tr>\n",
       "      <th>8036</th>\n",
       "      <td>emblem</td>\n",
       "      <td>NaN</td>\n",
       "      <td>Allround</td>\n",
       "      <td>38.0</td>\n",
       "      <td>NaN</td>\n",
       "      <td>Single cylinder</td>\n",
       "      <td>four-stroke</td>\n",
       "      <td>NaN</td>\n",
       "      <td>NaN</td>\n",
       "      <td>Carburettor. Emblem</td>\n",
       "      <td>NaN</td>\n",
       "      <td>NaN</td>\n",
       "      <td>Belt</td>\n",
       "      <td>NaN</td>\n",
       "      <td>NaN</td>\n",
       "      <td>NaN</td>\n",
       "      <td>1912</td>\n",
       "    </tr>\n",
       "    <tr>\n",
       "      <th>8037</th>\n",
       "      <td>emblem</td>\n",
       "      <td>NaN</td>\n",
       "      <td>Allround</td>\n",
       "      <td>38.0</td>\n",
       "      <td>NaN</td>\n",
       "      <td>Single cylinder</td>\n",
       "      <td>four-stroke</td>\n",
       "      <td>NaN</td>\n",
       "      <td>NaN</td>\n",
       "      <td>Carburettor. Emblem</td>\n",
       "      <td>NaN</td>\n",
       "      <td>NaN</td>\n",
       "      <td>Belt</td>\n",
       "      <td>NaN</td>\n",
       "      <td>NaN</td>\n",
       "      <td>NaN</td>\n",
       "      <td>1913</td>\n",
       "    </tr>\n",
       "    <tr>\n",
       "      <th>8038</th>\n",
       "      <td>emblem</td>\n",
       "      <td>NaN</td>\n",
       "      <td>Allround</td>\n",
       "      <td>38.0</td>\n",
       "      <td>NaN</td>\n",
       "      <td>Single cylinder</td>\n",
       "      <td>four-stroke</td>\n",
       "      <td>NaN</td>\n",
       "      <td>NaN</td>\n",
       "      <td>Carburettor. Emblem</td>\n",
       "      <td>NaN</td>\n",
       "      <td>NaN</td>\n",
       "      <td>Belt</td>\n",
       "      <td>NaN</td>\n",
       "      <td>NaN</td>\n",
       "      <td>NaN</td>\n",
       "      <td>1914</td>\n",
       "    </tr>\n",
       "    <tr>\n",
       "      <th>8039</th>\n",
       "      <td>emblem</td>\n",
       "      <td>NaN</td>\n",
       "      <td>Allround</td>\n",
       "      <td>38.0</td>\n",
       "      <td>NaN</td>\n",
       "      <td>Single cylinder</td>\n",
       "      <td>four-stroke</td>\n",
       "      <td>NaN</td>\n",
       "      <td>NaN</td>\n",
       "      <td>Carburettor. Emblem</td>\n",
       "      <td>NaN</td>\n",
       "      <td>NaN</td>\n",
       "      <td>Belt</td>\n",
       "      <td>NaN</td>\n",
       "      <td>NaN</td>\n",
       "      <td>NaN</td>\n",
       "      <td>1915</td>\n",
       "    </tr>\n",
       "    <tr>\n",
       "      <th>8040</th>\n",
       "      <td>emblem</td>\n",
       "      <td>NaN</td>\n",
       "      <td>Allround</td>\n",
       "      <td>38.0</td>\n",
       "      <td>NaN</td>\n",
       "      <td>Single cylinder</td>\n",
       "      <td>four-stroke</td>\n",
       "      <td>NaN</td>\n",
       "      <td>NaN</td>\n",
       "      <td>Carburettor. Emblem</td>\n",
       "      <td>NaN</td>\n",
       "      <td>NaN</td>\n",
       "      <td>Belt</td>\n",
       "      <td>NaN</td>\n",
       "      <td>NaN</td>\n",
       "      <td>NaN</td>\n",
       "      <td>1916</td>\n",
       "    </tr>\n",
       "    <tr>\n",
       "      <th>8041</th>\n",
       "      <td>emblem</td>\n",
       "      <td>NaN</td>\n",
       "      <td>Allround</td>\n",
       "      <td>38.0</td>\n",
       "      <td>NaN</td>\n",
       "      <td>Single cylinder</td>\n",
       "      <td>four-stroke</td>\n",
       "      <td>NaN</td>\n",
       "      <td>NaN</td>\n",
       "      <td>Carburettor. Emblem</td>\n",
       "      <td>NaN</td>\n",
       "      <td>NaN</td>\n",
       "      <td>Belt</td>\n",
       "      <td>NaN</td>\n",
       "      <td>NaN</td>\n",
       "      <td>NaN</td>\n",
       "      <td>1917</td>\n",
       "    </tr>\n",
       "    <tr>\n",
       "      <th>8042</th>\n",
       "      <td>emblem</td>\n",
       "      <td>NaN</td>\n",
       "      <td>Allround</td>\n",
       "      <td>38.0</td>\n",
       "      <td>NaN</td>\n",
       "      <td>Single cylinder</td>\n",
       "      <td>four-stroke</td>\n",
       "      <td>NaN</td>\n",
       "      <td>NaN</td>\n",
       "      <td>Carburettor. Emblem</td>\n",
       "      <td>NaN</td>\n",
       "      <td>NaN</td>\n",
       "      <td>Belt</td>\n",
       "      <td>NaN</td>\n",
       "      <td>NaN</td>\n",
       "      <td>NaN</td>\n",
       "      <td>1918</td>\n",
       "    </tr>\n",
       "    <tr>\n",
       "      <th>22676</th>\n",
       "      <td>marsh</td>\n",
       "      <td>NaN</td>\n",
       "      <td>Allround</td>\n",
       "      <td>27.0</td>\n",
       "      <td>NaN</td>\n",
       "      <td>Single cylinder</td>\n",
       "      <td>four-stroke</td>\n",
       "      <td>NaN</td>\n",
       "      <td>NaN</td>\n",
       "      <td>Carburettor. Marsh</td>\n",
       "      <td>NaN</td>\n",
       "      <td>NaN</td>\n",
       "      <td>Belt</td>\n",
       "      <td>68.0</td>\n",
       "      <td>NaN</td>\n",
       "      <td>NaN</td>\n",
       "      <td>1901</td>\n",
       "    </tr>\n",
       "    <tr>\n",
       "      <th>22677</th>\n",
       "      <td>marsh</td>\n",
       "      <td>NaN</td>\n",
       "      <td>Allround</td>\n",
       "      <td>27.0</td>\n",
       "      <td>NaN</td>\n",
       "      <td>Single cylinder</td>\n",
       "      <td>four-stroke</td>\n",
       "      <td>NaN</td>\n",
       "      <td>NaN</td>\n",
       "      <td>Carburettor. Marsh</td>\n",
       "      <td>NaN</td>\n",
       "      <td>NaN</td>\n",
       "      <td>Belt</td>\n",
       "      <td>68.0</td>\n",
       "      <td>NaN</td>\n",
       "      <td>NaN</td>\n",
       "      <td>1902</td>\n",
       "    </tr>\n",
       "    <tr>\n",
       "      <th>22678</th>\n",
       "      <td>marsh</td>\n",
       "      <td>NaN</td>\n",
       "      <td>Allround</td>\n",
       "      <td>27.0</td>\n",
       "      <td>NaN</td>\n",
       "      <td>Single cylinder</td>\n",
       "      <td>four-stroke</td>\n",
       "      <td>NaN</td>\n",
       "      <td>NaN</td>\n",
       "      <td>Carburettor. Marsh</td>\n",
       "      <td>NaN</td>\n",
       "      <td>NaN</td>\n",
       "      <td>Belt</td>\n",
       "      <td>68.0</td>\n",
       "      <td>NaN</td>\n",
       "      <td>NaN</td>\n",
       "      <td>1903</td>\n",
       "    </tr>\n",
       "    <tr>\n",
       "      <th>22679</th>\n",
       "      <td>marsh</td>\n",
       "      <td>NaN</td>\n",
       "      <td>Allround</td>\n",
       "      <td>27.0</td>\n",
       "      <td>NaN</td>\n",
       "      <td>Single cylinder</td>\n",
       "      <td>four-stroke</td>\n",
       "      <td>NaN</td>\n",
       "      <td>NaN</td>\n",
       "      <td>Carburettor. Marsh</td>\n",
       "      <td>NaN</td>\n",
       "      <td>NaN</td>\n",
       "      <td>Belt</td>\n",
       "      <td>68.0</td>\n",
       "      <td>NaN</td>\n",
       "      <td>NaN</td>\n",
       "      <td>1904</td>\n",
       "    </tr>\n",
       "    <tr>\n",
       "      <th>26816</th>\n",
       "      <td>qooder</td>\n",
       "      <td>NaN</td>\n",
       "      <td>Allround</td>\n",
       "      <td>399.0</td>\n",
       "      <td>32.5</td>\n",
       "      <td>Single cylinder</td>\n",
       "      <td>four-stroke</td>\n",
       "      <td>Automatic</td>\n",
       "      <td>14.00</td>\n",
       "      <td>Injection</td>\n",
       "      <td>NaN</td>\n",
       "      <td>NaN</td>\n",
       "      <td>Belt</td>\n",
       "      <td>NaN</td>\n",
       "      <td>1580.0</td>\n",
       "      <td>780.0</td>\n",
       "      <td>2020</td>\n",
       "    </tr>\n",
       "    <tr>\n",
       "      <th>26817</th>\n",
       "      <td>qooder</td>\n",
       "      <td>NaN</td>\n",
       "      <td>Scooter</td>\n",
       "      <td>399.0</td>\n",
       "      <td>32.5</td>\n",
       "      <td>Single cylinder</td>\n",
       "      <td>four-stroke</td>\n",
       "      <td>Automatic</td>\n",
       "      <td>14.00</td>\n",
       "      <td>Injection</td>\n",
       "      <td>NaN</td>\n",
       "      <td>Liquid</td>\n",
       "      <td>Belt</td>\n",
       "      <td>NaN</td>\n",
       "      <td>1580.0</td>\n",
       "      <td>780.0</td>\n",
       "      <td>2021</td>\n",
       "    </tr>\n",
       "    <tr>\n",
       "      <th>26818</th>\n",
       "      <td>qooder</td>\n",
       "      <td>NaN</td>\n",
       "      <td>Scooter</td>\n",
       "      <td>399.0</td>\n",
       "      <td>32.5</td>\n",
       "      <td>Single cylinder</td>\n",
       "      <td>four-stroke</td>\n",
       "      <td>Automatic</td>\n",
       "      <td>14.00</td>\n",
       "      <td>Injection</td>\n",
       "      <td>NaN</td>\n",
       "      <td>Liquid</td>\n",
       "      <td>Belt</td>\n",
       "      <td>NaN</td>\n",
       "      <td>1580.0</td>\n",
       "      <td>780.0</td>\n",
       "      <td>2022</td>\n",
       "    </tr>\n",
       "  </tbody>\n",
       "</table>\n",
       "</div>"
      ],
      "text/plain": [
       "                Brand Model              Category  Displacement (ccm)  \\\n",
       "5831   coventry eagle   NaN              Allround               998.0   \n",
       "5832   coventry eagle   NaN              Allround               998.0   \n",
       "5833   coventry eagle   NaN              Allround               998.0   \n",
       "5834   coventry eagle   NaN              Allround               998.0   \n",
       "5835   coventry eagle   NaN              Allround               998.0   \n",
       "5836   coventry eagle   NaN              Allround               998.0   \n",
       "5837   coventry eagle   NaN              Allround               998.0   \n",
       "5838   coventry eagle   NaN              Allround               998.0   \n",
       "6063               cz   NaN  Unspecified category               180.0   \n",
       "6697        derringer   NaN               Classic                49.0   \n",
       "6739         di blasi   NaN               Scooter                49.0   \n",
       "7024            dnepr   NaN  Unspecified category               649.0   \n",
       "7025            dnepr   NaN               Classic               650.0   \n",
       "8035           emblem   NaN              Allround                38.0   \n",
       "8036           emblem   NaN              Allround                38.0   \n",
       "8037           emblem   NaN              Allround                38.0   \n",
       "8038           emblem   NaN              Allround                38.0   \n",
       "8039           emblem   NaN              Allround                38.0   \n",
       "8040           emblem   NaN              Allround                38.0   \n",
       "8041           emblem   NaN              Allround                38.0   \n",
       "8042           emblem   NaN              Allround                38.0   \n",
       "22676           marsh   NaN              Allround                27.0   \n",
       "22677           marsh   NaN              Allround                27.0   \n",
       "22678           marsh   NaN              Allround                27.0   \n",
       "22679           marsh   NaN              Allround                27.0   \n",
       "26816          qooder   NaN              Allround               399.0   \n",
       "26817          qooder   NaN               Scooter               399.0   \n",
       "26818          qooder   NaN               Scooter               399.0   \n",
       "\n",
       "       Power (hp)     Engine cylinder Engine stroke    Gearbox  \\\n",
       "5831         85.5                Twin   four-stroke        NaN   \n",
       "5832         85.5                Twin   four-stroke        NaN   \n",
       "5833         85.5                Twin   four-stroke        NaN   \n",
       "5834         85.5                Twin   four-stroke        NaN   \n",
       "5835         85.5                Twin   four-stroke        NaN   \n",
       "5836         85.5                Twin   four-stroke        NaN   \n",
       "5837         85.5                Twin   four-stroke        NaN   \n",
       "5838         85.5                Twin   four-stroke        NaN   \n",
       "6063         13.0     Single cylinder    two-stroke    4-speed   \n",
       "6697          NaN     Single cylinder   four-stroke  Automatic   \n",
       "6739          NaN     Single cylinder   four-stroke        NaN   \n",
       "7024         27.0  Two cylinder boxer   four-stroke    4-speed   \n",
       "7025         32.0  Two cylinder boxer   four-stroke    4-speed   \n",
       "8035          NaN     Single cylinder   four-stroke        NaN   \n",
       "8036          NaN     Single cylinder   four-stroke        NaN   \n",
       "8037          NaN     Single cylinder   four-stroke        NaN   \n",
       "8038          NaN     Single cylinder   four-stroke        NaN   \n",
       "8039          NaN     Single cylinder   four-stroke        NaN   \n",
       "8040          NaN     Single cylinder   four-stroke        NaN   \n",
       "8041          NaN     Single cylinder   four-stroke        NaN   \n",
       "8042          NaN     Single cylinder   four-stroke        NaN   \n",
       "22676         NaN     Single cylinder   four-stroke        NaN   \n",
       "22677         NaN     Single cylinder   four-stroke        NaN   \n",
       "22678         NaN     Single cylinder   four-stroke        NaN   \n",
       "22679         NaN     Single cylinder   four-stroke        NaN   \n",
       "26816        32.5     Single cylinder   four-stroke  Automatic   \n",
       "26817        32.5     Single cylinder   four-stroke  Automatic   \n",
       "26818        32.5     Single cylinder   four-stroke  Automatic   \n",
       "\n",
       "       Fuel capacity (lts)          Fuel system Fuel control Cooling system  \\\n",
       "5831                   NaN          Carburettor          NaN            Air   \n",
       "5832                   NaN          Carburettor          NaN            Air   \n",
       "5833                   NaN          Carburettor          NaN            Air   \n",
       "5834                   NaN          Carburettor          NaN            Air   \n",
       "5835                   NaN          Carburettor          NaN            Air   \n",
       "5836                   NaN          Carburettor          NaN            Air   \n",
       "5837                   NaN          Carburettor          NaN            Air   \n",
       "5838                   NaN          Carburettor          NaN            Air   \n",
       "6063                 12.50                  NaN          NaN            NaN   \n",
       "6697                  6.81          Carburettor          NaN            NaN   \n",
       "6739                  3.00                  NaN          NaN            Air   \n",
       "7024                 19.00                  NaN          NaN            NaN   \n",
       "7025                 19.00          Carburettor          NaN            NaN   \n",
       "8035                   NaN  Carburettor. Emblem          NaN            NaN   \n",
       "8036                   NaN  Carburettor. Emblem          NaN            NaN   \n",
       "8037                   NaN  Carburettor. Emblem          NaN            NaN   \n",
       "8038                   NaN  Carburettor. Emblem          NaN            NaN   \n",
       "8039                   NaN  Carburettor. Emblem          NaN            NaN   \n",
       "8040                   NaN  Carburettor. Emblem          NaN            NaN   \n",
       "8041                   NaN  Carburettor. Emblem          NaN            NaN   \n",
       "8042                   NaN  Carburettor. Emblem          NaN            NaN   \n",
       "22676                  NaN   Carburettor. Marsh          NaN            NaN   \n",
       "22677                  NaN   Carburettor. Marsh          NaN            NaN   \n",
       "22678                  NaN   Carburettor. Marsh          NaN            NaN   \n",
       "22679                  NaN   Carburettor. Marsh          NaN            NaN   \n",
       "26816                14.00            Injection          NaN            NaN   \n",
       "26817                14.00            Injection          NaN         Liquid   \n",
       "26818                14.00            Injection          NaN         Liquid   \n",
       "\n",
       "      Transmission type  Dry weight (kg)  Wheelbase (mm)  Seat height (mm)  \\\n",
       "5831              Chain            175.0             NaN               NaN   \n",
       "5832              Chain            175.0             NaN               NaN   \n",
       "5833              Chain            175.0             NaN               NaN   \n",
       "5834              Chain            175.0             NaN               NaN   \n",
       "5835              Chain            175.0             NaN               NaN   \n",
       "5836              Chain            175.0             NaN               NaN   \n",
       "5837              Chain            175.0             NaN               NaN   \n",
       "5838              Chain            175.0             NaN               NaN   \n",
       "6063                NaN            128.0             NaN             780.0   \n",
       "6697              Chain              NaN             NaN               NaN   \n",
       "6739                NaN             32.0             NaN             760.0   \n",
       "7024                NaN              NaN             NaN             830.0   \n",
       "7025        Shaft drive              NaN          1490.0             700.0   \n",
       "8035               Belt              NaN             NaN               NaN   \n",
       "8036               Belt              NaN             NaN               NaN   \n",
       "8037               Belt              NaN             NaN               NaN   \n",
       "8038               Belt              NaN             NaN               NaN   \n",
       "8039               Belt              NaN             NaN               NaN   \n",
       "8040               Belt              NaN             NaN               NaN   \n",
       "8041               Belt              NaN             NaN               NaN   \n",
       "8042               Belt              NaN             NaN               NaN   \n",
       "22676              Belt             68.0             NaN               NaN   \n",
       "22677              Belt             68.0             NaN               NaN   \n",
       "22678              Belt             68.0             NaN               NaN   \n",
       "22679              Belt             68.0             NaN               NaN   \n",
       "26816              Belt              NaN          1580.0             780.0   \n",
       "26817              Belt              NaN          1580.0             780.0   \n",
       "26818              Belt              NaN          1580.0             780.0   \n",
       "\n",
       "       Prod_year  \n",
       "5831        1922  \n",
       "5832        1923  \n",
       "5833        1924  \n",
       "5834        1925  \n",
       "5835        1926  \n",
       "5836        1927  \n",
       "5837        1928  \n",
       "5838        1929  \n",
       "6063        1994  \n",
       "6697        2010  \n",
       "6739        2003  \n",
       "7024        1993  \n",
       "7025        2001  \n",
       "8035        1911  \n",
       "8036        1912  \n",
       "8037        1913  \n",
       "8038        1914  \n",
       "8039        1915  \n",
       "8040        1916  \n",
       "8041        1917  \n",
       "8042        1918  \n",
       "22676       1901  \n",
       "22677       1902  \n",
       "22678       1903  \n",
       "22679       1904  \n",
       "26816       2020  \n",
       "26817       2021  \n",
       "26818       2022  "
      ]
     },
     "execution_count": 1526,
     "metadata": {},
     "output_type": "execute_result"
    }
   ],
   "source": [
    "# there are 28 missing values\n",
    "f = data['Model'].isna()\n",
    "data.loc[f]"
   ]
  },
  {
   "cell_type": "code",
   "execution_count": 1527,
   "id": "fb2b0ef1",
   "metadata": {},
   "outputs": [],
   "source": [
    "# i checked information from the internet\n",
    "# Fill NaN values in the 'model' column with 'qv3' where 'Brand' is 'qooder'\n",
    "data['Model'] = data.apply(lambda x: 'qv3' if x['Brand'] == 'qooder' and pd.isna(x['Model']) else x['Model'], axis=1)"
   ]
  },
  {
   "cell_type": "code",
   "execution_count": 1528,
   "id": "292a5a34",
   "metadata": {},
   "outputs": [],
   "source": [
    "# Fill NaN values in the 'model' column with '495cc' where 'Brand' is 'marsh'\n",
    "data['Model'] = data.apply(lambda x: '495cc' if x['Brand'] == 'marsh' and pd.isna(x['Model']) else x['Model'], axis=1)"
   ]
  },
  {
   "cell_type": "code",
   "execution_count": 1529,
   "id": "350369af",
   "metadata": {},
   "outputs": [],
   "source": [
    "# Fill NaN values in the 'model' column with '532cc' where 'Brand' is 'emblem'\n",
    "data['Model'] = data.apply(lambda x: '532cc' if x['Brand'] == 'emblem' and pd.isna(x['Model']) else x['Model'], axis=1)"
   ]
  },
  {
   "cell_type": "code",
   "execution_count": 1530,
   "id": "488e2088",
   "metadata": {},
   "outputs": [],
   "source": [
    "# Fill NaN values in the 'model' column with '350cc' where 'Brand' is 'coventry eagle'\n",
    "data['Model'] = data.apply(lambda x: '350cc' if x['Brand'] == 'coventry eagle' and pd.isna(x['Model']) else x['Model'], axis=1)"
   ]
  },
  {
   "cell_type": "code",
   "execution_count": 1531,
   "id": "6716e2a8",
   "metadata": {},
   "outputs": [],
   "source": [
    "# Fill NaN values in the 'model' column with 'Dnepr MT-10' where 'Brand' is 'dnepr'\n",
    "data['Model'] = data.apply(lambda x: 'Dnepr MT-10' if x['Brand'] == 'dnepr' and pd.isna(x['Model']) else x['Model'], axis=1)"
   ]
  },
  {
   "cell_type": "code",
   "execution_count": 1532,
   "id": "277e48b9",
   "metadata": {},
   "outputs": [],
   "source": [
    "# Fill NaN values in the 'model' column with 'CZ 125, CZ 250, and CZ 400' where 'Brand' is 'cz' , year 1994\n",
    "data['Model'] = data.apply(lambda x: 'CZ 125, CZ 250, and CZ 400' if x['Brand'] == 'cz' and pd.isna(x['Model']) else x['Model'], axis=1)"
   ]
  },
  {
   "cell_type": "code",
   "execution_count": 1533,
   "id": "66454e82",
   "metadata": {},
   "outputs": [],
   "source": [
    "# Fill NaN values in the 'model' column with 'derringer 33' where 'Brand' is 'derringer' , year 2010\n",
    "data['Model'] = data.apply(lambda x: 'derringer 33.' if x['Brand'] == 'derringer' and pd.isna(x['Model']) else x['Model'], axis=1)"
   ]
  },
  {
   "cell_type": "code",
   "execution_count": 1534,
   "id": "7cff522b",
   "metadata": {},
   "outputs": [],
   "source": [
    "# Fill NaN values in the 'model' column with 'di Blasi R30 ' where 'Brand' is 'di blasii ' year 2003\n",
    "data['Model'] = data.apply(lambda x: ' di Blasi R30 ' if x['Brand'] == 'di blasi' and pd.isna(x['Model']) else x['Model'], axis=1)"
   ]
  },
  {
   "cell_type": "code",
   "execution_count": 1535,
   "id": "affe2f0e",
   "metadata": {},
   "outputs": [
    {
     "data": {
      "text/html": [
       "<div>\n",
       "<style scoped>\n",
       "    .dataframe tbody tr th:only-of-type {\n",
       "        vertical-align: middle;\n",
       "    }\n",
       "\n",
       "    .dataframe tbody tr th {\n",
       "        vertical-align: top;\n",
       "    }\n",
       "\n",
       "    .dataframe thead th {\n",
       "        text-align: right;\n",
       "    }\n",
       "</style>\n",
       "<table border=\"1\" class=\"dataframe\">\n",
       "  <thead>\n",
       "    <tr style=\"text-align: right;\">\n",
       "      <th></th>\n",
       "      <th>Brand</th>\n",
       "      <th>Model</th>\n",
       "      <th>Category</th>\n",
       "      <th>Displacement (ccm)</th>\n",
       "      <th>Power (hp)</th>\n",
       "      <th>Engine cylinder</th>\n",
       "      <th>Engine stroke</th>\n",
       "      <th>Gearbox</th>\n",
       "      <th>Fuel capacity (lts)</th>\n",
       "      <th>Fuel system</th>\n",
       "      <th>Fuel control</th>\n",
       "      <th>Cooling system</th>\n",
       "      <th>Transmission type</th>\n",
       "      <th>Dry weight (kg)</th>\n",
       "      <th>Wheelbase (mm)</th>\n",
       "      <th>Seat height (mm)</th>\n",
       "      <th>Prod_year</th>\n",
       "    </tr>\n",
       "  </thead>\n",
       "  <tbody>\n",
       "  </tbody>\n",
       "</table>\n",
       "</div>"
      ],
      "text/plain": [
       "Empty DataFrame\n",
       "Columns: [Brand, Model, Category, Displacement (ccm), Power (hp), Engine cylinder, Engine stroke, Gearbox, Fuel capacity (lts), Fuel system, Fuel control, Cooling system, Transmission type, Dry weight (kg), Wheelbase (mm), Seat height (mm), Prod_year]\n",
       "Index: []"
      ]
     },
     "execution_count": 1535,
     "metadata": {},
     "output_type": "execute_result"
    }
   ],
   "source": [
    "f = data['Model'].isna()\n",
    "data.loc[f]"
   ]
  },
  {
   "cell_type": "code",
   "execution_count": 1536,
   "id": "904c598c",
   "metadata": {},
   "outputs": [
    {
     "data": {
      "text/plain": [
       "Brand                      0\n",
       "Model                      0\n",
       "Category                   0\n",
       "Displacement (ccm)      1011\n",
       "Power (hp)             12362\n",
       "Engine cylinder           16\n",
       "Engine stroke             11\n",
       "Gearbox                 5797\n",
       "Fuel capacity (lts)     6768\n",
       "Fuel system            10628\n",
       "Fuel control           16463\n",
       "Cooling system          4214\n",
       "Transmission type       5611\n",
       "Dry weight (kg)        15989\n",
       "Wheelbase (mm)         12980\n",
       "Seat height (mm)       14290\n",
       "Prod_year                  0\n",
       "dtype: int64"
      ]
     },
     "execution_count": 1536,
     "metadata": {},
     "output_type": "execute_result"
    }
   ],
   "source": [
    "data.isna().sum()\n",
    "# missing values were filled"
   ]
  },
  {
   "cell_type": "markdown",
   "id": "849c0661",
   "metadata": {},
   "source": [
    "# Category"
   ]
  },
  {
   "cell_type": "code",
   "execution_count": 1537,
   "id": "7e773ba6",
   "metadata": {},
   "outputs": [
    {
     "data": {
      "text/plain": [
       "array(['Prototype / concept model', 'Sport', 'Scooter', 'ATV', 'Allround',\n",
       "       'Naked bike', 'Custom / cruiser', 'Cross / motocross',\n",
       "       'Super motard', 'Minibike, sport', 'Minibike, cross', 'Classic',\n",
       "       'Touring', 'Enduro / offroad', 'Trial', 'Unspecified category',\n",
       "       'Sport touring', 'Speedway'], dtype=object)"
      ]
     },
     "execution_count": 1537,
     "metadata": {},
     "output_type": "execute_result"
    }
   ],
   "source": [
    "data['Category'].unique()"
   ]
  },
  {
   "cell_type": "code",
   "execution_count": 1538,
   "id": "b8393778",
   "metadata": {},
   "outputs": [
    {
     "data": {
      "text/plain": [
       "0"
      ]
     },
     "execution_count": 1538,
     "metadata": {},
     "output_type": "execute_result"
    }
   ],
   "source": [
    "data['Category'].isna().sum()\n",
    "# i think it`s clean"
   ]
  },
  {
   "cell_type": "code",
   "execution_count": 1539,
   "id": "8ebb219d",
   "metadata": {},
   "outputs": [
    {
     "data": {
      "text/plain": [
       "Brand                      0\n",
       "Model                      0\n",
       "Category                   0\n",
       "Displacement (ccm)      1011\n",
       "Power (hp)             12362\n",
       "Engine cylinder           16\n",
       "Engine stroke             11\n",
       "Gearbox                 5797\n",
       "Fuel capacity (lts)     6768\n",
       "Fuel system            10628\n",
       "Fuel control           16463\n",
       "Cooling system          4214\n",
       "Transmission type       5611\n",
       "Dry weight (kg)        15989\n",
       "Wheelbase (mm)         12980\n",
       "Seat height (mm)       14290\n",
       "Prod_year                  0\n",
       "dtype: int64"
      ]
     },
     "execution_count": 1539,
     "metadata": {},
     "output_type": "execute_result"
    }
   ],
   "source": [
    "data.isna().sum()"
   ]
  },
  {
   "cell_type": "markdown",
   "id": "3f9f1886",
   "metadata": {},
   "source": [
    "# Displacement (ccm)"
   ]
  },
  {
   "cell_type": "code",
   "execution_count": 1540,
   "id": "13f54c62",
   "metadata": {},
   "outputs": [
    {
     "data": {
      "text/plain": [
       "array([  nan, 1300.,  280., ...,  312.,  791.,  751.])"
      ]
     },
     "execution_count": 1540,
     "metadata": {},
     "output_type": "execute_result"
    }
   ],
   "source": [
    "data['Displacement (ccm)'].unique()"
   ]
  },
  {
   "cell_type": "code",
   "execution_count": 1541,
   "id": "7904a987",
   "metadata": {},
   "outputs": [
    {
     "data": {
      "text/plain": [
       "32558    1597.0\n",
       "26517      39.9\n",
       "28973     124.0\n",
       "2968     1916.0\n",
       "34780     125.0\n",
       "33559     349.0\n",
       "14163      49.0\n",
       "32696     888.0\n",
       "24643     998.0\n",
       "26384     124.0\n",
       "3598     1293.0\n",
       "29775     124.0\n",
       "16263     596.0\n",
       "7545      821.0\n",
       "29053     149.0\n",
       "26863     125.0\n",
       "18437    1043.0\n",
       "28603    1462.0\n",
       "25706     152.0\n",
       "4522     6200.0\n",
       "8549      124.7\n",
       "3838     1170.0\n",
       "18880     773.0\n",
       "3703      492.0\n",
       "10969     883.3\n",
       "3056     1198.0\n",
       "15084     591.0\n",
       "9242       49.6\n",
       "35173     599.0\n",
       "7284      864.0\n",
       "Name: Displacement (ccm), dtype: float64"
      ]
     },
     "execution_count": 1541,
     "metadata": {},
     "output_type": "execute_result"
    }
   ],
   "source": [
    "data['Displacement (ccm)'].sample(n=30)"
   ]
  },
  {
   "cell_type": "code",
   "execution_count": 1542,
   "id": "d02a2863",
   "metadata": {},
   "outputs": [
    {
     "data": {
      "text/plain": [
       "1011"
      ]
     },
     "execution_count": 1542,
     "metadata": {},
     "output_type": "execute_result"
    }
   ],
   "source": [
    "data['Displacement (ccm)'].isna().sum()"
   ]
  },
  {
   "cell_type": "code",
   "execution_count": 1543,
   "id": "bd5594d0",
   "metadata": {},
   "outputs": [
    {
     "data": {
      "text/plain": [
       "<AxesSubplot:xlabel='Displacement (ccm)'>"
      ]
     },
     "execution_count": 1543,
     "metadata": {},
     "output_type": "execute_result"
    },
    {
     "data": {
      "image/png": "[encoded data removed]",
      "text/plain": [
       "<Figure size 640x480 with 1 Axes>"
      ]
     },
     "metadata": {},
     "output_type": "display_data"
    }
   ],
   "source": [
    "sns.boxplot(data['Displacement (ccm)'])\n",
    "# many outliers"
   ]
  },
  {
   "cell_type": "code",
   "execution_count": 1544,
   "id": "dc73f1f4",
   "metadata": {},
   "outputs": [],
   "source": [
    "# to reduce outliers \n",
    "from scipy.stats.mstats import winsorize\n",
    "# Winsorize the data at the 5th and 95th percentiles\n",
    "winsorized_data = winsorize(data['Displacement (ccm)'], limits=[0.05, 0.05])"
   ]
  },
  {
   "cell_type": "code",
   "execution_count": 1545,
   "id": "b257f707",
   "metadata": {},
   "outputs": [
    {
     "data": {
      "text/plain": [
       "<AxesSubplot:>"
      ]
     },
     "execution_count": 1545,
     "metadata": {},
     "output_type": "execute_result"
    },
    {
     "data": {
      "image/png": "[encoded data removed]",
      "text/plain": [
       "<Figure size 640x480 with 1 Axes>"
      ]
     },
     "metadata": {},
     "output_type": "display_data"
    }
   ],
   "source": [
    "sns.boxplot(winsorized_data)"
   ]
  },
  {
   "cell_type": "code",
   "execution_count": 1546,
   "id": "1b8ae116",
   "metadata": {},
   "outputs": [
    {
     "data": {
      "text/plain": [
       "0        1795.0\n",
       "1        1300.0\n",
       "2        1795.0\n",
       "3        1795.0\n",
       "4        1300.0\n",
       "          ...  \n",
       "38468     249.0\n",
       "38469     298.0\n",
       "38470     298.0\n",
       "38471     781.0\n",
       "38476       NaN\n",
       "Name: Displacment_cmm, Length: 38472, dtype: float64"
      ]
     },
     "execution_count": 1546,
     "metadata": {},
     "output_type": "execute_result"
    }
   ],
   "source": [
    "data['Displacment_cmm'] = pd.Series(winsorized_data)\n",
    "data['Displacment_cmm']"
   ]
  },
  {
   "cell_type": "code",
   "execution_count": 1547,
   "id": "e4d8a929",
   "metadata": {},
   "outputs": [
    {
     "data": {
      "text/plain": [
       "count    38471.000000\n",
       "mean       573.300320\n",
       "std        508.945926\n",
       "min         49.400000\n",
       "25%        125.000000\n",
       "50%        400.000000\n",
       "75%        883.000000\n",
       "max       1795.000000\n",
       "Name: Displacment_cmm, dtype: float64"
      ]
     },
     "execution_count": 1547,
     "metadata": {},
     "output_type": "execute_result"
    }
   ],
   "source": [
    "data['Displacment_cmm'].describe()"
   ]
  },
  {
   "cell_type": "code",
   "execution_count": 1548,
   "id": "8fdfe2b1",
   "metadata": {},
   "outputs": [],
   "source": [
    "data.drop('Displacement (ccm)',axis=1 ,inplace=True)"
   ]
  },
  {
   "cell_type": "code",
   "execution_count": 1549,
   "id": "1d6afb18",
   "metadata": {},
   "outputs": [
    {
     "data": {
      "text/html": [
       "<div>\n",
       "<style scoped>\n",
       "    .dataframe tbody tr th:only-of-type {\n",
       "        vertical-align: middle;\n",
       "    }\n",
       "\n",
       "    .dataframe tbody tr th {\n",
       "        vertical-align: top;\n",
       "    }\n",
       "\n",
       "    .dataframe thead th {\n",
       "        text-align: right;\n",
       "    }\n",
       "</style>\n",
       "<table border=\"1\" class=\"dataframe\">\n",
       "  <thead>\n",
       "    <tr style=\"text-align: right;\">\n",
       "      <th></th>\n",
       "      <th>Brand</th>\n",
       "      <th>Model</th>\n",
       "      <th>Category</th>\n",
       "      <th>Power (hp)</th>\n",
       "      <th>Engine cylinder</th>\n",
       "      <th>Engine stroke</th>\n",
       "      <th>Gearbox</th>\n",
       "      <th>Fuel capacity (lts)</th>\n",
       "      <th>Fuel system</th>\n",
       "      <th>Fuel control</th>\n",
       "      <th>Cooling system</th>\n",
       "      <th>Transmission type</th>\n",
       "      <th>Dry weight (kg)</th>\n",
       "      <th>Wheelbase (mm)</th>\n",
       "      <th>Seat height (mm)</th>\n",
       "      <th>Prod_year</th>\n",
       "      <th>Displacment_cmm</th>\n",
       "    </tr>\n",
       "  </thead>\n",
       "  <tbody>\n",
       "    <tr>\n",
       "      <th>0</th>\n",
       "      <td>acabion</td>\n",
       "      <td>da vinci 650-vi</td>\n",
       "      <td>Prototype / concept model</td>\n",
       "      <td>804.0</td>\n",
       "      <td>Electric</td>\n",
       "      <td>Electric</td>\n",
       "      <td>NaN</td>\n",
       "      <td>NaN</td>\n",
       "      <td>NaN</td>\n",
       "      <td>NaN</td>\n",
       "      <td>Liquid</td>\n",
       "      <td>Chain</td>\n",
       "      <td>420.0</td>\n",
       "      <td>NaN</td>\n",
       "      <td>NaN</td>\n",
       "      <td>2011</td>\n",
       "      <td>1795.0</td>\n",
       "    </tr>\n",
       "    <tr>\n",
       "      <th>1</th>\n",
       "      <td>acabion</td>\n",
       "      <td>gtbo 55</td>\n",
       "      <td>Sport</td>\n",
       "      <td>541.0</td>\n",
       "      <td>In-line four</td>\n",
       "      <td>four-stroke</td>\n",
       "      <td>6-speed</td>\n",
       "      <td>NaN</td>\n",
       "      <td>Turbo. KKK Acabion Extended</td>\n",
       "      <td>NaN</td>\n",
       "      <td>Liquid</td>\n",
       "      <td>NaN</td>\n",
       "      <td>360.0</td>\n",
       "      <td>NaN</td>\n",
       "      <td>NaN</td>\n",
       "      <td>2007</td>\n",
       "      <td>1300.0</td>\n",
       "    </tr>\n",
       "    <tr>\n",
       "      <th>2</th>\n",
       "      <td>acabion</td>\n",
       "      <td>gtbo 600 daytona-vi</td>\n",
       "      <td>Prototype / concept model</td>\n",
       "      <td>536.0</td>\n",
       "      <td>Electric</td>\n",
       "      <td>Electric</td>\n",
       "      <td>NaN</td>\n",
       "      <td>NaN</td>\n",
       "      <td>NaN</td>\n",
       "      <td>NaN</td>\n",
       "      <td>Liquid</td>\n",
       "      <td>NaN</td>\n",
       "      <td>420.0</td>\n",
       "      <td>NaN</td>\n",
       "      <td>NaN</td>\n",
       "      <td>2011</td>\n",
       "      <td>1795.0</td>\n",
       "    </tr>\n",
       "    <tr>\n",
       "      <th>3</th>\n",
       "      <td>acabion</td>\n",
       "      <td>gtbo 600 daytona-vi</td>\n",
       "      <td>Prototype / concept model</td>\n",
       "      <td>536.0</td>\n",
       "      <td>Electric</td>\n",
       "      <td>Electric</td>\n",
       "      <td>NaN</td>\n",
       "      <td>NaN</td>\n",
       "      <td>NaN</td>\n",
       "      <td>NaN</td>\n",
       "      <td>Liquid</td>\n",
       "      <td>NaN</td>\n",
       "      <td>420.0</td>\n",
       "      <td>NaN</td>\n",
       "      <td>NaN</td>\n",
       "      <td>2021</td>\n",
       "      <td>1795.0</td>\n",
       "    </tr>\n",
       "    <tr>\n",
       "      <th>4</th>\n",
       "      <td>acabion</td>\n",
       "      <td>gtbo 70</td>\n",
       "      <td>Prototype / concept model</td>\n",
       "      <td>689.0</td>\n",
       "      <td>In-line four</td>\n",
       "      <td>four-stroke</td>\n",
       "      <td>6-speed</td>\n",
       "      <td>NaN</td>\n",
       "      <td>Turbo. KKK Acabion Extended</td>\n",
       "      <td>NaN</td>\n",
       "      <td>Liquid</td>\n",
       "      <td>NaN</td>\n",
       "      <td>300.0</td>\n",
       "      <td>NaN</td>\n",
       "      <td>NaN</td>\n",
       "      <td>2007</td>\n",
       "      <td>1300.0</td>\n",
       "    </tr>\n",
       "  </tbody>\n",
       "</table>\n",
       "</div>"
      ],
      "text/plain": [
       "     Brand                Model                   Category  Power (hp)  \\\n",
       "0  acabion      da vinci 650-vi  Prototype / concept model       804.0   \n",
       "1  acabion              gtbo 55                      Sport       541.0   \n",
       "2  acabion  gtbo 600 daytona-vi  Prototype / concept model       536.0   \n",
       "3  acabion  gtbo 600 daytona-vi  Prototype / concept model       536.0   \n",
       "4  acabion              gtbo 70  Prototype / concept model       689.0   \n",
       "\n",
       "  Engine cylinder Engine stroke  Gearbox  Fuel capacity (lts)  \\\n",
       "0        Electric      Electric      NaN                  NaN   \n",
       "1    In-line four   four-stroke  6-speed                  NaN   \n",
       "2        Electric      Electric      NaN                  NaN   \n",
       "3        Electric      Electric      NaN                  NaN   \n",
       "4    In-line four   four-stroke  6-speed                  NaN   \n",
       "\n",
       "                   Fuel system Fuel control Cooling system Transmission type  \\\n",
       "0                          NaN          NaN         Liquid             Chain   \n",
       "1  Turbo. KKK Acabion Extended          NaN         Liquid               NaN   \n",
       "2                          NaN          NaN         Liquid               NaN   \n",
       "3                          NaN          NaN         Liquid               NaN   \n",
       "4  Turbo. KKK Acabion Extended          NaN         Liquid               NaN   \n",
       "\n",
       "   Dry weight (kg)  Wheelbase (mm)  Seat height (mm)  Prod_year  \\\n",
       "0            420.0             NaN               NaN       2011   \n",
       "1            360.0             NaN               NaN       2007   \n",
       "2            420.0             NaN               NaN       2011   \n",
       "3            420.0             NaN               NaN       2021   \n",
       "4            300.0             NaN               NaN       2007   \n",
       "\n",
       "   Displacment_cmm  \n",
       "0           1795.0  \n",
       "1           1300.0  \n",
       "2           1795.0  \n",
       "3           1795.0  \n",
       "4           1300.0  "
      ]
     },
     "execution_count": 1549,
     "metadata": {},
     "output_type": "execute_result"
    }
   ],
   "source": [
    "data.head()"
   ]
  },
  {
   "cell_type": "code",
   "execution_count": 1550,
   "id": "990f358d",
   "metadata": {},
   "outputs": [],
   "source": [
    "data['Displacment_cmm'].fillna(data['Displacment_cmm'].median(), inplace=True)"
   ]
  },
  {
   "cell_type": "code",
   "execution_count": 1551,
   "id": "47ff3210",
   "metadata": {},
   "outputs": [
    {
     "data": {
      "text/plain": [
       "0"
      ]
     },
     "execution_count": 1551,
     "metadata": {},
     "output_type": "execute_result"
    }
   ],
   "source": [
    "data['Displacment_cmm'].isna().sum()"
   ]
  },
  {
   "cell_type": "code",
   "execution_count": 1552,
   "id": "7b9f869c",
   "metadata": {},
   "outputs": [
    {
     "data": {
      "text/plain": [
       "<AxesSubplot:xlabel='Displacment_cmm'>"
      ]
     },
     "execution_count": 1552,
     "metadata": {},
     "output_type": "execute_result"
    },
    {
     "data": {
      "image/png": "[encoded data removed]",
      "text/plain": [
       "<Figure size 640x480 with 1 Axes>"
      ]
     },
     "metadata": {},
     "output_type": "display_data"
    }
   ],
   "source": [
    "sns.boxplot(data['Displacment_cmm'])"
   ]
  },
  {
   "cell_type": "markdown",
   "id": "d65a1bd8",
   "metadata": {},
   "source": [
    "# Power (hp)"
   ]
  },
  {
   "cell_type": "code",
   "execution_count": 1554,
   "id": "675ea150",
   "metadata": {},
   "outputs": [
    {
     "data": {
      "text/plain": [
       "array([8.04e+02, 5.41e+02, 5.36e+02, 6.89e+02, 1.10e+00, 1.88e+01,\n",
       "       2.95e+01, 3.76e+01, 4.56e+01, 5.63e+01, 5.77e+01, 6.80e+00,\n",
       "       1.31e+01, 2.68e+01,      nan, 1.48e+01, 1.30e+01, 1.58e+01,\n",
       "       2.15e+01, 2.06e+01, 2.94e+01, 3.67e+01, 9.40e+00, 1.30e+00,\n",
       "       8.00e-01, 1.03e+01, 1.80e+01, 1.10e+01, 1.60e+01, 8.60e+00,\n",
       "       8.40e+00, 5.00e+00, 3.70e+00, 7.50e+00, 7.10e+00, 7.80e+00,\n",
       "       2.50e+01, 2.70e+01, 3.00e+01, 8.70e+00, 6.40e+00, 1.21e+01,\n",
       "       1.94e+01, 1.61e+01, 2.01e+01, 3.60e+00, 3.00e+00, 1.81e+01,\n",
       "       1.05e+01, 2.21e+01, 2.28e+01, 2.66e+01, 3.22e+01, 1.40e+01,\n",
       "       3.20e+00, 1.07e+01, 6.60e+00, 1.41e+01, 3.40e+00, 2.48e+01,\n",
       "       1.85e+01, 1.37e+01, 6.00e+00, 3.80e+00, 4.30e+00, 4.70e+00,\n",
       "       7.40e+00, 9.50e+00, 1.25e+01, 1.26e+01, 2.00e+01, 1.24e+01,\n",
       "       1.27e+01, 1.77e+01, 2.75e+01, 4.80e+01, 3.80e+01, 1.01e+01,\n",
       "       9.80e+00, 9.90e+00, 3.50e+00, 1.14e+01, 2.00e+00, 2.30e+01,\n",
       "       6.20e+00, 2.50e+00, 1.13e+01, 1.70e+01, 2.80e+01, 3.30e+01,\n",
       "       3.14e+01, 2.10e+01, 1.06e+01, 1.02e+01, 5.40e+01, 7.00e+01,\n",
       "       4.20e+01, 5.00e+01, 6.50e+01, 5.60e+01, 1.10e+02, 1.11e+02,\n",
       "       1.50e+01, 4.70e+01, 2.12e+01, 2.84e+01, 2.20e+01, 2.24e+01,\n",
       "       3.40e+01, 3.35e+01, 3.90e+01, 2.90e+01, 3.69e+01, 3.89e+01,\n",
       "       1.28e+02, 1.25e+02, 9.80e+01, 9.20e+01, 1.30e+02, 9.03e+01,\n",
       "       9.52e+01, 1.22e+01, 4.90e+01, 1.18e+02, 1.20e+01, 7.51e+01,\n",
       "       7.61e+01, 9.00e+00, 7.39e+01, 4.50e+01, 4.00e+01, 3.50e+01,\n",
       "       2.82e+01, 6.90e+01, 5.50e+01, 1.00e+02, 4.69e+01, 2.55e+02,\n",
       "       1.13e+02, 1.14e+02, 1.38e+02, 1.41e+02, 1.43e+02, 1.45e+02,\n",
       "       2.17e+02, 1.80e+02, 1.77e+02, 1.84e+02, 2.30e+02, 2.50e+02,\n",
       "       2.01e+02, 8.00e+00, 1.97e+01, 1.90e+01, 2.99e+01, 1.64e+01,\n",
       "       3.33e+01, 4.05e+01, 9.50e+01, 9.30e+01, 1.45e+01, 1.89e+01,\n",
       "       2.53e+01, 2.25e+01, 3.02e+01, 1.49e+01, 4.00e+00, 4.10e+00,\n",
       "       1.08e+01, 5.40e+00, 1.74e+01, 9.10e+00, 9.60e+00, 4.60e+00,\n",
       "       7.60e+01, 7.50e+01, 8.00e+01, 1.33e+02, 1.36e+02, 1.39e+02,\n",
       "       1.26e+02, 1.75e+02, 1.73e+02, 1.62e+02, 1.65e+02, 1.70e+02,\n",
       "       1.67e+02, 1.00e+01, 1.20e+02, 1.50e+00, 2.30e+00, 2.40e+01,\n",
       "       2.49e+01, 1.75e+01, 1.95e+01, 1.56e+01, 2.60e+01, 1.12e+02,\n",
       "       4.60e+01, 2.80e+00, 1.54e+01, 8.10e+00, 3.00e-01, 3.10e+00,\n",
       "       6.90e+00, 7.20e+00, 7.90e+01, 1.76e+01, 4.17e+02, 7.00e+00,\n",
       "       8.50e+00, 1.65e+01, 1.73e+01, 8.20e+00, 7.70e+00, 9.30e+00,\n",
       "       1.15e+01, 1.29e+01, 1.17e+01, 3.94e+01, 6.30e+00, 1.16e+01,\n",
       "       1.36e+01, 1.35e+01, 1.51e+01, 1.38e+01, 1.63e+01, 1.68e+01,\n",
       "       1.78e+01, 2.35e+01, 2.41e+01, 1.98e+01, 1.18e+01, 2.32e+01,\n",
       "       3.30e+00, 6.50e+00, 7.90e+00, 5.20e+00, 2.40e+00, 4.90e+00,\n",
       "       2.70e+00, 4.40e+01, 4.76e+01, 6.20e+01, 5.80e+01, 8.16e+01,\n",
       "       7.68e+01, 1.11e+01, 2.45e+01, 2.58e+01, 3.70e+01, 3.54e+01,\n",
       "       8.20e+01, 8.40e+01, 5.54e+01, 5.97e+01, 1.23e+02, 1.27e+02,\n",
       "       1.35e+02, 1.62e+01, 2.11e+01, 1.29e+02, 2.08e+01, 2.55e+01,\n",
       "       4.80e+00, 1.57e+02, 1.58e+02, 1.40e+02, 3.20e+01, 8.05e+01,\n",
       "       6.70e+01, 8.50e+01, 1.19e+02, 1.55e+02, 1.60e+02, 3.60e+01,\n",
       "       1.44e+02, 6.71e+01, 1.16e+02, 1.52e+02, 1.34e+02, 1.04e+02,\n",
       "       1.06e+02, 2.85e+01, 7.40e+01, 5.20e+01, 1.00e+00, 1.80e+00,\n",
       "       9.70e+01, 1.15e+02, 1.05e+02, 1.93e+02, 2.00e+02, 8.30e+01,\n",
       "       1.88e+02, 1.47e+02, 9.10e+01, 1.64e+02, 1.69e+02, 8.60e+01,\n",
       "       1.56e+02, 1.32e+02, 1.42e+02, 9.00e+01, 3.00e+02, 2.28e+02,\n",
       "       1.48e+02, 1.50e+02, 1.28e+01, 1.90e+00, 4.20e+00, 1.46e+01,\n",
       "       1.34e+01, 1.43e+01, 4.96e+01, 5.90e+01, 6.00e+01, 6.97e+01,\n",
       "       5.07e+01, 7.38e+01, 7.70e+01, 8.45e+01, 8.70e+01, 8.58e+01,\n",
       "       8.38e+01, 7.64e+01, 1.03e+02, 9.90e+01, 4.02e+01, 5.23e+01,\n",
       "       5.30e+01, 1.31e+02, 1.90e+02, 2.15e+02, 1.01e+02, 1.63e+02,\n",
       "       2.12e+02, 2.05e+02, 9.66e+01, 9.59e+01, 9.40e+01, 9.39e+01,\n",
       "       6.10e+01, 6.03e+01, 9.92e+01, 1.08e+02, 1.07e+02, 3.01e+01,\n",
       "       7.30e+01, 1.09e+02, 1.02e+02, 1.22e+02, 3.59e+01, 1.95e+02,\n",
       "       1.99e+02, 4.83e+01, 1.94e+02, 1.98e+02, 1.97e+02, 4.28e+01,\n",
       "       4.45e+02, 5.02e+02, 4.25e+02, 2.95e+02, 3.55e+02, 4.76e+02,\n",
       "       3.85e+02, 5.36e+01, 1.66e+02, 1.69e+01, 6.30e+01, 3.10e+01,\n",
       "       7.00e-01, 1.46e+02, 8.42e+01, 8.80e+01, 9.35e+01, 9.25e+01,\n",
       "       6.80e+01, 7.20e+01, 9.67e+01, 1.33e+01, 3.62e+01, 2.16e+01,\n",
       "       4.30e+01, 7.10e+01, 2.36e+01, 4.29e+01, 1.44e+01, 1.23e+01,\n",
       "       2.62e+01, 2.87e+01, 4.22e+01, 4.09e+01, 3.96e+01, 6.17e+01,\n",
       "       6.04e+01, 5.57e+01, 7.01e+01, 8.99e+01, 2.78e+01, 3.08e+01,\n",
       "       3.25e+01, 1.09e+01, 6.44e+01, 3.49e+01, 2.37e+01, 4.35e+01,\n",
       "       5.00e-01, 1.37e+02, 1.49e+02, 3.50e+02, 8.55e+01, 3.90e+00,\n",
       "       4.40e+00, 6.70e+00, 1.66e+01, 1.70e+00, 4.85e+01, 8.30e+00,\n",
       "       2.31e+01, 1.32e+01, 5.60e+00, 1.39e+01, 2.27e+01, 2.20e+00,\n",
       "       7.60e+00, 8.80e+00, 7.30e+00, 4.86e+01, 1.53e+01, 5.80e+00,\n",
       "       8.90e+00, 1.20e+00, 5.50e+00, 1.84e+01, 1.67e+01, 2.05e+01,\n",
       "       4.51e+01, 4.50e+00, 5.70e+00, 5.30e+00, 1.96e+01, 5.00e+02,\n",
       "       1.91e+02, 2.92e+01, 2.09e+02, 5.10e+01, 5.70e+01, 3.26e+01,\n",
       "       1.21e+02, 6.84e+01, 6.40e+01, 6.60e+01, 7.45e+01, 7.80e+01,\n",
       "       1.24e+02, 1.59e+02, 9.08e+01, 8.10e+01, 9.36e+01, 9.86e+01,\n",
       "       8.34e+01, 6.22e+01, 4.64e+01, 7.89e+01, 6.77e+01, 1.79e+02,\n",
       "       2.21e+02, 2.14e+02, 2.26e+02, 7.19e+01, 7.24e+01, 1.17e+02,\n",
       "       8.91e+01, 2.08e+02, 9.37e+01, 1.74e+02, 3.68e+01, 2.61e+01,\n",
       "       2.72e+01, 1.92e+01, 2.91e+01, 4.68e+01, 1.99e+01, 1.85e+02,\n",
       "       9.70e+00, 1.19e+01, 4.98e+01, 5.06e+01, 3.55e+01, 2.60e+00,\n",
       "       2.10e+00, 1.40e+00, 5.90e+00, 2.93e+01, 6.55e+01, 4.01e+01,\n",
       "       5.45e+01, 4.10e+01, 1.93e+01, 2.17e+01, 2.59e+01, 2.52e+01,\n",
       "       1.12e+01, 2.04e+01, 8.90e+01, 9.79e+01, 7.75e+01, 7.78e+01,\n",
       "       6.12e+01, 6.25e+01, 8.84e+01, 6.26e+01, 7.48e+01, 5.98e+01,\n",
       "       6.66e+01, 6.57e+01, 8.18e+01, 1.04e+01, 1.60e+00, 1.72e+01,\n",
       "       1.42e+01, 1.91e+01, 5.64e+01, 1.59e+01, 2.88e+01, 9.38e+01,\n",
       "       8.85e+01, 9.20e+00, 9.65e+01, 3.42e+01, 5.75e+01, 5.72e+01,\n",
       "       9.60e+01, 8.72e+01, 1.53e+02, 3.04e+01, 1.51e+02, 1.78e+02,\n",
       "       1.89e+02, 4.54e+01, 2.23e+01, 5.14e+01, 4.45e+01, 8.31e+01,\n",
       "       6.48e+01, 4.33e+01, 3.71e+01, 5.78e+01, 6.69e+01, 2.65e+01,\n",
       "       5.44e+01, 4.18e+01, 1.57e+01, 2.48e+02, 6.10e+00, 1.47e+01,\n",
       "       4.43e+01, 4.49e+01, 4.55e+01, 3.85e+01, 5.91e+01, 7.82e+01,\n",
       "       3.97e+01, 5.03e+01, 3.84e+01, 4.52e+01, 4.32e+01, 9.45e+01,\n",
       "       5.34e+01, 2.33e+01, 1.61e+02, 7.03e+01, 2.47e+01, 1.79e+01,\n",
       "       1.55e+01, 3.29e+01, 2.29e+01, 2.74e+01, 4.63e+01, 5.10e+00,\n",
       "       4.36e+01, 4.75e+01, 2.03e+01, 2.90e+00, 2.38e+01, 8.96e+01,\n",
       "       8.07e+01, 7.11e+01, 3.61e+01, 3.82e+01, 4.14e+01, 4.65e+01,\n",
       "       4.91e+01, 3.78e+01, 5.25e+01, 5.56e+01, 2.76e+01, 4.48e+01,\n",
       "       6.73e+01, 3.10e+02, 2.03e+02, 2.11e+02, 2.04e+02, 1.87e+02,\n",
       "       2.07e+02, 3.93e+01, 1.83e+01, 5.46e+01, 1.72e+02, 5.81e+01,\n",
       "       5.48e+01, 6.91e+01, 6.21e+01, 6.28e+01, 3.09e+01, 2.40e+02,\n",
       "       5.27e+01, 1.52e+01, 3.15e+01, 2.18e+01, 3.48e+01, 4.24e+01,\n",
       "       4.71e+01, 1.87e+01, 2.54e+01, 3.95e+01, 4.04e+01, 4.20e+02,\n",
       "       3.20e+02, 8.29e+01, 7.34e+01, 8.69e+01, 2.20e+02, 1.68e+02,\n",
       "       7.91e+01, 9.12e+01, 1.54e+02, 1.83e+02, 1.86e+02, 1.71e+02,\n",
       "       1.92e+02, 2.60e+02, 7.88e+01, 2.35e+02, 2.80e+02, 2.10e+02,\n",
       "       3.72e+01, 3.51e+01, 3.74e+01, 3.28e+01, 2.43e+01, 4.42e+01,\n",
       "       1.82e+01, 3.88e+01, 2.14e+01, 2.07e+01, 2.96e+01, 3.19e+01,\n",
       "       1.82e+02, 3.65e+01, 1.81e+02, 4.38e+01, 2.36e+02, 2.63e+01,\n",
       "       4.25e+01, 5.13e+01, 2.44e+01, 9.18e+01, 9.13e+01, 1.96e+02,\n",
       "       2.02e+02, 5.82e+01, 4.11e+01, 4.93e+01, 2.67e+01, 2.71e+01,\n",
       "       4.79e+01, 4.15e+01, 4.21e+01, 2.34e+01, 3.75e+01, 7.69e+01,\n",
       "       6.41e+01, 8.88e+01, 5.32e+01, 2.69e+01, 2.13e+01, 4.62e+01,\n",
       "       8.53e+01, 9.05e+01, 8.25e+01, 4.37e+01, 2.09e+01, 4.59e+01,\n",
       "       8.89e+01, 4.73e+01, 3.05e+01, 8.62e+01, 4.53e+01, 4.16e+01,\n",
       "       3.03e+01, 3.07e+01, 3.11e+01, 6.09e+01, 8.95e+01, 8.94e+01,\n",
       "       9.64e+01, 4.77e+01, 9.87e+01, 4.41e+01, 4.67e+01, 5.18e+01,\n",
       "       7.17e+01, 5.28e+01, 5.24e+01])"
      ]
     },
     "execution_count": 1554,
     "metadata": {},
     "output_type": "execute_result"
    }
   ],
   "source": [
    "data['Power (hp)'].unique()"
   ]
  },
  {
   "cell_type": "code",
   "execution_count": 1555,
   "id": "64db9163",
   "metadata": {},
   "outputs": [
    {
     "data": {
      "text/plain": [
       "count    26110.000000\n",
       "mean        50.777809\n",
       "std         52.081496\n",
       "min          0.300000\n",
       "25%         12.000000\n",
       "50%         30.000000\n",
       "75%         77.000000\n",
       "max        804.000000\n",
       "Name: Power (hp), dtype: float64"
      ]
     },
     "execution_count": 1555,
     "metadata": {},
     "output_type": "execute_result"
    }
   ],
   "source": [
    "data['Power (hp)'].describe()"
   ]
  },
  {
   "cell_type": "code",
   "execution_count": 1556,
   "id": "a3f52f45",
   "metadata": {},
   "outputs": [
    {
     "data": {
      "text/plain": [
       "<AxesSubplot:xlabel='Power (hp)'>"
      ]
     },
     "execution_count": 1556,
     "metadata": {},
     "output_type": "execute_result"
    },
    {
     "data": {
      "image/png": "[encoded data removed]",
      "text/plain": [
       "<Figure size 640x480 with 1 Axes>"
      ]
     },
     "metadata": {},
     "output_type": "display_data"
    }
   ],
   "source": [
    "sns.boxplot(data['Power (hp)'])"
   ]
  },
  {
   "cell_type": "code",
   "execution_count": 1557,
   "id": "97b964ad",
   "metadata": {},
   "outputs": [
    {
     "data": {
      "text/plain": [
       "<AxesSubplot:xlabel='Power_hp'>"
      ]
     },
     "execution_count": 1557,
     "metadata": {},
     "output_type": "execute_result"
    },
    {
     "data": {
      "image/png": "[encoded data removed]",
      "text/plain": [
       "<Figure size 640x480 with 1 Axes>"
      ]
     },
     "metadata": {},
     "output_type": "display_data"
    }
   ],
   "source": [
    "# for outliers , i will use logarithmic transformation\n",
    "data['Power_hp'] = data['Power (hp)'].apply(lambda x: np.log1p(x))\n",
    "sns.boxplot(data['Power_hp'])"
   ]
  },
  {
   "cell_type": "code",
   "execution_count": 1558,
   "id": "a246b638",
   "metadata": {},
   "outputs": [
    {
     "data": {
      "text/plain": [
       "count    26110.000000\n",
       "mean         3.433418\n",
       "std          1.088061\n",
       "min          0.262364\n",
       "25%          2.564949\n",
       "50%          3.433987\n",
       "75%          4.356709\n",
       "max          6.690842\n",
       "Name: Power_hp, dtype: float64"
      ]
     },
     "execution_count": 1558,
     "metadata": {},
     "output_type": "execute_result"
    }
   ],
   "source": [
    "data['Power_hp'].describe()"
   ]
  },
  {
   "cell_type": "code",
   "execution_count": 1559,
   "id": "f50116e0",
   "metadata": {},
   "outputs": [
    {
     "data": {
      "text/plain": [
       "12362"
      ]
     },
     "execution_count": 1559,
     "metadata": {},
     "output_type": "execute_result"
    }
   ],
   "source": [
    "data['Power_hp'].isna().sum()"
   ]
  },
  {
   "cell_type": "code",
   "execution_count": 1560,
   "id": "8ee9aab0",
   "metadata": {},
   "outputs": [],
   "source": [
    "data['Power_hp'].fillna(data['Power_hp'].median(), inplace=True)"
   ]
  },
  {
   "cell_type": "code",
   "execution_count": 1561,
   "id": "c69b91fb",
   "metadata": {},
   "outputs": [
    {
     "data": {
      "text/plain": [
       "0"
      ]
     },
     "execution_count": 1561,
     "metadata": {},
     "output_type": "execute_result"
    }
   ],
   "source": [
    "data['Power_hp'].isna().sum()"
   ]
  },
  {
   "cell_type": "code",
   "execution_count": 1562,
   "id": "c854e4d5",
   "metadata": {},
   "outputs": [],
   "source": [
    "data.drop('Power (hp)',axis=1 ,inplace=True)"
   ]
  },
  {
   "cell_type": "markdown",
   "id": "07a06a6c",
   "metadata": {},
   "source": [
    "# Engine cylinder"
   ]
  },
  {
   "cell_type": "code",
   "execution_count": 1564,
   "id": "ccfb811b",
   "metadata": {},
   "outputs": [
    {
     "data": {
      "text/plain": [
       "array(['Electric', 'In-line four', 'Single cylinder', nan, 'Twin', 'V2',\n",
       "       'Four cylinder boxer', 'V4', 'Diesel', 'Square four cylinder',\n",
       "       'In-line three', 'V8', 'In-line six', 'Six cylinder boxer',\n",
       "       'Two cylinder boxer', 'V10', 'V6', 'Single disk Wankel', 'V3',\n",
       "       'Radial', 'Gas turbine', 'Dual disk Wankel'], dtype=object)"
      ]
     },
     "execution_count": 1564,
     "metadata": {},
     "output_type": "execute_result"
    }
   ],
   "source": [
    "data['Engine cylinder'].unique()"
   ]
  },
  {
   "cell_type": "code",
   "execution_count": 1565,
   "id": "15652efe",
   "metadata": {},
   "outputs": [
    {
     "data": {
      "text/plain": [
       "16"
      ]
     },
     "execution_count": 1565,
     "metadata": {},
     "output_type": "execute_result"
    }
   ],
   "source": [
    "data['Engine cylinder'].isna().sum()"
   ]
  },
  {
   "cell_type": "code",
   "execution_count": 1566,
   "id": "9ad410ed",
   "metadata": {},
   "outputs": [],
   "source": [
    "data['Engine cylinder'].mode()[0]\n",
    "data['Engine cylinder'].fillna(data['Engine cylinder'].mode()[0], inplace=True)"
   ]
  },
  {
   "cell_type": "code",
   "execution_count": 1567,
   "id": "5741315d",
   "metadata": {},
   "outputs": [
    {
     "data": {
      "text/plain": [
       "0"
      ]
     },
     "execution_count": 1567,
     "metadata": {},
     "output_type": "execute_result"
    }
   ],
   "source": [
    "data['Engine cylinder'].isna().sum()"
   ]
  },
  {
   "cell_type": "code",
   "execution_count": 1568,
   "id": "03c9426b",
   "metadata": {},
   "outputs": [
    {
     "data": {
      "text/html": [
       "<div>\n",
       "<style scoped>\n",
       "    .dataframe tbody tr th:only-of-type {\n",
       "        vertical-align: middle;\n",
       "    }\n",
       "\n",
       "    .dataframe tbody tr th {\n",
       "        vertical-align: top;\n",
       "    }\n",
       "\n",
       "    .dataframe thead th {\n",
       "        text-align: right;\n",
       "    }\n",
       "</style>\n",
       "<table border=\"1\" class=\"dataframe\">\n",
       "  <thead>\n",
       "    <tr style=\"text-align: right;\">\n",
       "      <th></th>\n",
       "      <th>Brand</th>\n",
       "      <th>Model</th>\n",
       "      <th>Category</th>\n",
       "      <th>Engine cylinder</th>\n",
       "      <th>Engine stroke</th>\n",
       "      <th>Gearbox</th>\n",
       "      <th>Fuel capacity (lts)</th>\n",
       "      <th>Fuel system</th>\n",
       "      <th>Fuel control</th>\n",
       "      <th>Cooling system</th>\n",
       "      <th>Transmission type</th>\n",
       "      <th>Dry weight (kg)</th>\n",
       "      <th>Wheelbase (mm)</th>\n",
       "      <th>Seat height (mm)</th>\n",
       "      <th>Prod_year</th>\n",
       "      <th>Displacment_cmm</th>\n",
       "      <th>Power_hp</th>\n",
       "    </tr>\n",
       "  </thead>\n",
       "  <tbody>\n",
       "    <tr>\n",
       "      <th>0</th>\n",
       "      <td>acabion</td>\n",
       "      <td>da vinci 650-vi</td>\n",
       "      <td>Prototype / concept model</td>\n",
       "      <td>Electric</td>\n",
       "      <td>Electric</td>\n",
       "      <td>NaN</td>\n",
       "      <td>NaN</td>\n",
       "      <td>NaN</td>\n",
       "      <td>NaN</td>\n",
       "      <td>Liquid</td>\n",
       "      <td>Chain</td>\n",
       "      <td>420.0</td>\n",
       "      <td>NaN</td>\n",
       "      <td>NaN</td>\n",
       "      <td>2011</td>\n",
       "      <td>1795.0</td>\n",
       "      <td>6.690842</td>\n",
       "    </tr>\n",
       "    <tr>\n",
       "      <th>1</th>\n",
       "      <td>acabion</td>\n",
       "      <td>gtbo 55</td>\n",
       "      <td>Sport</td>\n",
       "      <td>In-line four</td>\n",
       "      <td>four-stroke</td>\n",
       "      <td>6-speed</td>\n",
       "      <td>NaN</td>\n",
       "      <td>Turbo. KKK Acabion Extended</td>\n",
       "      <td>NaN</td>\n",
       "      <td>Liquid</td>\n",
       "      <td>NaN</td>\n",
       "      <td>360.0</td>\n",
       "      <td>NaN</td>\n",
       "      <td>NaN</td>\n",
       "      <td>2007</td>\n",
       "      <td>1300.0</td>\n",
       "      <td>6.295266</td>\n",
       "    </tr>\n",
       "    <tr>\n",
       "      <th>2</th>\n",
       "      <td>acabion</td>\n",
       "      <td>gtbo 600 daytona-vi</td>\n",
       "      <td>Prototype / concept model</td>\n",
       "      <td>Electric</td>\n",
       "      <td>Electric</td>\n",
       "      <td>NaN</td>\n",
       "      <td>NaN</td>\n",
       "      <td>NaN</td>\n",
       "      <td>NaN</td>\n",
       "      <td>Liquid</td>\n",
       "      <td>NaN</td>\n",
       "      <td>420.0</td>\n",
       "      <td>NaN</td>\n",
       "      <td>NaN</td>\n",
       "      <td>2011</td>\n",
       "      <td>1795.0</td>\n",
       "      <td>6.285998</td>\n",
       "    </tr>\n",
       "    <tr>\n",
       "      <th>3</th>\n",
       "      <td>acabion</td>\n",
       "      <td>gtbo 600 daytona-vi</td>\n",
       "      <td>Prototype / concept model</td>\n",
       "      <td>Electric</td>\n",
       "      <td>Electric</td>\n",
       "      <td>NaN</td>\n",
       "      <td>NaN</td>\n",
       "      <td>NaN</td>\n",
       "      <td>NaN</td>\n",
       "      <td>Liquid</td>\n",
       "      <td>NaN</td>\n",
       "      <td>420.0</td>\n",
       "      <td>NaN</td>\n",
       "      <td>NaN</td>\n",
       "      <td>2021</td>\n",
       "      <td>1795.0</td>\n",
       "      <td>6.285998</td>\n",
       "    </tr>\n",
       "    <tr>\n",
       "      <th>4</th>\n",
       "      <td>acabion</td>\n",
       "      <td>gtbo 70</td>\n",
       "      <td>Prototype / concept model</td>\n",
       "      <td>In-line four</td>\n",
       "      <td>four-stroke</td>\n",
       "      <td>6-speed</td>\n",
       "      <td>NaN</td>\n",
       "      <td>Turbo. KKK Acabion Extended</td>\n",
       "      <td>NaN</td>\n",
       "      <td>Liquid</td>\n",
       "      <td>NaN</td>\n",
       "      <td>300.0</td>\n",
       "      <td>NaN</td>\n",
       "      <td>NaN</td>\n",
       "      <td>2007</td>\n",
       "      <td>1300.0</td>\n",
       "      <td>6.536692</td>\n",
       "    </tr>\n",
       "  </tbody>\n",
       "</table>\n",
       "</div>"
      ],
      "text/plain": [
       "     Brand                Model                   Category Engine cylinder  \\\n",
       "0  acabion      da vinci 650-vi  Prototype / concept model        Electric   \n",
       "1  acabion              gtbo 55                      Sport    In-line four   \n",
       "2  acabion  gtbo 600 daytona-vi  Prototype / concept model        Electric   \n",
       "3  acabion  gtbo 600 daytona-vi  Prototype / concept model        Electric   \n",
       "4  acabion              gtbo 70  Prototype / concept model    In-line four   \n",
       "\n",
       "  Engine stroke  Gearbox  Fuel capacity (lts)                  Fuel system  \\\n",
       "0      Electric      NaN                  NaN                          NaN   \n",
       "1   four-stroke  6-speed                  NaN  Turbo. KKK Acabion Extended   \n",
       "2      Electric      NaN                  NaN                          NaN   \n",
       "3      Electric      NaN                  NaN                          NaN   \n",
       "4   four-stroke  6-speed                  NaN  Turbo. KKK Acabion Extended   \n",
       "\n",
       "  Fuel control Cooling system Transmission type  Dry weight (kg)  \\\n",
       "0          NaN         Liquid             Chain            420.0   \n",
       "1          NaN         Liquid               NaN            360.0   \n",
       "2          NaN         Liquid               NaN            420.0   \n",
       "3          NaN         Liquid               NaN            420.0   \n",
       "4          NaN         Liquid               NaN            300.0   \n",
       "\n",
       "   Wheelbase (mm)  Seat height (mm)  Prod_year  Displacment_cmm  Power_hp  \n",
       "0             NaN               NaN       2011           1795.0  6.690842  \n",
       "1             NaN               NaN       2007           1300.0  6.295266  \n",
       "2             NaN               NaN       2011           1795.0  6.285998  \n",
       "3             NaN               NaN       2021           1795.0  6.285998  \n",
       "4             NaN               NaN       2007           1300.0  6.536692  "
      ]
     },
     "execution_count": 1568,
     "metadata": {},
     "output_type": "execute_result"
    }
   ],
   "source": [
    "data.head()"
   ]
  },
  {
   "cell_type": "markdown",
   "id": "6554cacc",
   "metadata": {},
   "source": [
    "# Engine stroke"
   ]
  },
  {
   "cell_type": "code",
   "execution_count": 1569,
   "id": "87413154",
   "metadata": {},
   "outputs": [
    {
     "data": {
      "text/plain": [
       "array(['Electric', ' four-stroke', ' two-stroke', nan, 'Diesel',\n",
       "       'Square four cylinder', 'Single disk Wankel', 'Radial',\n",
       "       'Gas turbine', 'Dual disk Wankel'], dtype=object)"
      ]
     },
     "execution_count": 1569,
     "metadata": {},
     "output_type": "execute_result"
    }
   ],
   "source": [
    "data['Engine stroke'].unique()"
   ]
  },
  {
   "cell_type": "code",
   "execution_count": 1570,
   "id": "3b1d120a",
   "metadata": {},
   "outputs": [
    {
     "data": {
      "text/plain": [
       "11"
      ]
     },
     "execution_count": 1570,
     "metadata": {},
     "output_type": "execute_result"
    }
   ],
   "source": [
    "data['Engine stroke'].isna().sum()"
   ]
  },
  {
   "cell_type": "code",
   "execution_count": 1571,
   "id": "ae526d35",
   "metadata": {},
   "outputs": [],
   "source": [
    "data['Engine stroke'].mode()[0]\n",
    "data['Engine stroke'].fillna(data['Engine stroke'].mode()[0], inplace=True)"
   ]
  },
  {
   "cell_type": "code",
   "execution_count": 1572,
   "id": "bf226fd1",
   "metadata": {},
   "outputs": [
    {
     "data": {
      "text/plain": [
       "0"
      ]
     },
     "execution_count": 1572,
     "metadata": {},
     "output_type": "execute_result"
    }
   ],
   "source": [
    "data['Engine stroke'].isna().sum()"
   ]
  },
  {
   "cell_type": "markdown",
   "id": "7e2cd223",
   "metadata": {},
   "source": [
    "# Gearbox"
   ]
  },
  {
   "cell_type": "code",
   "execution_count": 1574,
   "id": "3ecaafae",
   "metadata": {},
   "outputs": [
    {
     "data": {
      "text/plain": [
       "array([nan, '6-speed', 'Automatic', '5-speed', '1-speed', '3-speed',\n",
       "       '4-speed', '7-speed', '8-speed', '2-speed', '4-speed with reverse',\n",
       "       '10-speed', '2-speed automatic', '5-speed with reverse',\n",
       "       '6-speed with reverse', '3-speed automatic', '100-speed'],\n",
       "      dtype=object)"
      ]
     },
     "execution_count": 1574,
     "metadata": {},
     "output_type": "execute_result"
    }
   ],
   "source": [
    "data['Gearbox'].unique()"
   ]
  },
  {
   "cell_type": "code",
   "execution_count": 1575,
   "id": "c480f27b",
   "metadata": {},
   "outputs": [],
   "source": [
    "data['Gearbox'].mode()[0]\n",
    "data['Gearbox'].fillna(data['Gearbox'].mode()[0], inplace=True)"
   ]
  },
  {
   "cell_type": "code",
   "execution_count": 1576,
   "id": "df6ea963",
   "metadata": {},
   "outputs": [
    {
     "data": {
      "text/plain": [
       "0"
      ]
     },
     "execution_count": 1576,
     "metadata": {},
     "output_type": "execute_result"
    }
   ],
   "source": [
    "data['Gearbox'].isna().sum()"
   ]
  },
  {
   "cell_type": "markdown",
   "id": "d8e5b78b",
   "metadata": {},
   "source": [
    "# Fuel capacity (lts)"
   ]
  },
  {
   "cell_type": "code",
   "execution_count": 1577,
   "id": "490f66ff",
   "metadata": {},
   "outputs": [
    {
     "data": {
      "text/plain": [
       "array([  nan, 14.  , 21.  , 16.6 , 13.5 , 12.  , 13.  , 11.  , 12.2 ,\n",
       "        5.  ,  6.  ,  7.  , 15.  ,  3.75,  6.2 ,  3.5 , 17.29,  4.75,\n",
       "        5.8 ,  5.5 ,  8.  ,  7.3 ,  8.5 ,  9.3 , 23.  ,  3.4 ,  9.  ,\n",
       "       24.  ,  2.  , 17.  , 18.  ,  6.5 ,  7.5 ,  9.5 , 10.  ,  4.7 ,\n",
       "       11.2 ,  6.3 , 19.  ,  7.2 , 12.5 , 16.  ,  4.5 ,  6.7 ,  4.6 ,\n",
       "       18.5 , 28.  ,  7.57, 12.49, 17.03, 46.  , 40.  , 13.24, 18.92,\n",
       "       15.89, 22.  , 20.  , 10.5 , 25.  , 30.  ,  9.6 ,  2.8 ,  7.7 ,\n",
       "        9.08,  7.4 , 11.5 , 19.5 , 14.5 , 16.5 ,  7.8 ,  8.4 , 13.2 ,\n",
       "        8.97,  7.6 , 15.5 , 18.8 ,  2.5 , 17.9 , 18.93, 20.1 , 21.57,\n",
       "        8.71, 12.86, 16.3 , 16.28, 21.5 , 21.6 , 24.6 ,  5.68,  5.7 ,\n",
       "       12.11, 22.71, 22.7 ,  5.3 , 20.06, 21.95, 20.81, 20.8 , 13.25,\n",
       "       13.6 , 11.36, 15.14, 15.9 , 14.8 , 11.9 ,  6.4 , 10.6 ,  4.9 ,\n",
       "        9.84, 17.41,  9.46,  8.7 , 12.3 , 13.1 , 15.52,  8.6 ,  9.2 ,\n",
       "        9.25,  9.7 ,  5.6 ,  4.  ,  8.8 ,  3.  ,  4.8 ,  6.8 , 27.  ,\n",
       "       12.7 , 15.97, 14.99, 11.7 , 10.7 , 14.38,  2.2 ,  1.89,  3.1 ,\n",
       "        9.8 ,  2.6 ,  3.2 ,  4.2 ,  3.8 , 16.55, 16.08, 13.72, 14.19,\n",
       "       22.23, 19.3 , 14.66, 14.67, 17.78, 14.4 , 16.65, 17.4 , 17.98,\n",
       "        6.06,  5.49,  4.92,  4.73,  6.28,  1.  ,  1.3 ,  1.7 , 15.51,\n",
       "       15.56, 12.8 , 32.  , 17.5 , 17.3 , 10.98, 20.5 , 23.4 , 26.5 ,\n",
       "       23.84, 26.  , 35.  , 18.9 , 22.1 , 20.4 , 25.2 , 33.  , 32.93,\n",
       "       24.98, 19.68, 29.9 , 18.17, 16.01, 24.22, 23.85, 19.6 , 33.5 ,\n",
       "       14.6 , 38.  , 47.  , 37.  , 45.  , 52.  , 32.5 , 32.17, 12.9 ,\n",
       "        8.1 ,  3.3 , 21.19, 10.59, 14.45, 15.8 , 15.2 , 15.17, 19.98,\n",
       "       11.35,  6.05,  2.7 , 20.44, 26.98, 13.4 ,  3.02, 16.25, 20.82,\n",
       "        5.2 ,  8.3 ,  3.6 , 16.24,  5.9 ,  7.1 , 16.8 , 14.9 , 11.6 ,\n",
       "       14.7 , 13.3 ,  6.9 ,  2.3 ,  7.25,  6.81,  2.84,  5.48, 10.97,\n",
       "        8.13,  8.14,  4.3 , 12.6 , 18.3 , 12.4 , 11.4 , 14.76,  5.1 ,\n",
       "       13.7 , 14.25, 17.1 ,  6.1 ,  1.5 ,  7.9 ,  8.2 , 10.51, 10.3 ,\n",
       "        2.9 ,  5.98,  2.4 , 30.28,  3.79, 12.87,  7.94, 34.  ,  6.6 ,\n",
       "       19.7 , 18.6 , 17.79, 17.8 , 18.16, 18.2 , 18.7 , 16.7 , 18.54,\n",
       "       21.2 ,  6.62,  7.95, 11.73,  8.32, 12.1 , 10.1 , 15.3 , 11.1 ,\n",
       "       24.8 , 18.77,  3.7 , 16.27, 21.8 , 16.2 , 10.22, 15.7 , 17.7 ,\n",
       "       15.4 , 16.1 ,  9.1 ,  5.29,  5.67,  7.19,  4.31,  8.59,  2.64,\n",
       "        4.16,  8.52,  6.43,  8.33,  7.61,  2.65,  4.1 , 14.1 , 15.1 ,\n",
       "       24.1 ,  9.4 , 13.62, 13.63, 21.01, 21.1 , 25.36, 23.5 , 23.2 ,\n",
       "        4.99,  4.54,  4.4 ,  3.41,  7.38, 29.  , 11.17,  3.9 , 23.08,\n",
       "       29.14, 14.3 , 10.21, 16.4 , 26.4 , 18.55, 19.1 , 20.3 , 10.9 ,\n",
       "       11.8 , 36.  , 24.5 , 10.2 , 10.18,  6.47,  7.99,  3.78, 64.34,\n",
       "        7.87,  4.69,  7.34, 14.2 ,  5.4 , 17.94, 28.5 , 20.43, 28.38,\n",
       "       23.09,  6.09,  6.21, 21.7 , 13.9 , 10.8 , 14.98, 11.3 , 13.8 ,\n",
       "       28.01,  1.8 ,  2.1 , 25.5 , 48.  ,  6.75,  7.49, 12.98,  5.79,\n",
       "        6.69, 12.79,  6.74, 19.4 ,  2.49,  2.99,  3.48,  2.01,  6.02,\n",
       "       12.25,  8.02,  2.27,  3.25, 26.49, 22.5 , 23.99, 16.99, 18.96,\n",
       "       17.18, 17.2 , 20.66, 17.97, 20.7 , 21.99, 11.75,  7.75, 18.47,\n",
       "        3.21,  3.53,  1.6 , 50.  ,  5.75,  6.25,  8.75, 19.9 , 19.87,\n",
       "       25.55, 40.12,  6.51,  6.32, 10.26, 22.3 ,  8.9 , 10.4 ,  5.41,\n",
       "        3.97,  2.95,  2.75, 11.25, 12.07, 22.48,  3.31,  2.83, 22.33,\n",
       "        9.99,  9.75,  5.26,  4.06, 15.36, 16.16,  6.55, 13.13,  9.68,\n",
       "        0.5 ,  4.23, 18.01, 18.02,  4.05,  1.9 ,  6.58,  3.03, 11.92,\n",
       "       19.2 ,  6.17, 18.35])"
      ]
     },
     "execution_count": 1577,
     "metadata": {},
     "output_type": "execute_result"
    }
   ],
   "source": [
    "data['Fuel capacity (lts)'].unique()"
   ]
  },
  {
   "cell_type": "code",
   "execution_count": 1578,
   "id": "6c43a3e7",
   "metadata": {},
   "outputs": [
    {
     "data": {
      "text/plain": [
       "<AxesSubplot:xlabel='Fuel capacity (lts)'>"
      ]
     },
     "execution_count": 1578,
     "metadata": {},
     "output_type": "execute_result"
    },
    {
     "data": {
      "image/png": "[encoded data removed]",
      "text/plain": [
       "<Figure size 640x480 with 1 Axes>"
      ]
     },
     "metadata": {},
     "output_type": "display_data"
    }
   ],
   "source": [
    "sns.boxplot(data['Fuel capacity (lts)'])"
   ]
  },
  {
   "cell_type": "code",
   "execution_count": 1579,
   "id": "be89ed56",
   "metadata": {},
   "outputs": [],
   "source": [
    "# many outliers so i will fill nan with median \n",
    "data['Fuel capacity (lts)'].fillna(data['Fuel capacity (lts)'].median(), inplace=True)"
   ]
  },
  {
   "cell_type": "code",
   "execution_count": 1580,
   "id": "e33c290b",
   "metadata": {},
   "outputs": [],
   "source": [
    "# for outliers\n",
    "from scipy.stats.mstats import winsorize\n",
    "# Winsorize the data at the 5th and 95th percentiles\n",
    "winsorized_data = winsorize(data['Fuel capacity (lts)'], limits=[0.05, 0.05])"
   ]
  },
  {
   "cell_type": "code",
   "execution_count": 1581,
   "id": "baabac7e",
   "metadata": {},
   "outputs": [
    {
     "data": {
      "text/plain": [
       "<AxesSubplot:>"
      ]
     },
     "execution_count": 1581,
     "metadata": {},
     "output_type": "execute_result"
    },
    {
     "data": {
      "image/png": "[encoded data removed]",
      "text/plain": [
       "<Figure size 640x480 with 1 Axes>"
      ]
     },
     "metadata": {},
     "output_type": "display_data"
    }
   ],
   "source": [
    "sns.boxplot(winsorized_data)"
   ]
  },
  {
   "cell_type": "code",
   "execution_count": 1582,
   "id": "791fede6",
   "metadata": {},
   "outputs": [],
   "source": [
    "data['Fuel_capacity_lts'] = pd.Series(winsorized_data)"
   ]
  },
  {
   "cell_type": "code",
   "execution_count": 1583,
   "id": "d8fd2fce",
   "metadata": {},
   "outputs": [],
   "source": [
    "data.drop('Fuel capacity (lts)',axis=1 ,inplace=True)"
   ]
  },
  {
   "cell_type": "code",
   "execution_count": 1584,
   "id": "129f2e7d",
   "metadata": {},
   "outputs": [
    {
     "data": {
      "text/plain": [
       "1"
      ]
     },
     "execution_count": 1584,
     "metadata": {},
     "output_type": "execute_result"
    }
   ],
   "source": [
    "data['Fuel_capacity_lts'].isna().sum()"
   ]
  },
  {
   "cell_type": "code",
   "execution_count": 1585,
   "id": "ead92578",
   "metadata": {},
   "outputs": [],
   "source": [
    "data['Fuel_capacity_lts'].fillna(data['Fuel_capacity_lts'].median(), inplace=True)"
   ]
  },
  {
   "cell_type": "markdown",
   "id": "6f870c31",
   "metadata": {},
   "source": [
    "# Fuel system"
   ]
  },
  {
   "cell_type": "code",
   "execution_count": 1586,
   "id": "c1993bc5",
   "metadata": {},
   "outputs": [
    {
     "data": {
      "text/plain": [
       "array([nan, 'Turbo. KKK Acabion Extended', 'Carburettor', ...,\n",
       "       'Carburettor. Bing 20mm', 'Carburettor. Amal 22mm',\n",
       "       'Carburettor. Bing 19mm (1/19/36)'], dtype=object)"
      ]
     },
     "execution_count": 1586,
     "metadata": {},
     "output_type": "execute_result"
    }
   ],
   "source": [
    "data['Fuel system'].unique()"
   ]
  },
  {
   "cell_type": "code",
   "execution_count": 1587,
   "id": "4efa26a4",
   "metadata": {},
   "outputs": [
    {
     "data": {
      "text/plain": [
       "29967                                            Injection\n",
       "33594                                          Carburettor\n",
       "5329                                 Injection. Mikuni D45\n",
       "28123                                          Carburettor\n",
       "10869    Injection. Electronic Sequential Port Fuel Inj...\n",
       "3912     Injection. Digital engine management with elec...\n",
       "25429                                    Carburettor. Amac\n",
       "38383                               Carburettor. Bing 22mm\n",
       "7136                                                   NaN\n",
       "15648                                                  NaN\n",
       "9909                                           Carburettor\n",
       "18434    Injection. DFI® with 38mm Keihin throttle bodi...\n",
       "22597                                                  NaN\n",
       "15523                                            Injection\n",
       "13688        Injection. Programmed Fuel Injection (PGM-FI)\n",
       "37486                                          Carburettor\n",
       "7889                                           Carburettor\n",
       "29665              Injection. Ride-by-Wire throttle bodies\n",
       "3681                                                   NaN\n",
       "10250    Injection. Electronic Sequential Port Fuel Inj...\n",
       "29057                  Carburettor. Mikuni BST31SS, single\n",
       "18508        Injection. DFI® with 32mm throttle bodies (2)\n",
       "35963                                                  NaN\n",
       "27650    Carburettor. VHST 26 mm DELLORTO, with resumpt...\n",
       "14323    Injection. PGM-FI with automatic enrichment ci...\n",
       "15009                                                  NaN\n",
       "1336                     Carburettor. Dell Ortho PVHA 17.5\n",
       "14830                                                  NaN\n",
       "19696                                          Carburettor\n",
       "7808     Injection. Marelli electronic fuel injection, ...\n",
       "20808                                            Injection\n",
       "6420                        Carburettor. Carburettor Ø17,5\n",
       "3812                                                   NaN\n",
       "6325                                           Carburettor\n",
       "12185                                                  NaN\n",
       "35449                                                  NaN\n",
       "25793                                          Carburettor\n",
       "31552                                          Carburettor\n",
       "33384                                          Carburettor\n",
       "26411                                          Carburettor\n",
       "30847                                                  NaN\n",
       "25664                                                  NaN\n",
       "20434                                            Injection\n",
       "18903                                                  NaN\n",
       "10712                                          Carburettor\n",
       "37201                                                  NaN\n",
       "23919                                                  NaN\n",
       "26325                                            Injection\n",
       "3931     Injection. Digital engine management, electron...\n",
       "2166                                                   NaN\n",
       "Name: Fuel system, dtype: object"
      ]
     },
     "execution_count": 1587,
     "metadata": {},
     "output_type": "execute_result"
    }
   ],
   "source": [
    "data['Fuel system'].sample(n=50)"
   ]
  },
  {
   "cell_type": "code",
   "execution_count": 1588,
   "id": "24b57289",
   "metadata": {},
   "outputs": [],
   "source": [
    "data['Fuel system'].mode()[0]\n",
    "data['Fuel system'].fillna(data['Fuel system'].mode()[0], inplace=True)"
   ]
  },
  {
   "cell_type": "code",
   "execution_count": 1589,
   "id": "b3535899",
   "metadata": {},
   "outputs": [
    {
     "data": {
      "text/plain": [
       "0"
      ]
     },
     "execution_count": 1589,
     "metadata": {},
     "output_type": "execute_result"
    }
   ],
   "source": [
    "data['Fuel system'].isna().sum()"
   ]
  },
  {
   "cell_type": "markdown",
   "id": "65b570b4",
   "metadata": {},
   "source": [
    "# Fuel control"
   ]
  },
  {
   "cell_type": "code",
   "execution_count": 1590,
   "id": "d593083f",
   "metadata": {},
   "outputs": [
    {
     "data": {
      "text/plain": [
       "array([nan, 'Overhead Valves (OHV)', 'Overhead Cams (OHC)',\n",
       "       'Single Overhead Cams (SOHC)',\n",
       "       'Double Overhead Cams/Twin Cam (DOHC)', 'Port control',\n",
       "       'Rotary valves', 'Membrane & variable discharge openings',\n",
       "       'Membrane', 'Desmodromic valve control', 'Sidevalves',\n",
       "       'Standing valves', 'Pushrods', 'Membrane & power valve',\n",
       "       'Rotary valves & variable discharge openings'], dtype=object)"
      ]
     },
     "execution_count": 1590,
     "metadata": {},
     "output_type": "execute_result"
    }
   ],
   "source": [
    "data['Fuel control'].unique()"
   ]
  },
  {
   "cell_type": "code",
   "execution_count": 1591,
   "id": "20c2a753",
   "metadata": {},
   "outputs": [],
   "source": [
    "data['Fuel control'].mode()[0]\n",
    "data['Fuel control'].fillna(data['Fuel control'].mode()[0], inplace=True)"
   ]
  },
  {
   "cell_type": "code",
   "execution_count": 1592,
   "id": "3dbbdf8e",
   "metadata": {},
   "outputs": [
    {
     "data": {
      "text/plain": [
       "0"
      ]
     },
     "execution_count": 1592,
     "metadata": {},
     "output_type": "execute_result"
    }
   ],
   "source": [
    "data['Fuel control'].isna().sum()"
   ]
  },
  {
   "cell_type": "markdown",
   "id": "baff7de9",
   "metadata": {},
   "source": [
    "# Cooling system"
   ]
  },
  {
   "cell_type": "code",
   "execution_count": 1593,
   "id": "4a74770b",
   "metadata": {},
   "outputs": [
    {
     "data": {
      "text/plain": [
       "array(['Liquid', nan, 'Air', 'Liquids', 'the air', 'airr', 'air',\n",
       "       'Oil & air', 'Oil and air'], dtype=object)"
      ]
     },
     "execution_count": 1593,
     "metadata": {},
     "output_type": "execute_result"
    }
   ],
   "source": [
    "data['Cooling system'].unique()\n",
    "# syntax problems"
   ]
  },
  {
   "cell_type": "code",
   "execution_count": 1594,
   "id": "c6ff3e45",
   "metadata": {},
   "outputs": [],
   "source": [
    "data['Cooling system'] = data['Cooling system'].str.lower()"
   ]
  },
  {
   "cell_type": "code",
   "execution_count": 1595,
   "id": "e966b600",
   "metadata": {},
   "outputs": [],
   "source": [
    "data['Cooling system'] = data['Cooling system'].str.replace('the air','air')\n",
    "data['Cooling system'] = data['Cooling system'].str.replace('airr','air')\n",
    "data['Cooling system'] = data['Cooling system'].str.replace('oil & air','oil and air')\n",
    "data['Cooling system'] = data['Cooling system'].str.replace('liquids','liquid')"
   ]
  },
  {
   "cell_type": "code",
   "execution_count": 1596,
   "id": "6d516a56",
   "metadata": {},
   "outputs": [
    {
     "data": {
      "text/plain": [
       "array(['liquid', nan, 'air', 'oil and air'], dtype=object)"
      ]
     },
     "execution_count": 1596,
     "metadata": {},
     "output_type": "execute_result"
    }
   ],
   "source": [
    "data['Cooling system'].unique()"
   ]
  },
  {
   "cell_type": "code",
   "execution_count": 1597,
   "id": "368452a1",
   "metadata": {},
   "outputs": [],
   "source": [
    "# NAN values\n",
    "data['Cooling system'].mode()[0]\n",
    "data['Cooling system'].fillna(data['Cooling system'].mode()[0], inplace=True)"
   ]
  },
  {
   "cell_type": "code",
   "execution_count": 1598,
   "id": "a60436e9",
   "metadata": {},
   "outputs": [
    {
     "data": {
      "text/plain": [
       "array(['liquid', 'air', 'oil and air'], dtype=object)"
      ]
     },
     "execution_count": 1598,
     "metadata": {},
     "output_type": "execute_result"
    }
   ],
   "source": [
    "data['Cooling system'].unique()"
   ]
  },
  {
   "cell_type": "code",
   "execution_count": 1599,
   "id": "ae2b9d09",
   "metadata": {},
   "outputs": [
    {
     "data": {
      "text/plain": [
       "0"
      ]
     },
     "execution_count": 1599,
     "metadata": {},
     "output_type": "execute_result"
    }
   ],
   "source": [
    "data['Cooling system'].isna().sum()"
   ]
  },
  {
   "cell_type": "markdown",
   "id": "bf52cf92",
   "metadata": {},
   "source": [
    "# Transmission type"
   ]
  },
  {
   "cell_type": "code",
   "execution_count": 1600,
   "id": "bf829fac",
   "metadata": {},
   "outputs": [
    {
     "data": {
      "text/plain": [
       "array(['Chain', nan, 'Belt', 'Shaft drive'], dtype=object)"
      ]
     },
     "execution_count": 1600,
     "metadata": {},
     "output_type": "execute_result"
    }
   ],
   "source": [
    "data['Transmission type'].unique()"
   ]
  },
  {
   "cell_type": "code",
   "execution_count": 1601,
   "id": "86a463b1",
   "metadata": {},
   "outputs": [],
   "source": [
    "# NAN values\n",
    "data['Transmission type'].mode()[0]\n",
    "data['Transmission type'].fillna(data['Transmission type'].mode()[0], inplace=True)"
   ]
  },
  {
   "cell_type": "code",
   "execution_count": 1602,
   "id": "156f1a2b",
   "metadata": {},
   "outputs": [
    {
     "data": {
      "text/plain": [
       "0"
      ]
     },
     "execution_count": 1602,
     "metadata": {},
     "output_type": "execute_result"
    }
   ],
   "source": [
    "data['Transmission type'].isna().sum()"
   ]
  },
  {
   "cell_type": "markdown",
   "id": "cda817de",
   "metadata": {},
   "source": [
    "# Dry weight (kg)"
   ]
  },
  {
   "cell_type": "code",
   "execution_count": 1603,
   "id": "7e63d0a8",
   "metadata": {},
   "outputs": [
    {
     "data": {
      "text/plain": [
       "9006      69.4\n",
       "27622     68.5\n",
       "2591     362.4\n",
       "34969    264.0\n",
       "8370       NaN\n",
       "2306       NaN\n",
       "13055      NaN\n",
       "31908     65.0\n",
       "34590    115.0\n",
       "4548       NaN\n",
       "30117      NaN\n",
       "8831      55.0\n",
       "32961      NaN\n",
       "31536      NaN\n",
       "18281    152.0\n",
       "16187    244.0\n",
       "653        NaN\n",
       "15        95.0\n",
       "827        NaN\n",
       "36209      NaN\n",
       "19886      NaN\n",
       "9759     322.0\n",
       "20062    127.0\n",
       "25753      NaN\n",
       "37775      NaN\n",
       "35960    152.0\n",
       "11345      NaN\n",
       "6422       NaN\n",
       "23843      NaN\n",
       "16036    188.7\n",
       "6374     115.0\n",
       "33195      NaN\n",
       "8337      95.0\n",
       "14964      NaN\n",
       "24184     95.0\n",
       "14894      NaN\n",
       "37896      NaN\n",
       "18174      NaN\n",
       "107       52.0\n",
       "16819      NaN\n",
       "15844    132.0\n",
       "27712    100.0\n",
       "5856       NaN\n",
       "19011      NaN\n",
       "19187      NaN\n",
       "9470       NaN\n",
       "2371     199.0\n",
       "11892     50.0\n",
       "36415     72.0\n",
       "15360    106.7\n",
       "Name: Dry weight (kg), dtype: float64"
      ]
     },
     "execution_count": 1603,
     "metadata": {},
     "output_type": "execute_result"
    }
   ],
   "source": [
    "data['Dry weight (kg)'].sample(n=50)"
   ]
  },
  {
   "cell_type": "code",
   "execution_count": 1604,
   "id": "3efad0a5",
   "metadata": {},
   "outputs": [
    {
     "data": {
      "text/plain": [
       "<AxesSubplot:xlabel='Dry weight (kg)'>"
      ]
     },
     "execution_count": 1604,
     "metadata": {},
     "output_type": "execute_result"
    },
    {
     "data": {
      "image/png": "[encoded data removed]",
      "text/plain": [
       "<Figure size 640x480 with 1 Axes>"
      ]
     },
     "metadata": {},
     "output_type": "display_data"
    }
   ],
   "source": [
    "sns.boxplot(data['Dry weight (kg)'])"
   ]
  },
  {
   "cell_type": "code",
   "execution_count": 1605,
   "id": "b1cd2456",
   "metadata": {},
   "outputs": [],
   "source": [
    "# for outliers\n",
    "from scipy.stats.mstats import winsorize\n",
    "# Winsorize the data at the 5th and 95th percentiles\n",
    "winsorized_data = winsorize(data['Dry weight (kg)'], limits=[0.05, 0.05])"
   ]
  },
  {
   "cell_type": "code",
   "execution_count": 1606,
   "id": "76446380",
   "metadata": {},
   "outputs": [
    {
     "data": {
      "text/plain": [
       "<AxesSubplot:>"
      ]
     },
     "execution_count": 1606,
     "metadata": {},
     "output_type": "execute_result"
    },
    {
     "data": {
      "image/png": "[encoded data removed]",
      "text/plain": [
       "<Figure size 640x480 with 1 Axes>"
      ]
     },
     "metadata": {},
     "output_type": "display_data"
    }
   ],
   "source": [
    "sns.boxplot(winsorized_data)"
   ]
  },
  {
   "cell_type": "code",
   "execution_count": 1607,
   "id": "310336b4",
   "metadata": {},
   "outputs": [],
   "source": [
    "data['Dry_weight_kg'] = pd.Series(winsorized_data)"
   ]
  },
  {
   "cell_type": "code",
   "execution_count": 1608,
   "id": "940dea4f",
   "metadata": {},
   "outputs": [],
   "source": [
    "data.drop('Dry weight (kg)',axis=1 ,inplace=True)"
   ]
  },
  {
   "cell_type": "code",
   "execution_count": 1609,
   "id": "8199ae43",
   "metadata": {},
   "outputs": [
    {
     "data": {
      "text/plain": [
       "15990"
      ]
     },
     "execution_count": 1609,
     "metadata": {},
     "output_type": "execute_result"
    }
   ],
   "source": [
    "data['Dry_weight_kg'].isna().sum()"
   ]
  },
  {
   "cell_type": "code",
   "execution_count": 1610,
   "id": "a5cacaad",
   "metadata": {},
   "outputs": [],
   "source": [
    "# for nan values , fill median\n",
    "data['Dry_weight_kg'].fillna(data['Dry_weight_kg'].median(), inplace=True)"
   ]
  },
  {
   "cell_type": "code",
   "execution_count": 1611,
   "id": "b5f5fb84",
   "metadata": {},
   "outputs": [
    {
     "data": {
      "text/plain": [
       "0"
      ]
     },
     "execution_count": 1611,
     "metadata": {},
     "output_type": "execute_result"
    }
   ],
   "source": [
    "data['Dry_weight_kg'].isna().sum()"
   ]
  },
  {
   "cell_type": "markdown",
   "id": "68d982f1",
   "metadata": {},
   "source": [
    "# Wheelbase (mm)"
   ]
  },
  {
   "cell_type": "code",
   "execution_count": 1612,
   "id": "2f669bf0",
   "metadata": {},
   "outputs": [
    {
     "data": {
      "text/plain": [
       "array([  nan, 1759., 1640., 1560., 1751., 1400., 1300., 1320., 1524.,\n",
       "       1257., 1047., 1210., 1240., 1230.,  890.,  910., 1220.,  800.,\n",
       "       1250., 1255., 1046., 1100., 1565.,  850., 1050., 1155.,  745.,\n",
       "       1290., 1360., 1545., 1260., 1065., 1115., 1294.,  970.,  820.,\n",
       "       1000., 1270., 1321., 1340., 1410., 1380., 1389., 1460., 1465.,\n",
       "       1532., 1540., 1450., 1080., 1382., 1670., 1330., 1650., 1500.,\n",
       "       1570., 1275., 1850., 1860., 1285., 1345., 1422., 1397., 1510.,\n",
       "       1333., 1549., 1499., 1305., 1470., 1370., 1434., 1480., 1515.,\n",
       "       1488., 1492., 1461., 1487., 1455., 1745., 2159., 2141., 1887.,\n",
       "       2134., 1803., 1981., 1702., 1553., 1550., 1544., 1568., 1280.,\n",
       "       1462., 1528., 1505., 1415.,  770., 1463.,  925., 1024., 1349.,\n",
       "       1475., 1479., 1353., 1350., 1311., 1310., 1369., 1420., 1435.,\n",
       "       1418., 1405., 1439., 1424., 1412., 1425., 1406., 1395., 1365.,\n",
       "       1495., 1245., 1256., 1391., 1530., 1535., 1605., 1440., 1175.,\n",
       "       1358., 1359., 1355., 1265., 1593., 1525., 1452., 1445., 1442.,\n",
       "       1727., 1334., 1179., 1219.,  975., 1168., 1473.,  965., 1385.,\n",
       "       1541., 1295., 1486., 1494., 1498., 1509., 1699., 1386., 1278.,\n",
       "       1212., 1226., 1600., 2000., 2180., 1390.,  920., 1490., 1235.,\n",
       "       1453., 1325., 1363., 1351., 1372., 1225., 1277., 1016., 1041.,\n",
       "       1143., 1092.,  940.,  991., 1215., 1840., 1635., 1430., 1514.,\n",
       "       1443., 1419., 1483., 1456., 1481., 1531.,  864., 1181.,  927.,\n",
       "       1384., 1444., 1740., 1200., 1010., 1025.,  905., 1140., 1144.,\n",
       "       1020.,  895., 1040., 1319., 1477., 1482., 1428., 1383., 1417.,\n",
       "       1467., 2235., 2184., 2108., 2083., 2261., 1930., 1651., 1895.,\n",
       "       1969., 1854., 1857., 2096., 2120., 1375., 1591., 1590., 1594.,\n",
       "       1610., 1675., 1493., 1575., 1489., 1562., 1559., 1578., 1577.,\n",
       "       1573., 1466., 1520., 1519., 1526., 1521., 1518., 1374., 1478.,\n",
       "       1625., 1616., 1485., 1438., 1555., 1572., 1630., 1633., 1637.,\n",
       "       1627., 1580., 1571., 1585., 1720., 1618., 1680., 1679., 1507.,\n",
       "       1457., 1501., 1469., 1641., 1506., 1511., 1527., 1502., 1504.,\n",
       "       1730., 1476., 1491., 1522., 1303., 1335., 1427., 1432., 1441.,\n",
       "       1548., 1956., 2032., 3327., 2070., 1346., 1170., 1165., 1180.,\n",
       "       1150., 1070., 1190., 1387., 1318., 1364., 1316., 1189., 1431.,\n",
       "       1234., 1194., 1267., 1709., 1708., 1714., 1423., 1135., 1830.,\n",
       "       1214., 1208., 1232.,  990.,  950.,  908.,  889., 1038., 1130.,\n",
       "       1067., 1588., 1626., 1608., 2030., 1576., 1368., 1085., 1950.,\n",
       "       1227., 1347., 1448., 1195.,  957.,  987.,  960., 1296.,  995.,\n",
       "       1338., 1315., 1326., 1072., 1413., 1454., 1451., 1357., 1760.,\n",
       "        935., 1798., 1910., 1160., 1268., 1371., 1437., 1426., 1554.,\n",
       "       1474., 1508., 1556., 1529., 1592., 1459., 1567., 1436., 1471.,\n",
       "       1464., 1615., 1056., 1327., 1193.,  930., 1110., 1537., 1376.,\n",
       "       1185., 1398., 1676., 1120., 2040., 1287., 1005., 1137.,  833.,\n",
       "        782., 1323., 1203., 1022., 1237., 1352., 1298., 1790., 1800.,\n",
       "       1791., 1392., 1051., 1306., 1356., 1243., 1695., 1665., 1636.,\n",
       "       1661., 1613., 1638., 1631., 1621., 1664., 1662., 1595., 1607.,\n",
       "       1604., 1678., 1715., 1612., 1690., 1666., 1614., 1692., 1691.,\n",
       "       1628., 1632., 1629., 1758., 1587., 1620., 1617., 1735., 1643.,\n",
       "       1689., 1697., 1696., 1694., 1698., 1700., 1660., 1659., 1656.,\n",
       "       1623., 1602., 1705., 1710., 1523., 1534., 1308., 1713., 1707.,\n",
       "       1547., 1542., 1516., 1646., 1429., 1766., 1261., 1262., 1238.,\n",
       "       1273., 1393., 1416., 1404.,  866., 1217., 1923., 1324., 1266.,\n",
       "       1328., 1286., 1342., 1354., 1421., 1271., 1407., 1402., 1313.,\n",
       "       1379., 1373., 1449., 1297., 1241., 1458., 1247., 1288.,  914.,\n",
       "       1209., 1064., 1254., 1336., 1446., 1496., 1645., 1199., 1171.,\n",
       "       1809., 1810., 1808., 1704., 1205., 1781., 1786., 1191., 1156.,\n",
       "       1539., 1536., 1847., 1546., 1228., 1750., 1778., 1639., 1655.,\n",
       "       1242., 1201., 1131., 1125., 1229., 1269., 1292., 1249., 1293.,\n",
       "        983., 1284., 1805., 1785., 1653., 1409., 1669., 1717., 1224.,\n",
       "       1221., 1239., 1447., 1497., 1032., 1948., 1598., 1900.,  909.,\n",
       "        787., 1668., 1701., 1737.,  922.,  805., 1281., 2080., 2100.,\n",
       "       1468., 1163., 1166., 1283.,  861., 1074., 1075., 1331., 1252.,\n",
       "       1394., 1344., 1414., 1685., 1684., 1176., 1246.,  934.,  943.,\n",
       "        900.,  980., 1169., 1258., 1361., 1367., 1030., 1472., 1960.,\n",
       "        813., 1145., 1433., 1314.,  963., 1161., 1184., 1105., 1513.,\n",
       "       1780., 1824., 1753., 1060., 1118.,  985., 2410., 1055., 1332.,\n",
       "        830., 1035., 1484., 1172., 1206., 1202., 1341., 1343., 1045.,\n",
       "       1411., 2007., 1408.,  775., 1920., 1399., 1151.,  855.,  725.,\n",
       "        904., 1337., 1129., 1173., 1880., 1073., 1054.,  838., 1348.,\n",
       "       1289., 2019.,  870., 1061., 1167., 1003., 1918., 1276., 1182.,\n",
       "       1989., 1829., 1322., 2050., 1925., 2010., 2020., 2130., 1970.,\n",
       "       1090., 2615., 1619., 1755., 1396.,  860., 1543., 1138., 1048.,\n",
       "       1882., 1204.,  988., 1197., 1029., 2012., 2045., 1403., 1677.,\n",
       "       1606., 1551., 1178., 1401., 1236., 1222., 2616., 2489., 2896.,\n",
       "       2946., 1272., 1211., 1339., 1870., 1722., 1647., 1174., 1152.,\n",
       "       1233., 1253., 1031.,  856., 1801., 1039., 1940., 1770.])"
      ]
     },
     "execution_count": 1612,
     "metadata": {},
     "output_type": "execute_result"
    }
   ],
   "source": [
    "data['Wheelbase (mm)'].unique()"
   ]
  },
  {
   "cell_type": "code",
   "execution_count": 1613,
   "id": "9b04e5da",
   "metadata": {},
   "outputs": [
    {
     "data": {
      "text/plain": [
       "<AxesSubplot:xlabel='Wheelbase (mm)'>"
      ]
     },
     "execution_count": 1613,
     "metadata": {},
     "output_type": "execute_result"
    },
    {
     "data": {
      "image/png": "[encoded data removed]",
      "text/plain": [
       "<Figure size 640x480 with 1 Axes>"
      ]
     },
     "metadata": {},
     "output_type": "display_data"
    }
   ],
   "source": [
    "sns.boxplot(data['Wheelbase (mm)'])"
   ]
  },
  {
   "cell_type": "code",
   "execution_count": 1614,
   "id": "a9e1e3be",
   "metadata": {},
   "outputs": [
    {
     "data": {
      "text/plain": [
       "<AxesSubplot:>"
      ]
     },
     "execution_count": 1614,
     "metadata": {},
     "output_type": "execute_result"
    },
    {
     "data": {
      "image/png": "[encoded data removed]",
      "text/plain": [
       "<Figure size 640x480 with 1 Axes>"
      ]
     },
     "metadata": {},
     "output_type": "display_data"
    }
   ],
   "source": [
    "# for outliers\n",
    "from scipy.stats.mstats import winsorize\n",
    "# Winsorize the data at the 5th and 95th percentiles\n",
    "winsorized_data = winsorize(data['Wheelbase (mm)'], limits=[0.05, 0.05])\n",
    "sns.boxplot(winsorized_data)"
   ]
  },
  {
   "cell_type": "code",
   "execution_count": 1615,
   "id": "f055d1e2",
   "metadata": {},
   "outputs": [],
   "source": [
    "# for nan values , fill median\n",
    "data['Wheelbase (mm)'].fillna(data['Wheelbase (mm)'].median(), inplace=True)"
   ]
  },
  {
   "cell_type": "code",
   "execution_count": 1616,
   "id": "c35f98f3",
   "metadata": {},
   "outputs": [
    {
     "data": {
      "text/plain": [
       "0"
      ]
     },
     "execution_count": 1616,
     "metadata": {},
     "output_type": "execute_result"
    }
   ],
   "source": [
    "data['Wheelbase (mm)'].isna().sum()"
   ]
  },
  {
   "cell_type": "markdown",
   "id": "8d5aff6c",
   "metadata": {},
   "source": [
    "# Seat height (mm)"
   ]
  },
  {
   "cell_type": "code",
   "execution_count": 1617,
   "id": "5f221dbb",
   "metadata": {},
   "outputs": [
    {
     "data": {
      "text/plain": [
       "array([  nan,  750.,  610.,  740.,  700.,  770.,  720.,  800.,  775.,\n",
       "        650.,  762.,  780.,  515.,  815.,  790.,  535.,  550.,  850.,\n",
       "        920.,  774.,  735.,  820.,  710.,  600.,  870.,  840.,  810.,\n",
       "        910.,  905.,  940.,  890.,  960.,  760.,  640.,  787.,  825.,\n",
       "        789.,  686.,  690.,  865.,  950.,  635.,  970.,  927.,  953.,\n",
       "        902.,  730.,  643.,  660.,  678.,  860.,  880.,  734.,  615.,\n",
       "        754.,  830.,  846.,  845.,  817.,  835.,  805.,  785.,  851.,\n",
       "        925.,  996.,  918.,  813.,  795.,  797.,  799.,  875.,   87.,\n",
       "        706.,  267.,  745.,  965.,  914.,  945.,  831.,  709.,  784.,\n",
       "        743.,  771.,  765.,  766.,  737.,  798.,  807.,  804.,  838.,\n",
       "        864.,  828.,  711.,  818.,  859.,  559.,  622.,  863.,  680.,\n",
       "        652.,  620.,  670.,  695.,  570.,  490.,  575.,  886.,  930.,\n",
       "        933.,  935.,  928.,  885.,  894.,  980.,  508.,  483.,  584.,\n",
       "        597.,  648.,  616.,  755.,  757.,  768.,  739.,  724.,  715.,\n",
       "        911.,  701.,  855.,  879.,  861.,  833.,  955.,  900.,  749.,\n",
       "        832.,  889.,  826.,  691.,  719.,  808.,  895.,  814.,  823.,\n",
       "        673.,  839.,  699.,  777.,  726.,  756.,  759.,  843.,  836.,\n",
       "       1011.,  725.,  685.,  991.,  877.,  876.,  858.,  675.,  772.,\n",
       "        827.,  776.,  916.,  585.,  540.,  530., 1057.,  718.,  909.,\n",
       "        580.,  944.,  533.,  518.,  520.,  630.,  560.,  607.,  558.,\n",
       "        781., 1425.,  552.,  705.,  746.,  671.,  812.,  803.,  778.,\n",
       "        698.,  793.,  915.,  732.,  946., 1020.,  786.,  959.,  966.,\n",
       "        665.,  866.,  470.,  385.,  590.,  794.,  500.,  676.,  736.,\n",
       "        688.,  663.,  655.,  653.,  654.,  693.,  704.,  658.,  696.,\n",
       "        681.,  668.,  679.,  779.,  692.,  647.,  714.,  684.,  683.,\n",
       "        729.,  744.,  721.,  644.,  697.,  645.,  669.,  627.,  657.,\n",
       "        767.,  641.,  713.,  689.,  738.,  728.,  708.,  642.,  638.,\n",
       "        672.,  659.,  605.,  662.,  723.,  687.,  667.,  742.,  758.,\n",
       "        841.,  998.,  899.,  908.,  712.,  871.,  792.,  773.,  747.,\n",
       "        716.,  816.,  788.,  782.,  764.,  769.,  947.,  949.,  942.,\n",
       "        952.,  937.,  868.,  963.,  958.,  549.,  878.,  884.,  881.,\n",
       "        874.,  951.,  964.,  954.,  957.,  548.,  869.,  856.,  761.,\n",
       "        809.,  791.,  703.,  887.,  822.,  917.,  924.,  751.,  802.,\n",
       "        848.,  551.,  819.,  510.,  985.,  990.,  901.,  992.,  872.,\n",
       "        975.,  929.,  968.,  599.,  919.,  589.,  656.,  649., 1060.,\n",
       "        904.,  480.,  883.,  842.,  834.,  837.,  555.,  892.,  824.,\n",
       "        390.,  406.,  572.,  763.,  752.,  931.,  857.,  811.,  495.,\n",
       "        801.,  898.,  854.,  882.,  546.,  400.,  395.,  455.,  425.,\n",
       "        460.,  595.,  450.,  457.,  564.,  907.,  903.,  896.,  636.,\n",
       "        646.,  602.,  625.,  936.,  806.,  829.,  995.,  783.,  603.,\n",
       "        629., 7501.,  485.,  475.,  556.,  554.,  982.,  978.,  618.,\n",
       "        994.,  993.,  997.,  983.,  988.,   39.,  976.,  986., 1001.,\n",
       "       1000.,  989.])"
      ]
     },
     "execution_count": 1617,
     "metadata": {},
     "output_type": "execute_result"
    }
   ],
   "source": [
    "data['Seat height (mm)'].unique()"
   ]
  },
  {
   "cell_type": "code",
   "execution_count": 1618,
   "id": "d29bccb5",
   "metadata": {},
   "outputs": [
    {
     "data": {
      "text/plain": [
       "<AxesSubplot:xlabel='Seat height (mm)'>"
      ]
     },
     "execution_count": 1618,
     "metadata": {},
     "output_type": "execute_result"
    },
    {
     "data": {
      "image/png": "[encoded data removed]",
      "text/plain": [
       "<Figure size 640x480 with 1 Axes>"
      ]
     },
     "metadata": {},
     "output_type": "display_data"
    }
   ],
   "source": [
    "sns.boxplot(data['Seat height (mm)'])"
   ]
  },
  {
   "cell_type": "code",
   "execution_count": 1619,
   "id": "10ea850b",
   "metadata": {},
   "outputs": [
    {
     "data": {
      "text/plain": [
       "<AxesSubplot:>"
      ]
     },
     "execution_count": 1619,
     "metadata": {},
     "output_type": "execute_result"
    },
    {
     "data": {
      "image/png": "[encoded data removed]",
      "text/plain": [
       "<Figure size 640x480 with 1 Axes>"
      ]
     },
     "metadata": {},
     "output_type": "display_data"
    }
   ],
   "source": [
    "#for outliers\n",
    "from scipy.stats.mstats import winsorize\n",
    "# Winsorize the data at the 5th and 95th percentiles\n",
    "winsorized_data = winsorize(data['Seat height (mm)'], limits=[0.05, 0.05])\n",
    "sns.boxplot(winsorized_data)"
   ]
  },
  {
   "cell_type": "code",
   "execution_count": 1620,
   "id": "ed9be7f6",
   "metadata": {},
   "outputs": [],
   "source": [
    "# for nan values , fill median\n",
    "data['Seat height (mm)'].fillna(data['Seat height (mm)'].median(), inplace=True)"
   ]
  },
  {
   "cell_type": "markdown",
   "id": "9c482940",
   "metadata": {},
   "source": [
    "# Check"
   ]
  },
  {
   "cell_type": "code",
   "execution_count": 1621,
   "id": "ab1d3ff2",
   "metadata": {},
   "outputs": [
    {
     "name": "stdout",
     "output_type": "stream",
     "text": [
      "<class 'pandas.core.frame.DataFrame'>\n",
      "Int64Index: 38472 entries, 0 to 38476\n",
      "Data columns (total 17 columns):\n",
      " #   Column             Non-Null Count  Dtype  \n",
      "---  ------             --------------  -----  \n",
      " 0   Brand              38472 non-null  object \n",
      " 1   Model              38472 non-null  object \n",
      " 2   Category           38472 non-null  object \n",
      " 3   Engine cylinder    38472 non-null  object \n",
      " 4   Engine stroke      38472 non-null  object \n",
      " 5   Gearbox            38472 non-null  object \n",
      " 6   Fuel system        38472 non-null  object \n",
      " 7   Fuel control       38472 non-null  object \n",
      " 8   Cooling system     38472 non-null  object \n",
      " 9   Transmission type  38472 non-null  object \n",
      " 10  Wheelbase (mm)     38472 non-null  float64\n",
      " 11  Seat height (mm)   38472 non-null  float64\n",
      " 12  Prod_year          38472 non-null  int64  \n",
      " 13  Displacment_cmm    38472 non-null  float64\n",
      " 14  Power_hp           38472 non-null  float64\n",
      " 15  Fuel_capacity_lts  38472 non-null  float64\n",
      " 16  Dry_weight_kg      38472 non-null  float64\n",
      "dtypes: float64(6), int64(1), object(10)\n",
      "memory usage: 5.3+ MB\n"
     ]
    }
   ],
   "source": [
    "data.info()"
   ]
  },
  {
   "cell_type": "code",
   "execution_count": 1622,
   "id": "d10a76f3",
   "metadata": {},
   "outputs": [
    {
     "data": {
      "text/plain": [
       "Brand                0\n",
       "Model                0\n",
       "Category             0\n",
       "Engine cylinder      0\n",
       "Engine stroke        0\n",
       "Gearbox              0\n",
       "Fuel system          0\n",
       "Fuel control         0\n",
       "Cooling system       0\n",
       "Transmission type    0\n",
       "Wheelbase (mm)       0\n",
       "Seat height (mm)     0\n",
       "Prod_year            0\n",
       "Displacment_cmm      0\n",
       "Power_hp             0\n",
       "Fuel_capacity_lts    0\n",
       "Dry_weight_kg        0\n",
       "dtype: int64"
      ]
     },
     "execution_count": 1622,
     "metadata": {},
     "output_type": "execute_result"
    }
   ],
   "source": [
    "data.isna().sum()"
   ]
  }
 ],
 "metadata": {
  "kernelspec": {
   "display_name": "Python 3 (ipykernel)",
   "language": "python",
   "name": "python3"
  },
  "language_info": {
   "codemirror_mode": {
    "name": "ipython",
    "version": 3
   },
   "file_extension": ".py",
   "mimetype": "text/x-python",
   "name": "python",
   "nbconvert_exporter": "python",
   "pygments_lexer": "ipython3",
   "version": "3.9.13"
  }
 },
 "nbformat": 4,
 "nbformat_minor": 5
}
